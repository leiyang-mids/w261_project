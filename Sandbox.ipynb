{
 "cells": [
  {
   "cell_type": "code",
   "execution_count": 1,
   "metadata": {
    "collapsed": true
   },
   "outputs": [],
   "source": [
    "import numpy as np\n",
    "import queue"
   ]
  },
  {
   "cell_type": "markdown",
   "metadata": {},
   "source": [
    "# Poisson patients arrival simulation"
   ]
  },
  {
   "cell_type": "code",
   "execution_count": 71,
   "metadata": {
    "collapsed": false,
    "scrolled": false
   },
   "outputs": [
    {
     "name": "stdout",
     "output_type": "stream",
     "text": [
      "day started at 0\n",
      "patient 1 arrives at 23 minutes\n",
      "start treating patient 1 at 23 minutes, this will take 16 minutes until 39 minutes\n",
      "patient 2 arrives at 45 minutes\n",
      "start treating patient 2 at 45 minutes, this will take 13 minutes until 58 minutes\n",
      "patient 3 arrives at 59 minutes\n",
      "start treating patient 3 at 59 minutes, this will take 11 minutes until 70 minutes\n",
      "patient 4 arrives at 78 minutes\n",
      "start treating patient 4 at 78 minutes, this will take 17 minutes until 95 minutes\n",
      "patient 5 arrives at 103 minutes\n",
      "start treating patient 5 at 103 minutes, this will take 13 minutes until 116 minutes\n",
      "patient 6 arrives at 126 minutes\n",
      "start treating patient 6 at 126 minutes, this will take 15 minutes until 141 minutes\n",
      "patient 7 arrives at 154 minutes\n",
      "start treating patient 7 at 154 minutes, this will take 19 minutes until 173 minutes\n",
      "patient 8 arrives at 168 minutes\n",
      "patient 8 needs to wait 5 minutes\n",
      "start treating patient 8 at 173 minutes, this will take 15 minutes until 188 minutes\n",
      "patient 9 arrives at 188 minutes\n",
      "start treating patient 9 at 188 minutes, this will take 16 minutes until 204 minutes\n",
      "patient 10 arrives at 211 minutes\n",
      "start treating patient 10 at 211 minutes, this will take 19 minutes until 230 minutes\n",
      "patient 11 arrives at 231 minutes\n",
      "start treating patient 11 at 231 minutes, this will take 13 minutes until 244 minutes\n",
      "patient 12 arrives at 242 minutes\n",
      "patient 12 needs to wait 2 minutes\n",
      "start treating patient 12 at 244 minutes, this will take 14 minutes until 258 minutes\n",
      "patient 13 arrives at 266 minutes\n",
      "start treating patient 13 at 266 minutes, this will take 15 minutes until 281 minutes\n",
      "patient 14 arrives at 285 minutes\n",
      "start treating patient 14 at 285 minutes, this will take 9 minutes until 294 minutes\n",
      "patient 15 arrives at 304 minutes\n",
      "start treating patient 15 at 304 minutes, this will take 10 minutes until 314 minutes\n",
      "patient 16 arrives at 319 minutes\n",
      "start treating patient 16 at 319 minutes, this will take 16 minutes until 335 minutes\n",
      "patient 17 arrives at 343 minutes\n",
      "start treating patient 17 at 343 minutes, this will take 21 minutes until 364 minutes\n",
      "patient 18 arrives at 363 minutes\n",
      "patient 18 needs to wait 1 minutes\n",
      "start treating patient 18 at 364 minutes, this will take 15 minutes until 379 minutes\n",
      "patient 19 arrives at 390 minutes\n",
      "start treating patient 19 at 390 minutes, this will take 13 minutes until 403 minutes\n",
      "patient 20 arrives at 413 minutes\n",
      "start treating patient 20 at 413 minutes, this will take 17 minutes until 430 minutes\n",
      "patient 21 arrives at 430 minutes\n",
      "start treating patient 21 at 430 minutes, this will take 18 minutes until 448 minutes\n",
      "patient 22 arrives at 456 minutes\n",
      "start treating patient 22 at 456 minutes, this will take 12 minutes until 468 minutes\n",
      "patient 23 arrives at 476 minutes\n",
      "start treating patient 23 at 476 minutes, this will take 15 minutes until 491 minutes\n",
      "day completed\n"
     ]
    }
   ],
   "source": [
    "isWaiting = True\n",
    "q = queue.Queue()\n",
    "n_hour = 8\n",
    "time = 0\n",
    "i,j = 0,0\n",
    "next_time = 0\n",
    "arrival = 0\n",
    "print('day started at 0')\n",
    "while 1:\n",
    "        \n",
    "    if q.qsize() == 0 and next_time < n_hour*60:\n",
    "        arrival += np.random.poisson(lam=20,size=1)[0]\n",
    "        q.put(arrival)\n",
    "        i+=1\n",
    "        print('patient %d arrives at %d minutes' %(i, arrival))\n",
    "        if arrival < next_time:\n",
    "            print('patient %d needs to wait %d minutes' %(i, next_time-arrival))\n",
    "        \n",
    "    if q.qsize() > 0:\n",
    "        j += 1\n",
    "        time = max(q.get(), next_time)\n",
    "        session_length = round(np.random.normal(loc=15,scale=3,size=1)[0])\n",
    "        next_time = time + session_length\n",
    "        print('start treating patient %d at %d minutes, this will take %d minutes until %d minutes' \n",
    "              %(j, time, session_length, next_time))\n",
    "        \n",
    "    if next_time >= n_hour*60:\n",
    "        print('day completed')\n",
    "        break"
   ]
  }
 ],
 "metadata": {
  "kernelspec": {
   "display_name": "Python 3",
   "language": "python",
   "name": "python3"
  },
  "language_info": {
   "codemirror_mode": {
    "name": "ipython",
    "version": 3
   },
   "file_extension": ".py",
   "mimetype": "text/x-python",
   "name": "python",
   "nbconvert_exporter": "python",
   "pygments_lexer": "ipython3",
   "version": "3.5.2"
  }
 },
 "nbformat": 4,
 "nbformat_minor": 1
}
