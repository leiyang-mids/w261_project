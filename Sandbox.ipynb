{
 "cells": [
  {
   "cell_type": "code",
   "execution_count": 1,
   "metadata": {
    "collapsed": false
   },
   "outputs": [],
   "source": [
    "import numpy as np\n",
    "import threading"
   ]
  },
  {
   "cell_type": "markdown",
   "metadata": {},
   "source": [
    "# Poisson patients arrival simulation"
   ]
  },
  {
   "cell_type": "code",
   "execution_count": 71,
   "metadata": {
    "collapsed": false,
    "scrolled": false
   },
   "outputs": [
    {
     "name": "stdout",
     "output_type": "stream",
     "text": [
      "day started at 0\n",
      "patient 1 arrives at 23 minutes\n",
      "start treating patient 1 at 23 minutes, this will take 16 minutes until 39 minutes\n",
      "patient 2 arrives at 45 minutes\n",
      "start treating patient 2 at 45 minutes, this will take 13 minutes until 58 minutes\n",
      "patient 3 arrives at 59 minutes\n",
      "start treating patient 3 at 59 minutes, this will take 11 minutes until 70 minutes\n",
      "patient 4 arrives at 78 minutes\n",
      "start treating patient 4 at 78 minutes, this will take 17 minutes until 95 minutes\n",
      "patient 5 arrives at 103 minutes\n",
      "start treating patient 5 at 103 minutes, this will take 13 minutes until 116 minutes\n",
      "patient 6 arrives at 126 minutes\n",
      "start treating patient 6 at 126 minutes, this will take 15 minutes until 141 minutes\n",
      "patient 7 arrives at 154 minutes\n",
      "start treating patient 7 at 154 minutes, this will take 19 minutes until 173 minutes\n",
      "patient 8 arrives at 168 minutes\n",
      "patient 8 needs to wait 5 minutes\n",
      "start treating patient 8 at 173 minutes, this will take 15 minutes until 188 minutes\n",
      "patient 9 arrives at 188 minutes\n",
      "start treating patient 9 at 188 minutes, this will take 16 minutes until 204 minutes\n",
      "patient 10 arrives at 211 minutes\n",
      "start treating patient 10 at 211 minutes, this will take 19 minutes until 230 minutes\n",
      "patient 11 arrives at 231 minutes\n",
      "start treating patient 11 at 231 minutes, this will take 13 minutes until 244 minutes\n",
      "patient 12 arrives at 242 minutes\n",
      "patient 12 needs to wait 2 minutes\n",
      "start treating patient 12 at 244 minutes, this will take 14 minutes until 258 minutes\n",
      "patient 13 arrives at 266 minutes\n",
      "start treating patient 13 at 266 minutes, this will take 15 minutes until 281 minutes\n",
      "patient 14 arrives at 285 minutes\n",
      "start treating patient 14 at 285 minutes, this will take 9 minutes until 294 minutes\n",
      "patient 15 arrives at 304 minutes\n",
      "start treating patient 15 at 304 minutes, this will take 10 minutes until 314 minutes\n",
      "patient 16 arrives at 319 minutes\n",
      "start treating patient 16 at 319 minutes, this will take 16 minutes until 335 minutes\n",
      "patient 17 arrives at 343 minutes\n",
      "start treating patient 17 at 343 minutes, this will take 21 minutes until 364 minutes\n",
      "patient 18 arrives at 363 minutes\n",
      "patient 18 needs to wait 1 minutes\n",
      "start treating patient 18 at 364 minutes, this will take 15 minutes until 379 minutes\n",
      "patient 19 arrives at 390 minutes\n",
      "start treating patient 19 at 390 minutes, this will take 13 minutes until 403 minutes\n",
      "patient 20 arrives at 413 minutes\n",
      "start treating patient 20 at 413 minutes, this will take 17 minutes until 430 minutes\n",
      "patient 21 arrives at 430 minutes\n",
      "start treating patient 21 at 430 minutes, this will take 18 minutes until 448 minutes\n",
      "patient 22 arrives at 456 minutes\n",
      "start treating patient 22 at 456 minutes, this will take 12 minutes until 468 minutes\n",
      "patient 23 arrives at 476 minutes\n",
      "start treating patient 23 at 476 minutes, this will take 15 minutes until 491 minutes\n",
      "day completed\n"
     ]
    }
   ],
   "source": [
    "isWaiting = True\n",
    "q = queue.Queue()\n",
    "n_hour = 8\n",
    "time = 0\n",
    "i,j = 0,0\n",
    "next_time = 0\n",
    "arrival = 0\n",
    "print('day started at 0')\n",
    "while 1:\n",
    "        \n",
    "    if q.qsize() == 0 and next_time < n_hour*60:\n",
    "        arrival += np.random.poisson(lam=20,size=1)[0]\n",
    "        q.put(arrival)\n",
    "        i+=1\n",
    "        print('patient %d arrives at %d minutes' %(i, arrival))\n",
    "        if arrival < next_time:\n",
    "            print('patient %d needs to wait %d minutes' %(i, next_time-arrival))\n",
    "        \n",
    "    if q.qsize() > 0:\n",
    "        j += 1\n",
    "        time = max(q.get(), next_time)\n",
    "        session_length = round(np.random.normal(loc=15,scale=3,size=1)[0])\n",
    "        next_time = time + session_length\n",
    "        print('start treating patient %d at %d minutes, this will take %d minutes until %d minutes' \n",
    "              %(j, time, session_length, next_time))\n",
    "        \n",
    "    if next_time >= n_hour*60:\n",
    "        print('day completed')\n",
    "        break"
   ]
  },
  {
   "cell_type": "code",
   "execution_count": 5,
   "metadata": {
    "collapsed": false
   },
   "outputs": [
    {
     "name": "stdout",
     "output_type": "stream",
     "text": [
      "day started at 0\n",
      "patient 1 arrives at 22 minutes\n",
      "start treating patient 1 at 22 minutes, this will take 25 minutes until 47 minutes\n",
      "patient 2 arrives at 31 minutes\n",
      "patient 2 needs to wait 16 minutes\n",
      "start treating patient 2 at 47 minutes, this will take 12 minutes until 59 minutes\n",
      "patient 3 arrives at 46 minutes\n",
      "patient 3 needs to wait 13 minutes\n",
      "start treating patient 3 at 59 minutes, this will take 16 minutes until 75 minutes\n",
      "patient 4 arrives at 61 minutes\n",
      "patient 4 needs to wait 14 minutes\n",
      "start treating patient 4 at 75 minutes, this will take 16 minutes until 91 minutes\n",
      "patient 5 arrives at 76 minutes\n",
      "patient 5 needs to wait 15 minutes\n",
      "start treating patient 5 at 91 minutes, this will take 15 minutes until 106 minutes\n",
      "patient 6 arrives at 90 minutes\n",
      "patient 6 needs to wait 16 minutes\n",
      "start treating patient 6 at 106 minutes, this will take 15 minutes until 121 minutes\n",
      "patient 7 arrives at 104 minutes\n",
      "patient 7 needs to wait 17 minutes\n",
      "start treating patient 7 at 121 minutes, this will take 18 minutes until 139 minutes\n",
      "patient 8 arrives at 117 minutes\n",
      "patient 8 needs to wait 22 minutes\n",
      "start treating patient 8 at 139 minutes, this will take 14 minutes until 153 minutes\n",
      "patient 9 arrives at 126 minutes\n",
      "patient 9 needs to wait 27 minutes\n",
      "start treating patient 9 at 153 minutes, this will take 11 minutes until 164 minutes\n",
      "patient 10 arrives at 134 minutes\n",
      "patient 10 needs to wait 30 minutes\n",
      "start treating patient 10 at 164 minutes, this will take 15 minutes until 179 minutes\n",
      "patient 11 arrives at 143 minutes\n",
      "patient 11 needs to wait 36 minutes\n",
      "start treating patient 11 at 179 minutes, this will take 18 minutes until 197 minutes\n",
      "patient 12 arrives at 153 minutes\n",
      "patient 12 needs to wait 44 minutes\n",
      "start treating patient 12 at 197 minutes, this will take 16 minutes until 213 minutes\n",
      "patient 13 arrives at 168 minutes\n",
      "patient 13 needs to wait 45 minutes\n",
      "start treating patient 13 at 213 minutes, this will take 10 minutes until 223 minutes\n",
      "patient 14 arrives at 174 minutes\n",
      "patient 14 needs to wait 49 minutes\n",
      "start treating patient 14 at 223 minutes, this will take 13 minutes until 236 minutes\n",
      "patient 15 arrives at 184 minutes\n",
      "patient 15 needs to wait 52 minutes\n",
      "start treating patient 15 at 236 minutes, this will take 19 minutes until 255 minutes\n",
      "patient 16 arrives at 186 minutes\n",
      "patient 16 needs to wait 69 minutes\n",
      "start treating patient 16 at 255 minutes, this will take 11 minutes until 266 minutes\n",
      "patient 17 arrives at 195 minutes\n",
      "patient 17 needs to wait 71 minutes\n",
      "start treating patient 17 at 266 minutes, this will take 17 minutes until 283 minutes\n",
      "patient 18 arrives at 209 minutes\n",
      "patient 18 needs to wait 74 minutes\n",
      "start treating patient 18 at 283 minutes, this will take 18 minutes until 301 minutes\n",
      "patient 19 arrives at 228 minutes\n",
      "patient 19 needs to wait 73 minutes\n",
      "start treating patient 19 at 301 minutes, this will take 11 minutes until 312 minutes\n",
      "patient 20 arrives at 242 minutes\n",
      "patient 20 needs to wait 70 minutes\n",
      "start treating patient 20 at 312 minutes, this will take 16 minutes until 328 minutes\n",
      "patient 21 arrives at 262 minutes\n",
      "patient 21 needs to wait 66 minutes\n",
      "start treating patient 21 at 328 minutes, this will take 13 minutes until 341 minutes\n",
      "patient 22 arrives at 266 minutes\n",
      "patient 22 needs to wait 75 minutes\n",
      "start treating patient 22 at 341 minutes, this will take 11 minutes until 352 minutes\n",
      "patient 23 arrives at 280 minutes\n",
      "patient 23 needs to wait 72 minutes\n",
      "start treating patient 23 at 352 minutes, this will take 17 minutes until 369 minutes\n",
      "patient 24 arrives at 291 minutes\n",
      "patient 24 needs to wait 78 minutes\n",
      "start treating patient 24 at 369 minutes, this will take 14 minutes until 383 minutes\n",
      "patient 25 arrives at 312 minutes\n",
      "patient 25 needs to wait 71 minutes\n",
      "start treating patient 25 at 383 minutes, this will take 21 minutes until 404 minutes\n",
      "patient 26 arrives at 316 minutes\n",
      "patient 26 needs to wait 88 minutes\n",
      "start treating patient 26 at 404 minutes, this will take 16 minutes until 420 minutes\n",
      "patient 27 arrives at 331 minutes\n",
      "patient 27 needs to wait 89 minutes\n",
      "start treating patient 27 at 420 minutes, this will take 13 minutes until 433 minutes\n",
      "patient 28 arrives at 343 minutes\n",
      "patient 28 needs to wait 90 minutes\n",
      "start treating patient 28 at 433 minutes, this will take 15 minutes until 448 minutes\n",
      "patient 29 arrives at 359 minutes\n",
      "patient 29 needs to wait 89 minutes\n",
      "start treating patient 29 at 448 minutes, this will take 20 minutes until 468 minutes\n",
      "patient 30 arrives at 367 minutes\n",
      "patient 30 needs to wait 101 minutes\n",
      "start treating patient 30 at 468 minutes, this will take 12 minutes until 480 minutes\n",
      "day completed\n"
     ]
    }
   ],
   "source": [
    "n_hour = 8\n",
    "time = 0\n",
    "i,j = 0,0\n",
    "next_time = 0\n",
    "arrival = 0\n",
    "\n",
    "a = []\n",
    "# def enque(i=0):\n",
    "#     while 1:\n",
    "#         if len(a) == 1 and next_time < n_hour*60:\n",
    "#             a.append(np.random.poisson(lam=5,size=1)[0]+a[-1])\n",
    "#             i+=1\n",
    "#             print('patient %d arrives at %d minutes' %(i, a[-1]))\n",
    "#             if a[-1] < next_time:\n",
    "#                 print('patient %d needs to wait %d minutes\\n' %(i, next_time-a[-1]))\n",
    "        \n",
    "# t = threading.Thread(target=enque)\n",
    "# t.start()\n",
    "\n",
    "print('day started at 0')\n",
    "while 1:        \n",
    "    if len(a) == 0 and next_time < n_hour*60:\n",
    "        arrival += np.random.poisson(lam=13,size=1)[0]\n",
    "        a.append(arrival)\n",
    "        i+=1\n",
    "        print('patient %d arrives at %d minutes' %(i, arrival))\n",
    "        if arrival < next_time:\n",
    "            print('patient %d needs to wait %d minutes' %(i, next_time-arrival))\n",
    "        \n",
    "    if len(a) > 0:\n",
    "        j += 1        \n",
    "        time = max(a.pop(0), next_time)\n",
    "        session_length = round(np.random.normal(loc=15,scale=3,size=1)[0])\n",
    "        next_time = time + session_length\n",
    "        print('start treating patient %d at %d minutes, this will take %d minutes until %d minutes' \n",
    "              %(j, time, session_length, next_time))\n",
    "#         print('debug - size of a is %d' %len(a))\n",
    "        \n",
    "    if next_time >= n_hour*60:\n",
    "        print('day completed')\n",
    "        break"
   ]
  },
  {
   "cell_type": "markdown",
   "metadata": {},
   "source": [
    "# threading"
   ]
  },
  {
   "cell_type": "code",
   "execution_count": 6,
   "metadata": {
    "collapsed": false
   },
   "outputs": [],
   "source": [
    "def enque():\n",
    "    while 1:\n",
    "        if len(a) == 0 and next_time < n_hour*60:\n",
    "            arrival += np.random.poisson(lam=5,size=1)[0]\n",
    "            a.append(arrival)\n",
    "            i+=1\n",
    "            print('patient %d arrives at %d minutes' %(i, arrival))\n",
    "            if arrival < next_time:\n",
    "                print('patient %d needs to wait %d minutes' %(i, next_time-arrival))\n",
    "        \n",
    "t = threading.Thread(target=enque)"
   ]
  },
  {
   "cell_type": "code",
   "execution_count": 13,
   "metadata": {
    "collapsed": false
   },
   "outputs": [
    {
     "data": {
      "text/plain": [
       "[]"
      ]
     },
     "execution_count": 13,
     "metadata": {},
     "output_type": "execute_result"
    }
   ],
   "source": [
    "# t.start()\n",
    "# t.isAlive()\n",
    "next_time=0\n",
    "a"
   ]
  }
 ],
 "metadata": {
  "kernelspec": {
   "display_name": "Python 2",
   "language": "python",
   "name": "python2"
  },
  "language_info": {
   "codemirror_mode": {
    "name": "ipython",
    "version": 2
   },
   "file_extension": ".py",
   "mimetype": "text/x-python",
   "name": "python",
   "nbconvert_exporter": "python",
   "pygments_lexer": "ipython2",
   "version": "2.7.10"
  }
 },
 "nbformat": 4,
 "nbformat_minor": 1
}
