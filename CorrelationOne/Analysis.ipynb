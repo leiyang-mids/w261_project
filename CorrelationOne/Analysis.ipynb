{
 "cells": [
  {
   "cell_type": "code",
   "execution_count": 42,
   "metadata": {
    "collapsed": true
   },
   "outputs": [],
   "source": [
    "import sqlite3\n",
    "import pandas as pd\n",
    "from datetime import datetime"
   ]
  },
  {
   "cell_type": "code",
   "execution_count": 3,
   "metadata": {
    "collapsed": false
   },
   "outputs": [],
   "source": [
    "conn = sqlite3.connect('contentDiscovery.db')\n",
    "c = conn.cursor()"
   ]
  },
  {
   "cell_type": "code",
   "execution_count": 4,
   "metadata": {
    "collapsed": false
   },
   "outputs": [
    {
     "data": {
      "text/plain": [
       "<sqlite3.Cursor at 0x108efe490>"
      ]
     },
     "execution_count": 4,
     "metadata": {},
     "output_type": "execute_result"
    }
   ],
   "source": [
    "c.execute('select * from articles limit 10')"
   ]
  },
  {
   "cell_type": "code",
   "execution_count": 5,
   "metadata": {
    "collapsed": false
   },
   "outputs": [
    {
     "data": {
      "text/plain": [
       "[(1, 13746, 72, 31, '2015-01-01 00:01:14.412609'),\n",
       " (2, 3761, 94, 41, '2015-01-01 00:04:11.049356'),\n",
       " (3, 17863, 30, 31, '2015-01-01 00:29:34.334229'),\n",
       " (4, 5131, 39, 2, '2015-01-01 00:43:55.907851'),\n",
       " (5, 14849, 9, 22, '2015-01-01 01:21:04.230631'),\n",
       " (6, 10638, 49, 33, '2015-01-01 02:36:18.726190'),\n",
       " (7, 946, 80, 29, '2015-01-01 02:42:22.486977'),\n",
       " (8, 16144, 57, 12, '2015-01-01 03:18:24.314824'),\n",
       " (9, 12393, 31, 43, '2015-01-01 03:30:24.880365'),\n",
       " (10, 2814, 59, 31, '2015-01-01 03:31:04.541074')]"
      ]
     },
     "execution_count": 5,
     "metadata": {},
     "output_type": "execute_result"
    }
   ],
   "source": [
    "c.fetchall()"
   ]
  },
  {
   "cell_type": "markdown",
   "metadata": {},
   "source": [
    "CREATE TABLE users (\n",
    "       \t\tuser_id INTEGER NOT NULL,\n",
    "       \t\temail VARCHAR NOT NULL,\n",
    "       \t\tPRIMARY KEY (user_id),\n",
    "       \t\tUNIQUE (email)\n",
    "       \t);\n",
    "CREATE TABLE types (\n",
    "       \t\ttype_id INTEGER NOT NULL,\n",
    "       \t\tname VARCHAR NOT NULL,\n",
    "       \t\tPRIMARY KEY (type_id),\n",
    "       \t\tUNIQUE (name)\n",
    "       \t);\n",
    "CREATE TABLE topics (\n",
    "       \t\ttopic_id INTEGER NOT NULL,\n",
    "       \t\tname VARCHAR NOT NULL,\n",
    "       \t\tPRIMARY KEY (topic_id),\n",
    "       \t\tUNIQUE (name)\n",
    "       \t);\n",
    "CREATE TABLE articles (\n",
    "       \t\tarticle_id INTEGER NOT NULL,\n",
    "       \t\tauthor_id INTEGER NOT NULL,\n",
    "       \t\ttopic_id INTEGER NOT NULL,\n",
    "       \t\ttype_id INTEGER NOT NULL,\n",
    "       \t\tsubmission_time DATETIME NOT NULL,\n",
    "       \t\tPRIMARY KEY (article_id),\n",
    "       \t\tFOREIGN KEY(author_id) REFERENCES users(user_id)\n",
    "       \t\tFOREIGN KEY(topic_id) REFERENCES users(topic_id)\n",
    "       \t\tFOREIGN KEY(type_id) REFERENCES users(type_id)\n",
    "       \t);\n",
    "CREATE TABLE email_content (\n",
    "       \t\tcontent_id INTEGER NOT NULL,\n",
    "       \t\temail_id INTEGER NOT NULL,\n",
    "       \t\tuser_id INTEGER NOT NULL,\n",
    "       \t\tarticle_id INTEGER NOT NULL,\n",
    "       \t\tsend_time DATETIME NOT NULL,\n",
    "       \t\tPRIMARY KEY (content_id),\n",
    "       \t\tFOREIGN KEY(user_id) REFERENCES users(user_id),\n",
    "       \t\tFOREIGN KEY(article_id) REFERENCES articles(article_id)\n",
    "       \t);"
   ]
  },
  {
   "cell_type": "code",
   "execution_count": 8,
   "metadata": {
    "collapsed": false
   },
   "outputs": [
    {
     "name": "stdout",
     "output_type": "stream",
     "text": [
      "   article_id  author_id  topic_id  type_id             submission_time\n",
      "0           1      13746        72       31  2015-01-01 00:01:14.412609\n",
      "1           2       3761        94       41  2015-01-01 00:04:11.049356\n",
      "2           3      17863        30       31  2015-01-01 00:29:34.334229\n",
      "3           4       5131        39        2  2015-01-01 00:43:55.907851\n",
      "4           5      14849         9       22  2015-01-01 01:21:04.230631\n"
     ]
    }
   ],
   "source": [
    "# Read sqlite query results into a pandas DataFrame\n",
    "# con = sqlite3.connect(\"data/portal_mammals.sqlite\")\n",
    "df = pd.read_sql_query(\"SELECT * from articles limit 18\", conn)\n",
    "\n",
    "# verify that result of SQL query is stored in the dataframe\n",
    "print(df.head())\n",
    "\n",
    "conn.close()"
   ]
  },
  {
   "cell_type": "code",
   "execution_count": 32,
   "metadata": {
    "collapsed": false
   },
   "outputs": [
    {
     "data": {
      "text/html": [
       "<div>\n",
       "<table border=\"1\" class=\"dataframe\">\n",
       "  <thead>\n",
       "    <tr style=\"text-align: right;\">\n",
       "      <th></th>\n",
       "      <th>content_id</th>\n",
       "      <th>email_id</th>\n",
       "      <th>user_id</th>\n",
       "      <th>article_id</th>\n",
       "      <th>send_time</th>\n",
       "    </tr>\n",
       "  </thead>\n",
       "  <tbody>\n",
       "    <tr>\n",
       "      <th>0</th>\n",
       "      <td>26636</td>\n",
       "      <td>2339</td>\n",
       "      <td>14733</td>\n",
       "      <td>184</td>\n",
       "      <td>2015-01-02 08:28:32.530693</td>\n",
       "    </tr>\n",
       "    <tr>\n",
       "      <th>1</th>\n",
       "      <td>26637</td>\n",
       "      <td>2339</td>\n",
       "      <td>14733</td>\n",
       "      <td>182</td>\n",
       "      <td>2015-01-02 08:28:32.530693</td>\n",
       "    </tr>\n",
       "    <tr>\n",
       "      <th>2</th>\n",
       "      <td>26638</td>\n",
       "      <td>2339</td>\n",
       "      <td>14733</td>\n",
       "      <td>172</td>\n",
       "      <td>2015-01-02 08:28:32.530693</td>\n",
       "    </tr>\n",
       "    <tr>\n",
       "      <th>3</th>\n",
       "      <td>26639</td>\n",
       "      <td>2339</td>\n",
       "      <td>14733</td>\n",
       "      <td>52</td>\n",
       "      <td>2015-01-02 08:28:32.530693</td>\n",
       "    </tr>\n",
       "    <tr>\n",
       "      <th>4</th>\n",
       "      <td>26640</td>\n",
       "      <td>2339</td>\n",
       "      <td>14733</td>\n",
       "      <td>94</td>\n",
       "      <td>2015-01-02 08:28:32.530693</td>\n",
       "    </tr>\n",
       "    <tr>\n",
       "      <th>5</th>\n",
       "      <td>26641</td>\n",
       "      <td>2339</td>\n",
       "      <td>14733</td>\n",
       "      <td>138</td>\n",
       "      <td>2015-01-02 08:28:32.530693</td>\n",
       "    </tr>\n",
       "    <tr>\n",
       "      <th>6</th>\n",
       "      <td>26642</td>\n",
       "      <td>2339</td>\n",
       "      <td>14733</td>\n",
       "      <td>110</td>\n",
       "      <td>2015-01-02 08:28:32.530693</td>\n",
       "    </tr>\n",
       "    <tr>\n",
       "      <th>7</th>\n",
       "      <td>26643</td>\n",
       "      <td>2339</td>\n",
       "      <td>14733</td>\n",
       "      <td>81</td>\n",
       "      <td>2015-01-02 08:28:32.530693</td>\n",
       "    </tr>\n",
       "    <tr>\n",
       "      <th>8</th>\n",
       "      <td>26644</td>\n",
       "      <td>2339</td>\n",
       "      <td>14733</td>\n",
       "      <td>78</td>\n",
       "      <td>2015-01-02 08:28:32.530693</td>\n",
       "    </tr>\n",
       "    <tr>\n",
       "      <th>9</th>\n",
       "      <td>26645</td>\n",
       "      <td>2339</td>\n",
       "      <td>14733</td>\n",
       "      <td>54</td>\n",
       "      <td>2015-01-02 08:28:32.530693</td>\n",
       "    </tr>\n",
       "    <tr>\n",
       "      <th>10</th>\n",
       "      <td>26646</td>\n",
       "      <td>2339</td>\n",
       "      <td>14733</td>\n",
       "      <td>193</td>\n",
       "      <td>2015-01-02 08:28:32.530693</td>\n",
       "    </tr>\n",
       "    <tr>\n",
       "      <th>11</th>\n",
       "      <td>26647</td>\n",
       "      <td>2339</td>\n",
       "      <td>14733</td>\n",
       "      <td>236</td>\n",
       "      <td>2015-01-02 08:28:32.530693</td>\n",
       "    </tr>\n",
       "    <tr>\n",
       "      <th>12</th>\n",
       "      <td>26648</td>\n",
       "      <td>2339</td>\n",
       "      <td>14733</td>\n",
       "      <td>264</td>\n",
       "      <td>2015-01-02 08:28:32.530693</td>\n",
       "    </tr>\n",
       "    <tr>\n",
       "      <th>13</th>\n",
       "      <td>26649</td>\n",
       "      <td>2339</td>\n",
       "      <td>14733</td>\n",
       "      <td>254</td>\n",
       "      <td>2015-01-02 08:28:32.530693</td>\n",
       "    </tr>\n",
       "    <tr>\n",
       "      <th>14</th>\n",
       "      <td>26650</td>\n",
       "      <td>2339</td>\n",
       "      <td>14733</td>\n",
       "      <td>250</td>\n",
       "      <td>2015-01-02 08:28:32.530693</td>\n",
       "    </tr>\n",
       "    <tr>\n",
       "      <th>15</th>\n",
       "      <td>26651</td>\n",
       "      <td>2339</td>\n",
       "      <td>14733</td>\n",
       "      <td>6</td>\n",
       "      <td>2015-01-02 08:28:32.530693</td>\n",
       "    </tr>\n",
       "    <tr>\n",
       "      <th>16</th>\n",
       "      <td>26652</td>\n",
       "      <td>2339</td>\n",
       "      <td>14733</td>\n",
       "      <td>241</td>\n",
       "      <td>2015-01-02 08:28:32.530693</td>\n",
       "    </tr>\n",
       "    <tr>\n",
       "      <th>17</th>\n",
       "      <td>26653</td>\n",
       "      <td>2339</td>\n",
       "      <td>14733</td>\n",
       "      <td>45</td>\n",
       "      <td>2015-01-02 08:28:32.530693</td>\n",
       "    </tr>\n",
       "    <tr>\n",
       "      <th>18</th>\n",
       "      <td>26654</td>\n",
       "      <td>2339</td>\n",
       "      <td>14733</td>\n",
       "      <td>222</td>\n",
       "      <td>2015-01-02 08:28:32.530693</td>\n",
       "    </tr>\n",
       "    <tr>\n",
       "      <th>19</th>\n",
       "      <td>26655</td>\n",
       "      <td>2339</td>\n",
       "      <td>14733</td>\n",
       "      <td>205</td>\n",
       "      <td>2015-01-02 08:28:32.530693</td>\n",
       "    </tr>\n",
       "    <tr>\n",
       "      <th>20</th>\n",
       "      <td>26656</td>\n",
       "      <td>2339</td>\n",
       "      <td>14733</td>\n",
       "      <td>203</td>\n",
       "      <td>2015-01-02 08:28:32.530693</td>\n",
       "    </tr>\n",
       "    <tr>\n",
       "      <th>21</th>\n",
       "      <td>26657</td>\n",
       "      <td>2339</td>\n",
       "      <td>14733</td>\n",
       "      <td>7</td>\n",
       "      <td>2015-01-02 08:28:32.530693</td>\n",
       "    </tr>\n",
       "    <tr>\n",
       "      <th>22</th>\n",
       "      <td>26658</td>\n",
       "      <td>2339</td>\n",
       "      <td>14733</td>\n",
       "      <td>282</td>\n",
       "      <td>2015-01-02 08:28:32.530693</td>\n",
       "    </tr>\n",
       "    <tr>\n",
       "      <th>23</th>\n",
       "      <td>26659</td>\n",
       "      <td>2339</td>\n",
       "      <td>14733</td>\n",
       "      <td>37</td>\n",
       "      <td>2015-01-02 08:28:32.530693</td>\n",
       "    </tr>\n",
       "  </tbody>\n",
       "</table>\n",
       "</div>"
      ],
      "text/plain": [
       "    content_id  email_id  user_id  article_id                   send_time\n",
       "0        26636      2339    14733         184  2015-01-02 08:28:32.530693\n",
       "1        26637      2339    14733         182  2015-01-02 08:28:32.530693\n",
       "2        26638      2339    14733         172  2015-01-02 08:28:32.530693\n",
       "3        26639      2339    14733          52  2015-01-02 08:28:32.530693\n",
       "4        26640      2339    14733          94  2015-01-02 08:28:32.530693\n",
       "5        26641      2339    14733         138  2015-01-02 08:28:32.530693\n",
       "6        26642      2339    14733         110  2015-01-02 08:28:32.530693\n",
       "7        26643      2339    14733          81  2015-01-02 08:28:32.530693\n",
       "8        26644      2339    14733          78  2015-01-02 08:28:32.530693\n",
       "9        26645      2339    14733          54  2015-01-02 08:28:32.530693\n",
       "10       26646      2339    14733         193  2015-01-02 08:28:32.530693\n",
       "11       26647      2339    14733         236  2015-01-02 08:28:32.530693\n",
       "12       26648      2339    14733         264  2015-01-02 08:28:32.530693\n",
       "13       26649      2339    14733         254  2015-01-02 08:28:32.530693\n",
       "14       26650      2339    14733         250  2015-01-02 08:28:32.530693\n",
       "15       26651      2339    14733           6  2015-01-02 08:28:32.530693\n",
       "16       26652      2339    14733         241  2015-01-02 08:28:32.530693\n",
       "17       26653      2339    14733          45  2015-01-02 08:28:32.530693\n",
       "18       26654      2339    14733         222  2015-01-02 08:28:32.530693\n",
       "19       26655      2339    14733         205  2015-01-02 08:28:32.530693\n",
       "20       26656      2339    14733         203  2015-01-02 08:28:32.530693\n",
       "21       26657      2339    14733           7  2015-01-02 08:28:32.530693\n",
       "22       26658      2339    14733         282  2015-01-02 08:28:32.530693\n",
       "23       26659      2339    14733          37  2015-01-02 08:28:32.530693"
      ]
     },
     "execution_count": 32,
     "metadata": {},
     "output_type": "execute_result"
    }
   ],
   "source": [
    "conn = sqlite3.connect('contentDiscovery.db')\n",
    "df = pd.read_sql_query(\"select * from email_content where email_id=2339\", conn)\n",
    "df"
   ]
  },
  {
   "cell_type": "code",
   "execution_count": 36,
   "metadata": {
    "collapsed": false
   },
   "outputs": [
    {
     "name": "stdout",
     "output_type": "stream",
     "text": [
      "[02/Jan/2015:08:07:32] \"GET /click?article_id=162&user_id=5475 HTTP/1.1\" 200 4352\n",
      "[02/Jan/2015:08:08:43] \"GET /click?article_id=139&user_id=19550 HTTP/1.1\" 200 3078\n",
      "[02/Jan/2015:08:09:01] \"GET /click?article_id=87&user_id=9408 HTTP/1.1\" 200 2005\n",
      "[02/Jan/2015:08:09:18] \"GET /click?article_id=175&user_id=9408 HTTP/1.1\" 200 3467\n",
      "[02/Jan/2015:08:09:42] \"GET /click?article_id=54&user_id=9531 HTTP/1.1\" 200 7097\n",
      "[02/Jan/2015:08:09:51] \"GET /click?article_id=25&user_id=14306 HTTP/1.1\" 200 2327\n",
      "[02/Jan/2015:08:10:00] \"GET /click?article_id=46&user_id=10739 HTTP/1.1\" 200 2509\n",
      "[02/Jan/2015:08:10:12] \"GET /click?article_id=142&user_id=10325 HTTP/1.1\" 200 3430\n",
      "[02/Jan/2015:08:10:23] \"GET /click?article_id=25&user_id=104 HTTP/1.1\" 200 2327\n",
      "[02/Jan/2015:08:10:41] \"GET /click?article_id=90&user_id=10739 HTTP/1.1\" 200 2123\n",
      " 1770780 access.log\n"
     ]
    }
   ],
   "source": [
    "!head access.log\n",
    "!wc -l access.log"
   ]
  },
  {
   "cell_type": "code",
   "execution_count": 35,
   "metadata": {
    "collapsed": false
   },
   "outputs": [
    {
     "data": {
      "text/html": [
       "<div>\n",
       "<table border=\"1\" class=\"dataframe\">\n",
       "  <thead>\n",
       "    <tr style=\"text-align: right;\">\n",
       "      <th></th>\n",
       "      <th>content_id</th>\n",
       "      <th>email_id</th>\n",
       "      <th>user_id</th>\n",
       "      <th>article_id</th>\n",
       "      <th>send_time</th>\n",
       "    </tr>\n",
       "  </thead>\n",
       "  <tbody>\n",
       "    <tr>\n",
       "      <th>0</th>\n",
       "      <td>4968</td>\n",
       "      <td>437</td>\n",
       "      <td>10739</td>\n",
       "      <td>90</td>\n",
       "      <td>2015-01-02 08:08:14.580204</td>\n",
       "    </tr>\n",
       "  </tbody>\n",
       "</table>\n",
       "</div>"
      ],
      "text/plain": [
       "   content_id  email_id  user_id  article_id                   send_time\n",
       "0        4968       437    10739          90  2015-01-02 08:08:14.580204"
      ]
     },
     "execution_count": 35,
     "metadata": {},
     "output_type": "execute_result"
    }
   ],
   "source": [
    "pd.read_sql_query(\"select * from email_content where user_id=10739 and article_id=90\", conn)"
   ]
  },
  {
   "cell_type": "code",
   "execution_count": 99,
   "metadata": {
    "collapsed": false
   },
   "outputs": [],
   "source": [
    "with open('access.log','r') as f:\n",
    "    for l in f.readlines():\n",
    "        elem = l.split(' ')\n",
    "        user,article = [x.split('=')[1] for x in elem[2].split('&')]\n",
    "        ts = datetime.strptime(elem[0][1:-1], '%d/%b/%Y:%H:%M:%S')\n",
    "        wn = datetime.date(ts).isocalendar()[1]\n",
    "        c.execute(\"INSERT INTO clicks VALUES ('%s','%d_%02d',%s,%s,%s,%s)\" \n",
    "                  %(ts.strftime('%Y-%m-%d %H:%M:%S'), ts.year, wn, user, article, elem[-2], elem[-1]))\n",
    "    conn.commit()"
   ]
  },
  {
   "cell_type": "code",
   "execution_count": 98,
   "metadata": {
    "collapsed": false
   },
   "outputs": [
    {
     "data": {
      "text/plain": [
       "<sqlite3.Cursor at 0x10b6b29d0>"
      ]
     },
     "execution_count": 98,
     "metadata": {},
     "output_type": "execute_result"
    }
   ],
   "source": [
    "c = conn.cursor()\n",
    "\n",
    "# Create table\n",
    "c.execute('''\n",
    "            CREATE TABLE clicks (\n",
    "       \t\tclick_time DATETIME NOT NULL,\n",
    "            week_num varchar not null,\n",
    "            article_id INTEGER NOT NULL,\n",
    "            user_id INTEGER NOT NULL,\n",
    "            status INTEGER NOT NULL,\n",
    "       \t\tbsize INTEGER NOT NULL,       \t\t\n",
    "       \t\tFOREIGN KEY(user_id) REFERENCES users(user_id),\n",
    "       \t\tFOREIGN KEY(article_id) REFERENCES articles(article_id)\n",
    "       \t)''')"
   ]
  },
  {
   "cell_type": "code",
   "execution_count": 113,
   "metadata": {
    "collapsed": true
   },
   "outputs": [],
   "source": [
    "# c.execute('drop table clicks')\n",
    "# c.execute('alter table email_content add column week_num varchar')\n",
    "# substr('00'||3, -2, 2)\n",
    "c.execute(\"update email_content set week_num = substr(send_time,1,4)||'_'||substr('00'||(strftime('%W',send_time)+1),-2,2)\")\n",
    "conn.commit()"
   ]
  },
  {
   "cell_type": "code",
   "execution_count": 100,
   "metadata": {
    "collapsed": false
   },
   "outputs": [
    {
     "data": {
      "text/html": [
       "<div>\n",
       "<table border=\"1\" class=\"dataframe\">\n",
       "  <thead>\n",
       "    <tr style=\"text-align: right;\">\n",
       "      <th></th>\n",
       "      <th>cnt</th>\n",
       "      <th>week_num</th>\n",
       "    </tr>\n",
       "  </thead>\n",
       "  <tbody>\n",
       "    <tr>\n",
       "      <th>0</th>\n",
       "      <td>35838</td>\n",
       "      <td>2015_01</td>\n",
       "    </tr>\n",
       "    <tr>\n",
       "      <th>1</th>\n",
       "      <td>147464</td>\n",
       "      <td>2015_02</td>\n",
       "    </tr>\n",
       "    <tr>\n",
       "      <th>2</th>\n",
       "      <td>146516</td>\n",
       "      <td>2015_03</td>\n",
       "    </tr>\n",
       "    <tr>\n",
       "      <th>3</th>\n",
       "      <td>133022</td>\n",
       "      <td>2015_04</td>\n",
       "    </tr>\n",
       "    <tr>\n",
       "      <th>4</th>\n",
       "      <td>136998</td>\n",
       "      <td>2015_05</td>\n",
       "    </tr>\n",
       "    <tr>\n",
       "      <th>5</th>\n",
       "      <td>135298</td>\n",
       "      <td>2015_06</td>\n",
       "    </tr>\n",
       "    <tr>\n",
       "      <th>6</th>\n",
       "      <td>147308</td>\n",
       "      <td>2015_07</td>\n",
       "    </tr>\n",
       "    <tr>\n",
       "      <th>7</th>\n",
       "      <td>137616</td>\n",
       "      <td>2015_08</td>\n",
       "    </tr>\n",
       "    <tr>\n",
       "      <th>8</th>\n",
       "      <td>135845</td>\n",
       "      <td>2015_09</td>\n",
       "    </tr>\n",
       "    <tr>\n",
       "      <th>9</th>\n",
       "      <td>137000</td>\n",
       "      <td>2015_10</td>\n",
       "    </tr>\n",
       "    <tr>\n",
       "      <th>10</th>\n",
       "      <td>137596</td>\n",
       "      <td>2015_11</td>\n",
       "    </tr>\n",
       "    <tr>\n",
       "      <th>11</th>\n",
       "      <td>139033</td>\n",
       "      <td>2015_12</td>\n",
       "    </tr>\n",
       "    <tr>\n",
       "      <th>12</th>\n",
       "      <td>142558</td>\n",
       "      <td>2015_13</td>\n",
       "    </tr>\n",
       "    <tr>\n",
       "      <th>13</th>\n",
       "      <td>58689</td>\n",
       "      <td>2015_14</td>\n",
       "    </tr>\n",
       "  </tbody>\n",
       "</table>\n",
       "</div>"
      ],
      "text/plain": [
       "       cnt week_num\n",
       "0    35838  2015_01\n",
       "1   147464  2015_02\n",
       "2   146516  2015_03\n",
       "3   133022  2015_04\n",
       "4   136998  2015_05\n",
       "5   135298  2015_06\n",
       "6   147308  2015_07\n",
       "7   137616  2015_08\n",
       "8   135845  2015_09\n",
       "9   137000  2015_10\n",
       "10  137596  2015_11\n",
       "11  139033  2015_12\n",
       "12  142558  2015_13\n",
       "13   58689  2015_14"
      ]
     },
     "execution_count": 100,
     "metadata": {},
     "output_type": "execute_result"
    }
   ],
   "source": [
    "pd.read_sql_query(\"select count(*) as cnt, week_num from clicks group by week_num\", conn)"
   ]
  },
  {
   "cell_type": "code",
   "execution_count": 114,
   "metadata": {
    "collapsed": false
   },
   "outputs": [
    {
     "data": {
      "text/html": [
       "<div>\n",
       "<table border=\"1\" class=\"dataframe\">\n",
       "  <thead>\n",
       "    <tr style=\"text-align: right;\">\n",
       "      <th></th>\n",
       "      <th>cnt</th>\n",
       "      <th>week_num</th>\n",
       "    </tr>\n",
       "  </thead>\n",
       "  <tbody>\n",
       "    <tr>\n",
       "      <th>0</th>\n",
       "      <td>209160</td>\n",
       "      <td>2015_01</td>\n",
       "    </tr>\n",
       "    <tr>\n",
       "      <th>1</th>\n",
       "      <td>883576</td>\n",
       "      <td>2015_02</td>\n",
       "    </tr>\n",
       "    <tr>\n",
       "      <th>2</th>\n",
       "      <td>893331</td>\n",
       "      <td>2015_03</td>\n",
       "    </tr>\n",
       "    <tr>\n",
       "      <th>3</th>\n",
       "      <td>805855</td>\n",
       "      <td>2015_04</td>\n",
       "    </tr>\n",
       "    <tr>\n",
       "      <th>4</th>\n",
       "      <td>826829</td>\n",
       "      <td>2015_05</td>\n",
       "    </tr>\n",
       "    <tr>\n",
       "      <th>5</th>\n",
       "      <td>834705</td>\n",
       "      <td>2015_06</td>\n",
       "    </tr>\n",
       "    <tr>\n",
       "      <th>6</th>\n",
       "      <td>879682</td>\n",
       "      <td>2015_07</td>\n",
       "    </tr>\n",
       "    <tr>\n",
       "      <th>7</th>\n",
       "      <td>853286</td>\n",
       "      <td>2015_08</td>\n",
       "    </tr>\n",
       "    <tr>\n",
       "      <th>8</th>\n",
       "      <td>820912</td>\n",
       "      <td>2015_09</td>\n",
       "    </tr>\n",
       "    <tr>\n",
       "      <th>9</th>\n",
       "      <td>839918</td>\n",
       "      <td>2015_10</td>\n",
       "    </tr>\n",
       "    <tr>\n",
       "      <th>10</th>\n",
       "      <td>858555</td>\n",
       "      <td>2015_11</td>\n",
       "    </tr>\n",
       "    <tr>\n",
       "      <th>11</th>\n",
       "      <td>826004</td>\n",
       "      <td>2015_12</td>\n",
       "    </tr>\n",
       "    <tr>\n",
       "      <th>12</th>\n",
       "      <td>854079</td>\n",
       "      <td>2015_13</td>\n",
       "    </tr>\n",
       "    <tr>\n",
       "      <th>13</th>\n",
       "      <td>352114</td>\n",
       "      <td>2015_14</td>\n",
       "    </tr>\n",
       "  </tbody>\n",
       "</table>\n",
       "</div>"
      ],
      "text/plain": [
       "       cnt week_num\n",
       "0   209160  2015_01\n",
       "1   883576  2015_02\n",
       "2   893331  2015_03\n",
       "3   805855  2015_04\n",
       "4   826829  2015_05\n",
       "5   834705  2015_06\n",
       "6   879682  2015_07\n",
       "7   853286  2015_08\n",
       "8   820912  2015_09\n",
       "9   839918  2015_10\n",
       "10  858555  2015_11\n",
       "11  826004  2015_12\n",
       "12  854079  2015_13\n",
       "13  352114  2015_14"
      ]
     },
     "execution_count": 114,
     "metadata": {},
     "output_type": "execute_result"
    }
   ],
   "source": [
    "sql = 'select count(*) as cnt, week_num from email_content group by week_num'\n",
    "# sql = 'select count(*) as cnt, type_id from articles group by type_id'\n",
    "# sql = \"select substr(send_time, 1,4)||'_'||(strftime('%W',send_time)+1) as wn from email_content limit 10\"\n",
    "\n",
    "pd.read_sql_query(sql, conn)"
   ]
  }
 ],
 "metadata": {
  "kernelspec": {
   "display_name": "Python 3",
   "language": "python",
   "name": "python3"
  },
  "language_info": {
   "codemirror_mode": {
    "name": "ipython",
    "version": 3
   },
   "file_extension": ".py",
   "mimetype": "text/x-python",
   "name": "python",
   "nbconvert_exporter": "python",
   "pygments_lexer": "ipython3",
   "version": "3.5.2"
  }
 },
 "nbformat": 4,
 "nbformat_minor": 1
}
