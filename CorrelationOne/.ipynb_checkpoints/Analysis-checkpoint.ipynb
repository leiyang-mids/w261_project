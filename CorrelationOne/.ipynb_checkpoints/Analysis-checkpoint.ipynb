{
 "cells": [
  {
   "cell_type": "code",
   "execution_count": 1,
   "metadata": {
    "collapsed": false
   },
   "outputs": [],
   "source": [
    "%matplotlib inline\n",
    "from datetime import datetime\n",
    "from enum import Enum\n",
    "import sqlite3, re\n",
    "import pandas as pd\n",
    "import numpy as np\n",
    "import matplotlib.pyplot as plt"
   ]
  },
  {
   "cell_type": "code",
   "execution_count": 2,
   "metadata": {
    "collapsed": false
   },
   "outputs": [
    {
     "name": "stdout",
     "output_type": "stream",
     "text": [
      "[02/Jan/2015:08:07:32] \"GET /click?article_id=162&user_id=5475 HTTP/1.1\" 200 4352\n",
      "[02/Jan/2015:08:08:43] \"GET /click?article_id=139&user_id=19550 HTTP/1.1\" 200 3078\n",
      "[02/Jan/2015:08:09:01] \"GET /click?article_id=87&user_id=9408 HTTP/1.1\" 200 2005\n",
      "[02/Jan/2015:08:09:18] \"GET /click?article_id=175&user_id=9408 HTTP/1.1\" 200 3467\n",
      "[02/Jan/2015:08:09:42] \"GET /click?article_id=54&user_id=9531 HTTP/1.1\" 200 7097\n",
      "[02/Jan/2015:08:09:51] \"GET /click?article_id=25&user_id=14306 HTTP/1.1\" 200 2327\n",
      "[02/Jan/2015:08:10:00] \"GET /click?article_id=46&user_id=10739 HTTP/1.1\" 200 2509\n",
      "[02/Jan/2015:08:10:12] \"GET /click?article_id=142&user_id=10325 HTTP/1.1\" 200 3430\n",
      "[02/Jan/2015:08:10:23] \"GET /click?article_id=25&user_id=104 HTTP/1.1\" 200 2327\n",
      "[02/Jan/2015:08:10:41] \"GET /click?article_id=90&user_id=10739 HTTP/1.1\" 200 2123\n",
      " 1770780\n"
     ]
    }
   ],
   "source": [
    "!head access.log\n",
    "!wc -l < access.log"
   ]
  },
  {
   "cell_type": "code",
   "execution_count": 2,
   "metadata": {
    "collapsed": true
   },
   "outputs": [],
   "source": [
    "conn = sqlite3.connect('contentDiscovery.db')\n",
    "\n",
    "def run_sql(sql, showSql = False):\n",
    "    if showSql:\n",
    "        print(sql)\n",
    "    return pd.read_sql_query(sql, conn)"
   ]
  },
  {
   "cell_type": "code",
   "execution_count": 20,
   "metadata": {
    "collapsed": false
   },
   "outputs": [
    {
     "data": {
      "text/html": [
       "<div>\n",
       "<table border=\"1\" class=\"dataframe\">\n",
       "  <thead>\n",
       "    <tr style=\"text-align: right;\">\n",
       "      <th></th>\n",
       "      <th>user_id</th>\n",
       "      <th>email</th>\n",
       "    </tr>\n",
       "  </thead>\n",
       "  <tbody>\n",
       "    <tr>\n",
       "      <th>0</th>\n",
       "      <td>1</td>\n",
       "      <td>portia.johnson@gwxga.com</td>\n",
       "    </tr>\n",
       "    <tr>\n",
       "      <th>1</th>\n",
       "      <td>2</td>\n",
       "      <td>marilyn.chavarria@tkvzv.com</td>\n",
       "    </tr>\n",
       "    <tr>\n",
       "      <th>2</th>\n",
       "      <td>3</td>\n",
       "      <td>james.conner@xsdeg.com</td>\n",
       "    </tr>\n",
       "    <tr>\n",
       "      <th>3</th>\n",
       "      <td>4</td>\n",
       "      <td>dallas.ellis@mmnzc.com</td>\n",
       "    </tr>\n",
       "    <tr>\n",
       "      <th>4</th>\n",
       "      <td>5</td>\n",
       "      <td>jimmy.hale@tvsij.com</td>\n",
       "    </tr>\n",
       "    <tr>\n",
       "      <th>5</th>\n",
       "      <td>6</td>\n",
       "      <td>david.mcintyre@wkxsv.com</td>\n",
       "    </tr>\n",
       "    <tr>\n",
       "      <th>6</th>\n",
       "      <td>7</td>\n",
       "      <td>shirley.thomas@fofqh.com</td>\n",
       "    </tr>\n",
       "    <tr>\n",
       "      <th>7</th>\n",
       "      <td>8</td>\n",
       "      <td>elizabeth.stafford@xzlsl.com</td>\n",
       "    </tr>\n",
       "    <tr>\n",
       "      <th>8</th>\n",
       "      <td>9</td>\n",
       "      <td>faith.jackson@fqmjp.com</td>\n",
       "    </tr>\n",
       "    <tr>\n",
       "      <th>9</th>\n",
       "      <td>10</td>\n",
       "      <td>lou.smith@dcwew.com</td>\n",
       "    </tr>\n",
       "  </tbody>\n",
       "</table>\n",
       "</div>"
      ],
      "text/plain": [
       "   user_id                         email\n",
       "0        1      portia.johnson@gwxga.com\n",
       "1        2   marilyn.chavarria@tkvzv.com\n",
       "2        3        james.conner@xsdeg.com\n",
       "3        4        dallas.ellis@mmnzc.com\n",
       "4        5          jimmy.hale@tvsij.com\n",
       "5        6      david.mcintyre@wkxsv.com\n",
       "6        7      shirley.thomas@fofqh.com\n",
       "7        8  elizabeth.stafford@xzlsl.com\n",
       "8        9       faith.jackson@fqmjp.com\n",
       "9       10           lou.smith@dcwew.com"
      ]
     },
     "execution_count": 20,
     "metadata": {},
     "output_type": "execute_result"
    }
   ],
   "source": [
    "run_sql('select * from users limit 10')"
   ]
  },
  {
   "cell_type": "code",
   "execution_count": 22,
   "metadata": {
    "collapsed": false
   },
   "outputs": [
    {
     "data": {
      "text/html": [
       "<div>\n",
       "<table border=\"1\" class=\"dataframe\">\n",
       "  <thead>\n",
       "    <tr style=\"text-align: right;\">\n",
       "      <th></th>\n",
       "      <th>topic_id</th>\n",
       "      <th>name</th>\n",
       "    </tr>\n",
       "  </thead>\n",
       "  <tbody>\n",
       "    <tr>\n",
       "      <th>0</th>\n",
       "      <td>1</td>\n",
       "      <td>Advertising</td>\n",
       "    </tr>\n",
       "    <tr>\n",
       "      <th>1</th>\n",
       "      <td>2</td>\n",
       "      <td>Auditing</td>\n",
       "    </tr>\n",
       "    <tr>\n",
       "      <th>2</th>\n",
       "      <td>3</td>\n",
       "      <td>Banks</td>\n",
       "    </tr>\n",
       "    <tr>\n",
       "      <th>3</th>\n",
       "      <td>4</td>\n",
       "      <td>Biography</td>\n",
       "    </tr>\n",
       "    <tr>\n",
       "      <th>4</th>\n",
       "      <td>5</td>\n",
       "      <td>Bonds</td>\n",
       "    </tr>\n",
       "    <tr>\n",
       "      <th>5</th>\n",
       "      <td>6</td>\n",
       "      <td>Bookkeeping</td>\n",
       "    </tr>\n",
       "    <tr>\n",
       "      <th>6</th>\n",
       "      <td>7</td>\n",
       "      <td>Budgeting</td>\n",
       "    </tr>\n",
       "    <tr>\n",
       "      <th>7</th>\n",
       "      <td>8</td>\n",
       "      <td>Business Development</td>\n",
       "    </tr>\n",
       "    <tr>\n",
       "      <th>8</th>\n",
       "      <td>9</td>\n",
       "      <td>Business Ethics</td>\n",
       "    </tr>\n",
       "    <tr>\n",
       "      <th>9</th>\n",
       "      <td>10</td>\n",
       "      <td>Business Fashion</td>\n",
       "    </tr>\n",
       "  </tbody>\n",
       "</table>\n",
       "</div>"
      ],
      "text/plain": [
       "   topic_id                  name\n",
       "0         1           Advertising\n",
       "1         2              Auditing\n",
       "2         3                 Banks\n",
       "3         4             Biography\n",
       "4         5                 Bonds\n",
       "5         6           Bookkeeping\n",
       "6         7             Budgeting\n",
       "7         8  Business Development\n",
       "8         9       Business Ethics\n",
       "9        10      Business Fashion"
      ]
     },
     "execution_count": 22,
     "metadata": {},
     "output_type": "execute_result"
    }
   ],
   "source": [
    "run_sql('select * from topics limit 10')"
   ]
  },
  {
   "cell_type": "code",
   "execution_count": 23,
   "metadata": {
    "collapsed": false
   },
   "outputs": [
    {
     "data": {
      "text/html": [
       "<div>\n",
       "<table border=\"1\" class=\"dataframe\">\n",
       "  <thead>\n",
       "    <tr style=\"text-align: right;\">\n",
       "      <th></th>\n",
       "      <th>type_id</th>\n",
       "      <th>name</th>\n",
       "    </tr>\n",
       "  </thead>\n",
       "  <tbody>\n",
       "    <tr>\n",
       "      <th>0</th>\n",
       "      <td>1</td>\n",
       "      <td>Blog Post</td>\n",
       "    </tr>\n",
       "    <tr>\n",
       "      <th>1</th>\n",
       "      <td>2</td>\n",
       "      <td>Book Review</td>\n",
       "    </tr>\n",
       "    <tr>\n",
       "      <th>2</th>\n",
       "      <td>3</td>\n",
       "      <td>Cartoon</td>\n",
       "    </tr>\n",
       "    <tr>\n",
       "      <th>3</th>\n",
       "      <td>4</td>\n",
       "      <td>Case Study</td>\n",
       "    </tr>\n",
       "    <tr>\n",
       "      <th>4</th>\n",
       "      <td>5</td>\n",
       "      <td>Chart</td>\n",
       "    </tr>\n",
       "    <tr>\n",
       "      <th>5</th>\n",
       "      <td>6</td>\n",
       "      <td>Chat</td>\n",
       "    </tr>\n",
       "    <tr>\n",
       "      <th>6</th>\n",
       "      <td>7</td>\n",
       "      <td>Clip</td>\n",
       "    </tr>\n",
       "    <tr>\n",
       "      <th>7</th>\n",
       "      <td>8</td>\n",
       "      <td>Code</td>\n",
       "    </tr>\n",
       "    <tr>\n",
       "      <th>8</th>\n",
       "      <td>9</td>\n",
       "      <td>Comment</td>\n",
       "    </tr>\n",
       "    <tr>\n",
       "      <th>9</th>\n",
       "      <td>10</td>\n",
       "      <td>Contest</td>\n",
       "    </tr>\n",
       "  </tbody>\n",
       "</table>\n",
       "</div>"
      ],
      "text/plain": [
       "   type_id         name\n",
       "0        1    Blog Post\n",
       "1        2  Book Review\n",
       "2        3      Cartoon\n",
       "3        4   Case Study\n",
       "4        5        Chart\n",
       "5        6         Chat\n",
       "6        7         Clip\n",
       "7        8         Code\n",
       "8        9      Comment\n",
       "9       10      Contest"
      ]
     },
     "execution_count": 23,
     "metadata": {},
     "output_type": "execute_result"
    }
   ],
   "source": [
    "run_sql('select * from types limit 10')"
   ]
  },
  {
   "cell_type": "code",
   "execution_count": 24,
   "metadata": {
    "collapsed": false
   },
   "outputs": [
    {
     "data": {
      "text/html": [
       "<div>\n",
       "<table border=\"1\" class=\"dataframe\">\n",
       "  <thead>\n",
       "    <tr style=\"text-align: right;\">\n",
       "      <th></th>\n",
       "      <th>article_id</th>\n",
       "      <th>author_id</th>\n",
       "      <th>topic_id</th>\n",
       "      <th>type_id</th>\n",
       "      <th>submission_time</th>\n",
       "    </tr>\n",
       "  </thead>\n",
       "  <tbody>\n",
       "    <tr>\n",
       "      <th>0</th>\n",
       "      <td>1</td>\n",
       "      <td>13746</td>\n",
       "      <td>72</td>\n",
       "      <td>31</td>\n",
       "      <td>2015-01-01 00:01:14.412609</td>\n",
       "    </tr>\n",
       "    <tr>\n",
       "      <th>1</th>\n",
       "      <td>2</td>\n",
       "      <td>3761</td>\n",
       "      <td>94</td>\n",
       "      <td>41</td>\n",
       "      <td>2015-01-01 00:04:11.049356</td>\n",
       "    </tr>\n",
       "    <tr>\n",
       "      <th>2</th>\n",
       "      <td>3</td>\n",
       "      <td>17863</td>\n",
       "      <td>30</td>\n",
       "      <td>31</td>\n",
       "      <td>2015-01-01 00:29:34.334229</td>\n",
       "    </tr>\n",
       "    <tr>\n",
       "      <th>3</th>\n",
       "      <td>4</td>\n",
       "      <td>5131</td>\n",
       "      <td>39</td>\n",
       "      <td>2</td>\n",
       "      <td>2015-01-01 00:43:55.907851</td>\n",
       "    </tr>\n",
       "    <tr>\n",
       "      <th>4</th>\n",
       "      <td>5</td>\n",
       "      <td>14849</td>\n",
       "      <td>9</td>\n",
       "      <td>22</td>\n",
       "      <td>2015-01-01 01:21:04.230631</td>\n",
       "    </tr>\n",
       "    <tr>\n",
       "      <th>5</th>\n",
       "      <td>6</td>\n",
       "      <td>10638</td>\n",
       "      <td>49</td>\n",
       "      <td>33</td>\n",
       "      <td>2015-01-01 02:36:18.726190</td>\n",
       "    </tr>\n",
       "    <tr>\n",
       "      <th>6</th>\n",
       "      <td>7</td>\n",
       "      <td>946</td>\n",
       "      <td>80</td>\n",
       "      <td>29</td>\n",
       "      <td>2015-01-01 02:42:22.486977</td>\n",
       "    </tr>\n",
       "    <tr>\n",
       "      <th>7</th>\n",
       "      <td>8</td>\n",
       "      <td>16144</td>\n",
       "      <td>57</td>\n",
       "      <td>12</td>\n",
       "      <td>2015-01-01 03:18:24.314824</td>\n",
       "    </tr>\n",
       "    <tr>\n",
       "      <th>8</th>\n",
       "      <td>9</td>\n",
       "      <td>12393</td>\n",
       "      <td>31</td>\n",
       "      <td>43</td>\n",
       "      <td>2015-01-01 03:30:24.880365</td>\n",
       "    </tr>\n",
       "    <tr>\n",
       "      <th>9</th>\n",
       "      <td>10</td>\n",
       "      <td>2814</td>\n",
       "      <td>59</td>\n",
       "      <td>31</td>\n",
       "      <td>2015-01-01 03:31:04.541074</td>\n",
       "    </tr>\n",
       "  </tbody>\n",
       "</table>\n",
       "</div>"
      ],
      "text/plain": [
       "   article_id  author_id  topic_id  type_id             submission_time\n",
       "0           1      13746        72       31  2015-01-01 00:01:14.412609\n",
       "1           2       3761        94       41  2015-01-01 00:04:11.049356\n",
       "2           3      17863        30       31  2015-01-01 00:29:34.334229\n",
       "3           4       5131        39        2  2015-01-01 00:43:55.907851\n",
       "4           5      14849         9       22  2015-01-01 01:21:04.230631\n",
       "5           6      10638        49       33  2015-01-01 02:36:18.726190\n",
       "6           7        946        80       29  2015-01-01 02:42:22.486977\n",
       "7           8      16144        57       12  2015-01-01 03:18:24.314824\n",
       "8           9      12393        31       43  2015-01-01 03:30:24.880365\n",
       "9          10       2814        59       31  2015-01-01 03:31:04.541074"
      ]
     },
     "execution_count": 24,
     "metadata": {},
     "output_type": "execute_result"
    }
   ],
   "source": [
    "run_sql('select * from articles limit 10')"
   ]
  },
  {
   "cell_type": "code",
   "execution_count": 25,
   "metadata": {
    "collapsed": false
   },
   "outputs": [
    {
     "data": {
      "text/html": [
       "<div>\n",
       "<table border=\"1\" class=\"dataframe\">\n",
       "  <thead>\n",
       "    <tr style=\"text-align: right;\">\n",
       "      <th></th>\n",
       "      <th>content_id</th>\n",
       "      <th>email_id</th>\n",
       "      <th>user_id</th>\n",
       "      <th>article_id</th>\n",
       "      <th>send_time</th>\n",
       "      <th>week_num</th>\n",
       "    </tr>\n",
       "  </thead>\n",
       "  <tbody>\n",
       "    <tr>\n",
       "      <th>0</th>\n",
       "      <td>1</td>\n",
       "      <td>1</td>\n",
       "      <td>11460</td>\n",
       "      <td>66</td>\n",
       "      <td>2015-01-02 08:06:20.070850</td>\n",
       "      <td>2015_01</td>\n",
       "    </tr>\n",
       "    <tr>\n",
       "      <th>1</th>\n",
       "      <td>2</td>\n",
       "      <td>1</td>\n",
       "      <td>11460</td>\n",
       "      <td>135</td>\n",
       "      <td>2015-01-02 08:06:20.070850</td>\n",
       "      <td>2015_01</td>\n",
       "    </tr>\n",
       "    <tr>\n",
       "      <th>2</th>\n",
       "      <td>3</td>\n",
       "      <td>1</td>\n",
       "      <td>11460</td>\n",
       "      <td>175</td>\n",
       "      <td>2015-01-02 08:06:20.070850</td>\n",
       "      <td>2015_01</td>\n",
       "    </tr>\n",
       "    <tr>\n",
       "      <th>3</th>\n",
       "      <td>4</td>\n",
       "      <td>1</td>\n",
       "      <td>11460</td>\n",
       "      <td>205</td>\n",
       "      <td>2015-01-02 08:06:20.070850</td>\n",
       "      <td>2015_01</td>\n",
       "    </tr>\n",
       "    <tr>\n",
       "      <th>4</th>\n",
       "      <td>5</td>\n",
       "      <td>1</td>\n",
       "      <td>11460</td>\n",
       "      <td>218</td>\n",
       "      <td>2015-01-02 08:06:20.070850</td>\n",
       "      <td>2015_01</td>\n",
       "    </tr>\n",
       "    <tr>\n",
       "      <th>5</th>\n",
       "      <td>6</td>\n",
       "      <td>1</td>\n",
       "      <td>11460</td>\n",
       "      <td>127</td>\n",
       "      <td>2015-01-02 08:06:20.070850</td>\n",
       "      <td>2015_01</td>\n",
       "    </tr>\n",
       "    <tr>\n",
       "      <th>6</th>\n",
       "      <td>7</td>\n",
       "      <td>1</td>\n",
       "      <td>11460</td>\n",
       "      <td>122</td>\n",
       "      <td>2015-01-02 08:06:20.070850</td>\n",
       "      <td>2015_01</td>\n",
       "    </tr>\n",
       "    <tr>\n",
       "      <th>7</th>\n",
       "      <td>8</td>\n",
       "      <td>1</td>\n",
       "      <td>11460</td>\n",
       "      <td>106</td>\n",
       "      <td>2015-01-02 08:06:20.070850</td>\n",
       "      <td>2015_01</td>\n",
       "    </tr>\n",
       "    <tr>\n",
       "      <th>8</th>\n",
       "      <td>9</td>\n",
       "      <td>1</td>\n",
       "      <td>11460</td>\n",
       "      <td>86</td>\n",
       "      <td>2015-01-02 08:06:20.070850</td>\n",
       "      <td>2015_01</td>\n",
       "    </tr>\n",
       "    <tr>\n",
       "      <th>9</th>\n",
       "      <td>10</td>\n",
       "      <td>1</td>\n",
       "      <td>11460</td>\n",
       "      <td>266</td>\n",
       "      <td>2015-01-02 08:06:20.070850</td>\n",
       "      <td>2015_01</td>\n",
       "    </tr>\n",
       "  </tbody>\n",
       "</table>\n",
       "</div>"
      ],
      "text/plain": [
       "   content_id  email_id  user_id  article_id                   send_time  \\\n",
       "0           1         1    11460          66  2015-01-02 08:06:20.070850   \n",
       "1           2         1    11460         135  2015-01-02 08:06:20.070850   \n",
       "2           3         1    11460         175  2015-01-02 08:06:20.070850   \n",
       "3           4         1    11460         205  2015-01-02 08:06:20.070850   \n",
       "4           5         1    11460         218  2015-01-02 08:06:20.070850   \n",
       "5           6         1    11460         127  2015-01-02 08:06:20.070850   \n",
       "6           7         1    11460         122  2015-01-02 08:06:20.070850   \n",
       "7           8         1    11460         106  2015-01-02 08:06:20.070850   \n",
       "8           9         1    11460          86  2015-01-02 08:06:20.070850   \n",
       "9          10         1    11460         266  2015-01-02 08:06:20.070850   \n",
       "\n",
       "  week_num  \n",
       "0  2015_01  \n",
       "1  2015_01  \n",
       "2  2015_01  \n",
       "3  2015_01  \n",
       "4  2015_01  \n",
       "5  2015_01  \n",
       "6  2015_01  \n",
       "7  2015_01  \n",
       "8  2015_01  \n",
       "9  2015_01  "
      ]
     },
     "execution_count": 25,
     "metadata": {},
     "output_type": "execute_result"
    }
   ],
   "source": [
    "run_sql('select * from email_content limit 10')"
   ]
  },
  {
   "cell_type": "code",
   "execution_count": 140,
   "metadata": {
    "collapsed": false
   },
   "outputs": [
    {
     "data": {
      "text/plain": [
       "<sqlite3.Cursor at 0x308ad8f80>"
      ]
     },
     "execution_count": 140,
     "metadata": {},
     "output_type": "execute_result"
    }
   ],
   "source": [
    "c = conn.cursor()\n",
    "# Create table\n",
    "c.execute('''\n",
    "            CREATE TABLE clicks (\n",
    "            click_time DATETIME NOT NULL,\n",
    "            week_num varchar not null,\n",
    "            article_id INTEGER NOT NULL,\n",
    "            user_id INTEGER NOT NULL,\n",
    "            status INTEGER NOT NULL,\n",
    "            bsize INTEGER NOT NULL,\n",
    "            FOREIGN KEY(user_id) REFERENCES users(user_id),\n",
    "            FOREIGN KEY(article_id) REFERENCES articles(article_id)\n",
    "         )''')"
   ]
  },
  {
   "cell_type": "code",
   "execution_count": 141,
   "metadata": {
    "collapsed": false
   },
   "outputs": [],
   "source": [
    "# get the pattern\n",
    "p = re.compile('\\[(.*)\\] \"GET /click\\?article_id=(\\d*)&user_id=(\\d*) HTTP/1.1\" (\\d*) (\\d*)')\n",
    "\n",
    "# read access.log, and insert row in the clicks table\n",
    "with open('access.log','r') as f:\n",
    "    for line in f.readlines():\n",
    "        ts, article, user, status, bsize = p.match(line).groups()\n",
    "        ts = datetime.strptime(ts, '%d/%b/%Y:%H:%M:%S')\n",
    "        c.execute(\"INSERT INTO clicks VALUES ('%s','%d_%02d',%s,%s,%s,%s)\" \n",
    "                  %(ts.strftime('%Y-%m-%d %H:%M:%S'), ts.year, int(ts.strftime('%W'))+1, article, user, status, bsize))\n",
    "    conn.commit()"
   ]
  },
  {
   "cell_type": "code",
   "execution_count": 139,
   "metadata": {
    "collapsed": true
   },
   "outputs": [],
   "source": [
    "# c.execute('drop table clicks')\n",
    "c.execute('alter table email_content add column week_num varchar')\n",
    "c.execute('''update email_content set week_num = \n",
    "            substr(send_time,1,4)||'_'||substr('00'||(strftime('%W',send_time)+1),-2,2)''')\n",
    "conn.commit()"
   ]
  },
  {
   "cell_type": "code",
   "execution_count": 28,
   "metadata": {
    "collapsed": false
   },
   "outputs": [
    {
     "data": {
      "text/html": [
       "<div>\n",
       "<table border=\"1\" class=\"dataframe\">\n",
       "  <thead>\n",
       "    <tr style=\"text-align: right;\">\n",
       "      <th></th>\n",
       "      <th>click_time</th>\n",
       "      <th>week_num</th>\n",
       "      <th>article_id</th>\n",
       "      <th>user_id</th>\n",
       "      <th>status</th>\n",
       "      <th>bsize</th>\n",
       "    </tr>\n",
       "  </thead>\n",
       "  <tbody>\n",
       "    <tr>\n",
       "      <th>0</th>\n",
       "      <td>2015-01-02 08:07:32</td>\n",
       "      <td>2015_01</td>\n",
       "      <td>162</td>\n",
       "      <td>5475</td>\n",
       "      <td>200</td>\n",
       "      <td>4352</td>\n",
       "    </tr>\n",
       "    <tr>\n",
       "      <th>1</th>\n",
       "      <td>2015-01-02 08:08:43</td>\n",
       "      <td>2015_01</td>\n",
       "      <td>139</td>\n",
       "      <td>19550</td>\n",
       "      <td>200</td>\n",
       "      <td>3078</td>\n",
       "    </tr>\n",
       "    <tr>\n",
       "      <th>2</th>\n",
       "      <td>2015-01-02 08:09:01</td>\n",
       "      <td>2015_01</td>\n",
       "      <td>87</td>\n",
       "      <td>9408</td>\n",
       "      <td>200</td>\n",
       "      <td>2005</td>\n",
       "    </tr>\n",
       "    <tr>\n",
       "      <th>3</th>\n",
       "      <td>2015-01-02 08:09:18</td>\n",
       "      <td>2015_01</td>\n",
       "      <td>175</td>\n",
       "      <td>9408</td>\n",
       "      <td>200</td>\n",
       "      <td>3467</td>\n",
       "    </tr>\n",
       "    <tr>\n",
       "      <th>4</th>\n",
       "      <td>2015-01-02 08:09:42</td>\n",
       "      <td>2015_01</td>\n",
       "      <td>54</td>\n",
       "      <td>9531</td>\n",
       "      <td>200</td>\n",
       "      <td>7097</td>\n",
       "    </tr>\n",
       "    <tr>\n",
       "      <th>5</th>\n",
       "      <td>2015-01-02 08:09:51</td>\n",
       "      <td>2015_01</td>\n",
       "      <td>25</td>\n",
       "      <td>14306</td>\n",
       "      <td>200</td>\n",
       "      <td>2327</td>\n",
       "    </tr>\n",
       "    <tr>\n",
       "      <th>6</th>\n",
       "      <td>2015-01-02 08:10:00</td>\n",
       "      <td>2015_01</td>\n",
       "      <td>46</td>\n",
       "      <td>10739</td>\n",
       "      <td>200</td>\n",
       "      <td>2509</td>\n",
       "    </tr>\n",
       "    <tr>\n",
       "      <th>7</th>\n",
       "      <td>2015-01-02 08:10:12</td>\n",
       "      <td>2015_01</td>\n",
       "      <td>142</td>\n",
       "      <td>10325</td>\n",
       "      <td>200</td>\n",
       "      <td>3430</td>\n",
       "    </tr>\n",
       "    <tr>\n",
       "      <th>8</th>\n",
       "      <td>2015-01-02 08:10:23</td>\n",
       "      <td>2015_01</td>\n",
       "      <td>25</td>\n",
       "      <td>104</td>\n",
       "      <td>200</td>\n",
       "      <td>2327</td>\n",
       "    </tr>\n",
       "    <tr>\n",
       "      <th>9</th>\n",
       "      <td>2015-01-02 08:10:41</td>\n",
       "      <td>2015_01</td>\n",
       "      <td>90</td>\n",
       "      <td>10739</td>\n",
       "      <td>200</td>\n",
       "      <td>2123</td>\n",
       "    </tr>\n",
       "  </tbody>\n",
       "</table>\n",
       "</div>"
      ],
      "text/plain": [
       "            click_time week_num  article_id  user_id  status  bsize\n",
       "0  2015-01-02 08:07:32  2015_01         162     5475     200   4352\n",
       "1  2015-01-02 08:08:43  2015_01         139    19550     200   3078\n",
       "2  2015-01-02 08:09:01  2015_01          87     9408     200   2005\n",
       "3  2015-01-02 08:09:18  2015_01         175     9408     200   3467\n",
       "4  2015-01-02 08:09:42  2015_01          54     9531     200   7097\n",
       "5  2015-01-02 08:09:51  2015_01          25    14306     200   2327\n",
       "6  2015-01-02 08:10:00  2015_01          46    10739     200   2509\n",
       "7  2015-01-02 08:10:12  2015_01         142    10325     200   3430\n",
       "8  2015-01-02 08:10:23  2015_01          25      104     200   2327\n",
       "9  2015-01-02 08:10:41  2015_01          90    10739     200   2123"
      ]
     },
     "execution_count": 28,
     "metadata": {},
     "output_type": "execute_result"
    }
   ],
   "source": [
    "run_sql('select * from clicks limit 10')"
   ]
  },
  {
   "cell_type": "markdown",
   "metadata": {},
   "source": [
    "### load and parse click log"
   ]
  },
  {
   "cell_type": "code",
   "execution_count": 74,
   "metadata": {
    "collapsed": false
   },
   "outputs": [],
   "source": [
    "# read raw data, no header\n",
    "clicks = pd.read_csv('access.log',header=None)\n",
    "# extract fields\n",
    "pat = '\\[(.*)\\] \"GET /click\\?article_id=(\\d*)&user_id=(\\d*) HTTP/1.1\" (\\d*) (\\d*)'\n",
    "clicks = clicks[0].str.extract(pat, expand=True)\n",
    "# name the columns\n",
    "clicks.columns=['click_time', 'article_id', 'user_id', 'status', 'bsize']\n",
    "# convert click_time to datetime format\n",
    "clicks.click_time = clicks.click_time.map(lambda x: datetime.strptime(x, '%d/%b/%Y:%H:%M:%S'))\n",
    "# get week number (1-based)\n",
    "clicks['week'] = clicks.click_time.map(lambda x: '%d_%02d' %(x.year, int(x.strftime('%W'))+1))\n",
    "# convert id's and status columns to int format\n",
    "clicks.ix[:,1:-1] = clicks.ix[:,1:-1].apply(pd.to_numeric)\n",
    "# check data types\n",
    "clicks.dtypes"
   ]
  },
  {
   "cell_type": "markdown",
   "metadata": {},
   "source": [
    "# Exploratory Data Analysis"
   ]
  },
  {
   "cell_type": "code",
   "execution_count": 9,
   "metadata": {
    "collapsed": false
   },
   "outputs": [],
   "source": [
    "# this query tells us each article has been sent to a user only once (no duplicate)\n",
    "sql1 = '''select max(cnt) from (\n",
    "select count(*) as cnt, user_id, article_id from email_content group by user_id, article_id)'''\n",
    "\n",
    "sql2 = '''select count(*) from (\n",
    "select count(*) as cnt, user_id, article_id from email_content group by user_id, article_id)'''\n",
    "\n",
    "sql3 = 'select count(*) from clicks'\n",
    "\n",
    "sql4 = 'select count(*) as cnt, week_num from email_content group by week_num'\n",
    "\n",
    "sql = 'select count(*) as cnt, week_num from email_content group by week_num'\n",
    "# sql = 'select count(*) as cnt, type_id from articles group by type_id'\n",
    "# sql = \"select substr(send_time, 1,4)||'_'||(strftime('%W',send_time)+1) as wn from email_content limit 10\"\n",
    "sql = 'select count(*) as cnt, status from clicks group by status'\n",
    "\n",
    "\n",
    "\n"
   ]
  },
  {
   "cell_type": "markdown",
   "metadata": {},
   "source": [
    "# 1. Gross trend analysis - break down by topic/type"
   ]
  },
  {
   "cell_type": "code",
   "execution_count": 5,
   "metadata": {
    "collapsed": false,
    "scrolled": false
   },
   "outputs": [],
   "source": [
    "class SumBy(Enum):\n",
    "    type = 1\n",
    "    topic = 2\n",
    "\n",
    "class GetFor(Enum):\n",
    "    send = 1\n",
    "    click = 2\n",
    "\n",
    "\n",
    "def sql_summary(sumBy, getFor):\n",
    "    isType = sumBy == SumBy.type\n",
    "    isSend = getFor == GetFor.send\n",
    "    col = 'type_id' if isType else 'topic_id'\n",
    "    return '''\n",
    "        select count(*) as %s, e.week_num as week, t.name as %s from \n",
    "        %s e left join articles a on e.article_id = a.article_id\n",
    "        join %s t on t.%s = a.%s\n",
    "        group by e.week_num, t.name\n",
    "    ''' %('n_send' if isSend else 'n_click', \n",
    "          'type' if isType else 'topic',\n",
    "          'email_content' if isSend else 'clicks',\n",
    "          'types' if isType else 'topics', col, col)\n",
    "\n",
    "def sql_join(sumBy):\n",
    "    sql_send = sql_summary(sumBy, GetFor.send)\n",
    "    sql_click = sql_summary(sumBy, GetFor.click)\n",
    "    col = 'type' if sumBy == SumBy.type else 'topic'\n",
    "    return '''\n",
    "        select c.n_click, s.n_send, c.n_click/(1.0*s.n_send) as rate, s.week, s.%s \n",
    "        from (%s) s left join (%s) c\n",
    "        on s.week = c.week and s.%s=c.%s    \n",
    "    ''' %(col, sql_send, sql_click, col, col)\n",
    "\n",
    "def get_slope(df):\n",
    "    x = [int(i[5:]) for i in df.week.values]\n",
    "    return 0 if len(x)<2 else np.polyfit(x,df.n_send.values,1)[0]\n"
   ]
  },
  {
   "cell_type": "code",
   "execution_count": 377,
   "metadata": {
    "collapsed": false
   },
   "outputs": [],
   "source": [
    "sumType = SumBy.topic\n",
    "ctr = run_sql(sql_join(sumType), True)\n",
    "\n",
    "# print(sql_join(SumBy.topic))\n",
    "ctr = ctr[ctr.n_send>=10]\n",
    "ctr.rate.fillna(0, inplace=True)\n",
    "ctr.n_click.fillna(0, inplace=True)\n",
    "groups = ctr.groupby(sumType.name)\n",
    "\n",
    "# TODO: get rid of outliers\n",
    "\n",
    "\n",
    "# groups.agg(lambda x: np.percentile(x.n_send.values, 5))\n",
    "# ctr.boxplot('n_send',return_type='axes')\n",
    "# np.polyfit(range(10),np.random.random(10),1)"
   ]
  },
  {
   "cell_type": "code",
   "execution_count": 436,
   "metadata": {
    "collapsed": false
   },
   "outputs": [
    {
     "data": {
      "text/plain": [
       "<matplotlib.axes._subplots.AxesSubplot at 0x1361a8ba8>"
      ]
     },
     "execution_count": 436,
     "metadata": {},
     "output_type": "execute_result"
    },
    {
     "data": {
      "image/png": "[encoded data removed]",
      "text/plain": [
       "<matplotlib.figure.Figure at 0x135deaf98>"
      ]
     },
     "metadata": {},
     "output_type": "display_data"
    },
    {
     "data": {
      "image/png": "[encoded data removed]",
      "text/plain": [
       "<matplotlib.figure.Figure at 0x136108710>"
      ]
     },
     "metadata": {},
     "output_type": "display_data"
    }
   ],
   "source": [
    "def get_slope(df):\n",
    "    x = [int(i[5:]) for i in df.week.values]\n",
    "    return 0 if len(x)<2 else np.polyfit(x,df.rate.values,1)[0]\n",
    "\n",
    "slopes = groups.agg(get_slope).drop(['n_click','n_send','week'],axis=1)\n",
    "slopes.columns =['change_rate']\n",
    "slopes.sort_values(by=['change_rate']).ix[-10:].plot(kind='barh', figsize=(10,3))\n",
    "slopes.sort_values(by=['change_rate']).ix[:10].plot(kind='barh', figsize=(10,3))"
   ]
  },
  {
   "cell_type": "code",
   "execution_count": 390,
   "metadata": {
    "collapsed": false
   },
   "outputs": [
    {
     "data": {
      "text/plain": [
       "<matplotlib.axes._subplots.AxesSubplot at 0x12f6e8ac8>"
      ]
     },
     "execution_count": 390,
     "metadata": {},
     "output_type": "execute_result"
    },
    {
     "data": {
      "image/png": "[encoded data removed]",
      "text/plain": [
       "<matplotlib.figure.Figure at 0x12f74d1d0>"
      ]
     },
     "metadata": {},
     "output_type": "display_data"
    }
   ],
   "source": [
    "change_pct = groups.mean().join(slopes).apply(lambda x: 100*x.change_rate/x.rate, axis=1)\n",
    "change_pct[change_pct.abs()>=5].sort_values().plot(kind='barh', figsize=(10,8))"
   ]
  },
  {
   "cell_type": "code",
   "execution_count": 416,
   "metadata": {
    "collapsed": false
   },
   "outputs": [
    {
     "data": {
      "text/plain": [
       "<matplotlib.axes._subplots.AxesSubplot at 0x1330a4ef0>"
      ]
     },
     "execution_count": 416,
     "metadata": {},
     "output_type": "execute_result"
    },
    {
     "data": {
      "image/png": "[encoded data removed]",
      "text/plain": [
       "<matplotlib.figure.Figure at 0x132ec0128>"
      ]
     },
     "metadata": {},
     "output_type": "display_data"
    }
   ],
   "source": [
    "groups.get_group('Governmental Accounting').plot(x='week', y='rate', style='o-') #('Creative Story') #"
   ]
  },
  {
   "cell_type": "code",
   "execution_count": 35,
   "metadata": {
    "collapsed": false
   },
   "outputs": [
    {
     "data": {
      "text/html": [
       "<div>\n",
       "<table border=\"1\" class=\"dataframe\">\n",
       "  <thead>\n",
       "    <tr style=\"text-align: right;\">\n",
       "      <th></th>\n",
       "      <th>count(*)</th>\n",
       "    </tr>\n",
       "  </thead>\n",
       "  <tbody>\n",
       "    <tr>\n",
       "      <th>0</th>\n",
       "      <td>95</td>\n",
       "    </tr>\n",
       "  </tbody>\n",
       "</table>\n",
       "</div>"
      ],
      "text/plain": [
       "   count(*)\n",
       "0        95"
      ]
     },
     "execution_count": 35,
     "metadata": {},
     "output_type": "execute_result"
    }
   ],
   "source": [
    "# check the count when a user clicks his/her own article\n",
    "\n",
    "run_sql('select count(*) from clicks c left join articles a on c.article_id=a.article_id where c.user_id=a.author_id')"
   ]
  },
  {
   "cell_type": "code",
   "execution_count": 421,
   "metadata": {
    "collapsed": false
   },
   "outputs": [
    {
     "data": {
      "text/html": [
       "<div>\n",
       "<table border=\"1\" class=\"dataframe\">\n",
       "  <thead>\n",
       "    <tr style=\"text-align: right;\">\n",
       "      <th></th>\n",
       "      <th>count(*)</th>\n",
       "    </tr>\n",
       "  </thead>\n",
       "  <tbody>\n",
       "    <tr>\n",
       "      <th>0</th>\n",
       "      <td>49</td>\n",
       "    </tr>\n",
       "  </tbody>\n",
       "</table>\n",
       "</div>"
      ],
      "text/plain": [
       "   count(*)\n",
       "0        49"
      ]
     },
     "execution_count": 421,
     "metadata": {},
     "output_type": "execute_result"
    }
   ],
   "source": [
    "# run_sql('select count(*) from topics')\n",
    "run_sql('select count(*) from types')"
   ]
  },
  {
   "cell_type": "code",
   "execution_count": 417,
   "metadata": {
    "collapsed": false
   },
   "outputs": [],
   "source": [
    "# check how many emails per user per week\n",
    "sql = '''select count(*) as n_email, user_id, week_num from \n",
    "        (select distinct user_id,email_id,week_num from email_content) \n",
    "        group by user_id, week_num\n",
    "'''\n",
    "emails = run_sql(sql)"
   ]
  },
  {
   "cell_type": "code",
   "execution_count": 420,
   "metadata": {
    "collapsed": false
   },
   "outputs": [
    {
     "data": {
      "text/plain": [
       "week_num\n",
       "2015_01    18841\n",
       "2015_02    20000\n",
       "2015_03    20000\n",
       "2015_04    20000\n",
       "2015_05    20000\n",
       "2015_06    20000\n",
       "2015_07    20000\n",
       "2015_08    20000\n",
       "2015_09    20000\n",
       "2015_10    20000\n",
       "2015_11    20000\n",
       "2015_12    20000\n",
       "2015_13    20000\n",
       "2015_14    19935\n",
       "dtype: int64"
      ]
     },
     "execution_count": 420,
     "metadata": {},
     "output_type": "execute_result"
    }
   ],
   "source": [
    "emails.groupby('week_num').size()"
   ]
  },
  {
   "cell_type": "code",
   "execution_count": 425,
   "metadata": {
    "collapsed": false
   },
   "outputs": [
    {
     "data": {
      "text/plain": [
       "n_email       52.9218\n",
       "user_id    10000.5000\n",
       "dtype: float64"
      ]
     },
     "execution_count": 425,
     "metadata": {},
     "output_type": "execute_result"
    }
   ],
   "source": [
    "# check how many emails per user (on average) in all weeks\n",
    "sql = '''select count(*) as n_email, user_id from \n",
    "        (select distinct user_id,email_id from email_content) \n",
    "        group by user_id\n",
    "'''\n",
    "run_sql(sql).mean()"
   ]
  },
  {
   "cell_type": "markdown",
   "metadata": {},
   "source": [
    "# 2. Individual user investigation"
   ]
  },
  {
   "cell_type": "code",
   "execution_count": 26,
   "metadata": {
    "collapsed": false
   },
   "outputs": [],
   "source": [
    "def moving_average(a, n):\n",
    "    '''\n",
    "    '''\n",
    "    i, ret = 0, []\n",
    "    while i+n<len(a):\n",
    "        if np.isnan(a[i:i+n]).sum()==n:\n",
    "            ret.append(np.nan)\n",
    "        else:\n",
    "            ret.append(np.nanmean(a[i:i+n]))\n",
    "        i += 1\n",
    "    return np.array(ret)\n",
    "\n",
    "\n",
    "def check_user(user_id, sumBy):\n",
    "    '''\n",
    "    '''\n",
    "    # generate SQL based on input parameters\n",
    "    users = run_sql('select * from users').set_index('user_id')\n",
    "    print('start checking article %s for user <%s> ...' %(sumBy.name, users.email[user_id]))\n",
    "    col, tab, bheight = ('type_id','types',10) if sumBy==SumBy.type else ('topic_id','topics',15)\n",
    "    sql = '''\n",
    "        select e.*, c.click_time, c.status as status, c.bsize, a.%s as %s from\n",
    "        (select * from email_content where user_id=%d) e left join clicks c \n",
    "        on e.user_id=c.user_id and e.article_id=c.article_id\n",
    "        join articles a on a.article_id=e.article_id        \n",
    "    ''' %(col, col, user_id)\n",
    "    \n",
    "    # run the query and group the dataframe by email\n",
    "    dim = run_sql('select max(%s)+1 from %s' %(col, tab)).ix[0].values[0]    \n",
    "    print('running query (may take a little while) ...')\n",
    "    emails = run_sql(sql, True).groupby('email_id')\n",
    "    n_email = len(emails)\n",
    "    m_click, m_send = np.zeros((n_email,dim)), np.zeros((n_email,dim))\n",
    "\n",
    "    # summarize counts of clicks and send for article topic/type\n",
    "    print('summarizing %d emails ...' %n_email)\n",
    "    i=0\n",
    "    for eid, email in emails:\n",
    "        # check send count\n",
    "        vc_send = email[col].value_counts()\n",
    "        for cid in vc_send.index:\n",
    "            m_send[i,cid] = vc_send[cid]\n",
    "        # check click count\n",
    "        vc_click = email[email.status>0][col].value_counts()\n",
    "        for cid in vc_click.index:\n",
    "            m_click[i,cid] = vc_click[cid]\n",
    "        # continue with next email\n",
    "        i+=1\n",
    "    \n",
    "    # get slope of click rate for each topic/type\n",
    "    print('evaluating click rate change rate for article %s ...' %sumBy.name)\n",
    "    rate, slope = m_click/m_send, []\n",
    "    for j in range(rate.shape[1]):\n",
    "        y = moving_average(rate[:,j],5)\n",
    "        pick = ~np.isnan(y)\n",
    "        if sum(pick)==0:\n",
    "            slope.append(np.nan)\n",
    "        else:\n",
    "            slope.append(np.polyfit(np.arange(len(y))[pick],y[pick],1)[0])\n",
    "    \n",
    "    # generate plots\n",
    "    cat = run_sql('select * from %s' %tab)    \n",
    "    cat['slope'] = pd.Series(slope[1:])\n",
    "    cat.set_index('name', inplace=True)\n",
    "    cat = cat[cat.slope.abs()>0].sort_values(by=['slope'])\n",
    "    cat.plot(kind='barh',y='slope',figsize=(10,bheight))\n",
    "    plt.ylabel(sumBy.name)\n",
    "    plt.title('CTR change rate of article %s of user: %s' %(sumBy.name, users.email[user_id]))\n",
    "    # chart row click rate for the top changers\n",
    "    n_top = 5\n",
    "    f, axarr = plt.subplots(n_top, sharex=True, figsize=(10, 2*n_top))\n",
    "    axarr[0].set_title('Top Changes')    \n",
    "    for i in range(5):\n",
    "        axarr[i].plot(rate[:, cat[col].ix[-i-1]], '*-', ms=10)\n",
    "        axarr[i].set_ylabel(cat.index[-i-1])\n",
    "    plt.tick_params(labelsize=10)"
   ]
  },
  {
   "cell_type": "code",
   "execution_count": 27,
   "metadata": {
    "collapsed": false
   },
   "outputs": [
    {
     "name": "stdout",
     "output_type": "stream",
     "text": [
      "start checking article type for user <david.gray@gbqbk.com> ...\n",
      "running query (may take a little while) ...\n",
      "\n",
      "        select e.*, c.click_time, c.status as status, c.bsize, a.type_id as type_id from\n",
      "        (select * from email_content where user_id=3180) e left join clicks c \n",
      "        on e.user_id=c.user_id and e.article_id=c.article_id\n",
      "        join articles a on a.article_id=e.article_id        \n",
      "    \n",
      "summarizing 52 emails ...\n",
      "evaluating click rate change rate for article type ...\n"
     ]
    },
    {
     "data": {
      "image/png": "[encoded data removed]",
      "text/plain": [
       "<matplotlib.figure.Figure at 0x10d554780>"
      ]
     },
     "metadata": {},
     "output_type": "display_data"
    },
    {
     "data": {
      "image/png": "[encoded data removed]",
      "text/plain": [
       "<matplotlib.figure.Figure at 0x10d554550>"
      ]
     },
     "metadata": {},
     "output_type": "display_data"
    }
   ],
   "source": [
    "check_user(3180, SumBy.type)"
   ]
  },
  {
   "cell_type": "code",
   "execution_count": 655,
   "metadata": {
    "collapsed": false
   },
   "outputs": [
    {
     "data": {
      "text/plain": [
       "array([ 0.        ,  0.17351598,  0.26917336,  0.        , -0.19296941,\n",
       "        0.        ,  0.48064849,  0.        ,  0.        ,  0.00328389,\n",
       "        0.        ,  0.        ,  0.25176312,  0.31801309,  0.13501732,\n",
       "        0.44220785,  0.        ,  0.        ,  0.10182254,  0.26302424,\n",
       "        0.10614139, -0.40149839,  0.09393372,  0.11699948,  0.17189907,\n",
       "       -0.0016105 ,  0.41535814,  0.        ,  0.38552163,  0.3730772 ,\n",
       "        0.        ,  0.01036239,  0.06444275,  0.        ,  0.27699717,\n",
       "        0.20483047,  0.28048248,  1.        ,  0.10896698,  0.        ,\n",
       "        0.        , -0.00524839,  0.13964373,  0.01444129,  0.06902327,\n",
       "        0.0415006 ,  0.3540116 ,  0.29085845,  0.31289649,  0.36787736])"
      ]
     },
     "execution_count": 655,
     "metadata": {},
     "output_type": "execute_result"
    }
   ],
   "source": [
    "lm = LinearRegression().fit(m_sends,m_clicks)\n",
    "np.diagonal(lm.coef_)"
   ]
  },
  {
   "cell_type": "markdown",
   "metadata": {},
   "source": [
    "# TODO: two analysis modes:\n",
    "# 1. break down by topic/type\n",
    "# 2. individual user over time"
   ]
  },
  {
   "cell_type": "code",
   "execution_count": 5,
   "metadata": {
    "collapsed": true
   },
   "outputs": [],
   "source": [
    "conn.close()"
   ]
  }
 ],
 "metadata": {
  "kernelspec": {
   "display_name": "Python 3",
   "language": "python",
   "name": "python3"
  },
  "language_info": {
   "codemirror_mode": {
    "name": "ipython",
    "version": 3
   },
   "file_extension": ".py",
   "mimetype": "text/x-python",
   "name": "python",
   "nbconvert_exporter": "python",
   "pygments_lexer": "ipython3",
   "version": "3.5.2"
  }
 },
 "nbformat": 4,
 "nbformat_minor": 1
}
