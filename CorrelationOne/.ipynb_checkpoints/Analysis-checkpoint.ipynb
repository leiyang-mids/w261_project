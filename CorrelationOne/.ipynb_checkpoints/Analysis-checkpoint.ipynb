{
 "cells": [
  {
   "cell_type": "code",
   "execution_count": 6,
   "metadata": {
    "collapsed": false
   },
   "outputs": [],
   "source": [
    "%matplotlib inline\n",
    "from datetime import datetime\n",
    "import sqlite3, re\n",
    "import pandas as pd\n",
    "import matplotlib.pyplot as plt"
   ]
  },
  {
   "cell_type": "code",
   "execution_count": 145,
   "metadata": {
    "collapsed": false
   },
   "outputs": [
    {
     "name": "stdout",
     "output_type": "stream",
     "text": [
      "[02/Jan/2015:08:07:32] \"GET /click?article_id=162&user_id=5475 HTTP/1.1\" 200 4352\n",
      "[02/Jan/2015:08:08:43] \"GET /click?article_id=139&user_id=19550 HTTP/1.1\" 200 3078\n",
      "[02/Jan/2015:08:09:01] \"GET /click?article_id=87&user_id=9408 HTTP/1.1\" 200 2005\n",
      "[02/Jan/2015:08:09:18] \"GET /click?article_id=175&user_id=9408 HTTP/1.1\" 200 3467\n",
      "[02/Jan/2015:08:09:42] \"GET /click?article_id=54&user_id=9531 HTTP/1.1\" 200 7097\n",
      "[02/Jan/2015:08:09:51] \"GET /click?article_id=25&user_id=14306 HTTP/1.1\" 200 2327\n",
      "[02/Jan/2015:08:10:00] \"GET /click?article_id=46&user_id=10739 HTTP/1.1\" 200 2509\n",
      "[02/Jan/2015:08:10:12] \"GET /click?article_id=142&user_id=10325 HTTP/1.1\" 200 3430\n",
      "[02/Jan/2015:08:10:23] \"GET /click?article_id=25&user_id=104 HTTP/1.1\" 200 2327\n",
      "[02/Jan/2015:08:10:41] \"GET /click?article_id=90&user_id=10739 HTTP/1.1\" 200 2123\n",
      " 1770780\n"
     ]
    }
   ],
   "source": [
    "!head access.log\n",
    "!wc -l < access.log"
   ]
  },
  {
   "cell_type": "code",
   "execution_count": 140,
   "metadata": {
    "collapsed": false
   },
   "outputs": [
    {
     "data": {
      "text/plain": [
       "<sqlite3.Cursor at 0x308ad8f80>"
      ]
     },
     "execution_count": 140,
     "metadata": {},
     "output_type": "execute_result"
    }
   ],
   "source": [
    "conn = sqlite3.connect('contentDiscovery.db')\n",
    "c = conn.cursor()\n",
    "\n",
    "# Create table\n",
    "c.execute('''\n",
    "            CREATE TABLE clicks (\n",
    "            click_time DATETIME NOT NULL,\n",
    "            week_num varchar not null,\n",
    "            article_id INTEGER NOT NULL,\n",
    "            user_id INTEGER NOT NULL,\n",
    "            status INTEGER NOT NULL,\n",
    "            bsize INTEGER NOT NULL,\n",
    "            FOREIGN KEY(user_id) REFERENCES users(user_id),\n",
    "            FOREIGN KEY(article_id) REFERENCES articles(article_id)\n",
    "         )''')"
   ]
  },
  {
   "cell_type": "code",
   "execution_count": 141,
   "metadata": {
    "collapsed": false
   },
   "outputs": [],
   "source": [
    "# get the pattern\n",
    "p = re.compile('\\[(.*)\\] \"GET /click\\?article_id=(\\d*)&user_id=(\\d*) HTTP/1.1\" (\\d*) (\\d*)')\n",
    "\n",
    "# read access.log, and insert row in the clicks table\n",
    "with open('access.log','r') as f:\n",
    "    for line in f.readlines():\n",
    "        ts, article, user, status, bsize = p.match(line).groups()\n",
    "        ts = datetime.strptime(ts, '%d/%b/%Y:%H:%M:%S')\n",
    "        c.execute(\"INSERT INTO clicks VALUES ('%s','%d_%02d',%s,%s,%s,%s)\" \n",
    "                  %(ts.strftime('%Y-%m-%d %H:%M:%S'), ts.year, int(ts.strftime('%W'))+1, article, user, status, bsize))\n",
    "    conn.commit()"
   ]
  },
  {
   "cell_type": "code",
   "execution_count": 139,
   "metadata": {
    "collapsed": true
   },
   "outputs": [],
   "source": [
    "# c.execute('drop table clicks')\n",
    "c.execute('alter table email_content add column week_num varchar')\n",
    "c.execute('''update email_content set week_num = \n",
    "            substr(send_time,1,4)||'_'||substr('00'||(strftime('%W',send_time)+1),-2,2)''')\n",
    "conn.commit()"
   ]
  },
  {
   "cell_type": "code",
   "execution_count": 5,
   "metadata": {
    "collapsed": true
   },
   "outputs": [],
   "source": [
    "conn.close()"
   ]
  },
  {
   "cell_type": "markdown",
   "metadata": {},
   "source": [
    "### load and parse click log"
   ]
  },
  {
   "cell_type": "code",
   "execution_count": 74,
   "metadata": {
    "collapsed": false
   },
   "outputs": [],
   "source": [
    "# read raw data, no header\n",
    "clicks = pd.read_csv('access.log',header=None)\n",
    "# extract fields\n",
    "pat = '\\[(.*)\\] \"GET /click\\?article_id=(\\d*)&user_id=(\\d*) HTTP/1.1\" (\\d*) (\\d*)'\n",
    "clicks = clicks[0].str.extract(pat, expand=True)\n",
    "# name the columns\n",
    "clicks.columns=['click_time', 'article_id', 'user_id', 'status', 'bsize']\n",
    "# convert click_time to datetime format\n",
    "clicks.click_time = clicks.click_time.map(lambda x: datetime.strptime(x, '%d/%b/%Y:%H:%M:%S'))\n",
    "# get week number (1-based)\n",
    "clicks['week'] = clicks.click_time.map(lambda x: '%d_%02d' %(x.year, int(x.strftime('%W'))+1))\n",
    "# convert id's and status columns to int format\n",
    "clicks.ix[:,1:-1] = clicks.ix[:,1:-1].apply(pd.to_numeric)\n",
    "# check data types\n",
    "clicks.dtypes"
   ]
  },
  {
   "cell_type": "markdown",
   "metadata": {},
   "source": [
    "### load email data"
   ]
  },
  {
   "cell_type": "code",
   "execution_count": 143,
   "metadata": {
    "collapsed": false
   },
   "outputs": [
    {
     "data": {
      "text/html": [
       "<div>\n",
       "<table border=\"1\" class=\"dataframe\">\n",
       "  <thead>\n",
       "    <tr style=\"text-align: right;\">\n",
       "      <th></th>\n",
       "      <th>count(*)</th>\n",
       "    </tr>\n",
       "  </thead>\n",
       "  <tbody>\n",
       "    <tr>\n",
       "      <th>0</th>\n",
       "      <td>1770781</td>\n",
       "    </tr>\n",
       "  </tbody>\n",
       "</table>\n",
       "</div>"
      ],
      "text/plain": [
       "   count(*)\n",
       "0   1770781"
      ]
     },
     "execution_count": 143,
     "metadata": {},
     "output_type": "execute_result"
    }
   ],
   "source": [
    "sql1 = '''select max(cnt) from (\n",
    "select count(*) as cnt, user_id, article_id from email_content group by user_id, article_id)'''\n",
    "\n",
    "sql2 = '''select count(*) from (\n",
    "select count(*) as cnt, user_id, article_id from email_content group by user_id, article_id)'''\n",
    "\n",
    "sql3 = 'select count(*) from clicks'\n",
    "\n",
    "sql4 = 'select count(*) as cnt, week_num from email_content group by week_num'\n",
    "\n",
    "sql = 'select count(*) as cnt, week_num from email_content group by week_num'\n",
    "# sql = 'select count(*) as cnt, type_id from articles group by type_id'\n",
    "# sql = \"select substr(send_time, 1,4)||'_'||(strftime('%W',send_time)+1) as wn from email_content limit 10\"\n",
    "sql = 'select count(*) as cnt, status from clicks group by status'\n",
    "\n",
    "pd.read_sql_query(sql3, conn)"
   ]
  }
 ],
 "metadata": {
  "kernelspec": {
   "display_name": "Python 3",
   "language": "python",
   "name": "python3"
  },
  "language_info": {
   "codemirror_mode": {
    "name": "ipython",
    "version": 3
   },
   "file_extension": ".py",
   "mimetype": "text/x-python",
   "name": "python",
   "nbconvert_exporter": "python",
   "pygments_lexer": "ipython3",
   "version": "3.5.2"
  }
 },
 "nbformat": 4,
 "nbformat_minor": 1
}
