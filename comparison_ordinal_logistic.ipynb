{
 "metadata": {
  "name": "comparison_ordinal_logistic"
 },
 "nbformat": 3,
 "nbformat_minor": 0,
 "worksheets": [
  {
   "cells": [
    {
     "cell_type": "code",
     "collapsed": false,
     "input": [
      "from __future__ import print_function\n",
      "import numpy as np\n",
      "from sklearn import datasets, metrics, cross_validation\n",
      "from minirank import ordinal_logistic_fit, ordinal_logistic_predict"
     ],
     "language": "python",
     "metadata": {},
     "outputs": [],
     "prompt_number": 35
    },
    {
     "cell_type": "code",
     "collapsed": false,
     "input": [
      "DOC = \"\"\"\n",
      "================================================================================\n",
      "Compare the prediction accuracy of different models on the boston dataset\n",
      "================================================================================\n",
      "\"\"\"\n",
      "print(DOC)\n",
      "boston = datasets.load_boston()\n",
      "X, y = boston.data, np.round(boston.target)\n",
      "X -= X.mean()\n",
      "y -= y.min()\n",
      "\n",
      "idx = np.argsort(y)\n",
      "X = X[idx]\n",
      "y = y[idx]\n",
      "cv = cross_validation.ShuffleSplit(y.size, n_iter=50, test_size=.1, random_state=0)\n",
      "score_logistic = []\n",
      "score_ordinal_logistic = []\n",
      "score_ridge = []\n",
      "for i, (train, test) in enumerate(cv):\n",
      "    if not np.all(np.unique(y[train]) == np.unique(y)):\n",
      "        # we need the train set to have all different classes\n",
      "        continue\n",
      "    assert np.all(np.unique(y[train]) == np.unique(y))\n",
      "    train = np.sort(train)\n",
      "    test = np.sort(test)\n",
      "    w, theta = ordinal_logistic_fit(X[train], y[train])\n",
      "    pred = ordinal_logistic_predict(w, theta, X[test], y)\n",
      "    s = metrics.mean_absolute_error(y[test], pred)\n",
      "    print('ERROR (ORDINAL)  fold %s: %s' % (i+1, s))\n",
      "    score_ordinal_logistic.append(s)\n",
      "\n",
      "    from sklearn import linear_model\n",
      "    clf = linear_model.LogisticRegression(C=1.)\n",
      "    clf.fit(X[train], y[train])\n",
      "    pred = clf.predict(X[test])\n",
      "    s = metrics.mean_absolute_error(y[test], pred)\n",
      "    print('ERROR (LOGISTIC) fold %s: %s' % (i+1, s))\n",
      "    score_logistic.append(s)\n",
      "\n",
      "    from sklearn import linear_model\n",
      "    clf = linear_model.Ridge(alpha=1.)\n",
      "    clf.fit(X[train], y[train])\n",
      "    pred = np.round(clf.predict(X[test]))\n",
      "    s = metrics.mean_absolute_error(y[test], pred)\n",
      "    print('ERROR (LOGISTIC) fold %s: %s' % (i+1, s))\n",
      "    score_ridge.append(s)\n",
      "\n",
      "\n",
      "print()\n",
      "print('MEAN ABSOLUTE ERROR (ORDINAL LOGISTIC):    %s' % np.mean(score_ordinal_logistic))\n",
      "print('MEAN ABSOLUTE ERROR (LOGISTIC REGRESSION): %s' % np.mean(score_logistic))\n",
      "print('MEAN ABSOLUTE ERROR (RIDGE REGRESSION):    %s' % np.mean(score_ridge))"
     ],
     "language": "python",
     "metadata": {},
     "outputs": [
      {
       "output_type": "stream",
       "stream": "stdout",
       "text": [
        "\n",
        "================================================================================\n",
        "Compare the prediction accuracy of different models on the boston dataset\n",
        "================================================================================\n",
        "\n",
        "ERROR (ORDINAL)  fold 2: 2.78431372549"
       ]
      },
      {
       "output_type": "stream",
       "stream": "stdout",
       "text": [
        "\n",
        "ERROR (LOGISTIC) fold 2: 4.23529411765"
       ]
      },
      {
       "output_type": "stream",
       "stream": "stdout",
       "text": [
        "\n",
        "ERROR (LOGISTIC) fold 2: 3.25490196078\n",
        "ERROR (ORDINAL)  fold 4: 3.88235294118"
       ]
      },
      {
       "output_type": "stream",
       "stream": "stdout",
       "text": [
        "\n",
        "ERROR (LOGISTIC) fold 4: 4.60784313725"
       ]
      },
      {
       "output_type": "stream",
       "stream": "stdout",
       "text": [
        "\n",
        "ERROR (LOGISTIC) fold 4: 3.58823529412\n",
        "ERROR (ORDINAL)  fold 5: 3.27450980392"
       ]
      },
      {
       "output_type": "stream",
       "stream": "stdout",
       "text": [
        "\n",
        "ERROR (LOGISTIC) fold 5: 4.23529411765"
       ]
      },
      {
       "output_type": "stream",
       "stream": "stdout",
       "text": [
        "\n",
        "ERROR (LOGISTIC) fold 5: 3.21568627451\n",
        "ERROR (ORDINAL)  fold 6: 3.50980392157"
       ]
      },
      {
       "output_type": "stream",
       "stream": "stdout",
       "text": [
        "\n",
        "ERROR (LOGISTIC) fold 6: 4.03921568627"
       ]
      },
      {
       "output_type": "stream",
       "stream": "stdout",
       "text": [
        "\n",
        "ERROR (LOGISTIC) fold 6: 3.47058823529\n",
        "ERROR (ORDINAL)  fold 7: 2.66666666667"
       ]
      },
      {
       "output_type": "stream",
       "stream": "stdout",
       "text": [
        "\n",
        "ERROR (LOGISTIC) fold 7: 2.82352941176"
       ]
      },
      {
       "output_type": "stream",
       "stream": "stdout",
       "text": [
        "\n",
        "ERROR (LOGISTIC) fold 7: 2.96078431373\n",
        "ERROR (ORDINAL)  fold 12: 4.03921568627"
       ]
      },
      {
       "output_type": "stream",
       "stream": "stdout",
       "text": [
        "\n",
        "ERROR (LOGISTIC) fold 12: 4.70588235294"
       ]
      },
      {
       "output_type": "stream",
       "stream": "stdout",
       "text": [
        "\n",
        "ERROR (LOGISTIC) fold 12: 4.50980392157\n",
        "ERROR (ORDINAL)  fold 13: 4.23529411765"
       ]
      },
      {
       "output_type": "stream",
       "stream": "stdout",
       "text": [
        "\n",
        "ERROR (LOGISTIC) fold 13: 4.09803921569"
       ]
      },
      {
       "output_type": "stream",
       "stream": "stdout",
       "text": [
        "\n",
        "ERROR (LOGISTIC) fold 13: 4.43137254902\n",
        "ERROR (ORDINAL)  fold 15: 3.1568627451"
       ]
      },
      {
       "output_type": "stream",
       "stream": "stdout",
       "text": [
        "\n",
        "ERROR (LOGISTIC) fold 15: 4.74509803922"
       ]
      },
      {
       "output_type": "stream",
       "stream": "stdout",
       "text": [
        "\n",
        "ERROR (LOGISTIC) fold 15: 4.09803921569\n",
        "ERROR (ORDINAL)  fold 23: 3.39215686275"
       ]
      },
      {
       "output_type": "stream",
       "stream": "stdout",
       "text": [
        "\n",
        "ERROR (LOGISTIC) fold 23: 3.92156862745"
       ]
      },
      {
       "output_type": "stream",
       "stream": "stdout",
       "text": [
        "\n",
        "ERROR (LOGISTIC) fold 23: 3.72549019608\n",
        "ERROR (ORDINAL)  fold 26: 3.54901960784"
       ]
      },
      {
       "output_type": "stream",
       "stream": "stdout",
       "text": [
        "\n",
        "ERROR (LOGISTIC) fold 26: 5.25490196078"
       ]
      },
      {
       "output_type": "stream",
       "stream": "stdout",
       "text": [
        "\n",
        "ERROR (LOGISTIC) fold 26: 4.03921568627\n",
        "ERROR (ORDINAL)  fold 29: 2.96078431373"
       ]
      },
      {
       "output_type": "stream",
       "stream": "stdout",
       "text": [
        "\n",
        "ERROR (LOGISTIC) fold 29: 3.09803921569"
       ]
      },
      {
       "output_type": "stream",
       "stream": "stdout",
       "text": [
        "\n",
        "ERROR (LOGISTIC) fold 29: 2.17647058824\n",
        "ERROR (ORDINAL)  fold 30: 2.80392156863"
       ]
      },
      {
       "output_type": "stream",
       "stream": "stdout",
       "text": [
        "\n",
        "ERROR (LOGISTIC) fold 30: 3.0"
       ]
      },
      {
       "output_type": "stream",
       "stream": "stdout",
       "text": [
        "\n",
        "ERROR (LOGISTIC) fold 30: 3.25490196078\n",
        "ERROR (ORDINAL)  fold 33: 3.27450980392"
       ]
      },
      {
       "output_type": "stream",
       "stream": "stdout",
       "text": [
        "\n",
        "ERROR (LOGISTIC) fold 33: 3.90196078431"
       ]
      },
      {
       "output_type": "stream",
       "stream": "stdout",
       "text": [
        "\n",
        "ERROR (LOGISTIC) fold 33: 3.62745098039\n",
        "ERROR (ORDINAL)  fold 34: 2.52941176471"
       ]
      },
      {
       "output_type": "stream",
       "stream": "stdout",
       "text": [
        "\n",
        "ERROR (LOGISTIC) fold 34: 3.43137254902"
       ]
      },
      {
       "output_type": "stream",
       "stream": "stdout",
       "text": [
        "\n",
        "ERROR (LOGISTIC) fold 34: 3.33333333333\n",
        "ERROR (ORDINAL)  fold 38: 2.78431372549"
       ]
      },
      {
       "output_type": "stream",
       "stream": "stdout",
       "text": [
        "\n",
        "ERROR (LOGISTIC) fold 38: 3.66666666667"
       ]
      },
      {
       "output_type": "stream",
       "stream": "stdout",
       "text": [
        "\n",
        "ERROR (LOGISTIC) fold 38: 2.64705882353\n",
        "ERROR (ORDINAL)  fold 39: 3.25490196078"
       ]
      },
      {
       "output_type": "stream",
       "stream": "stdout",
       "text": [
        "\n",
        "ERROR (LOGISTIC) fold 39: 3.35294117647"
       ]
      },
      {
       "output_type": "stream",
       "stream": "stdout",
       "text": [
        "\n",
        "ERROR (LOGISTIC) fold 39: 3.72549019608\n",
        "ERROR (ORDINAL)  fold 40: 3.56862745098"
       ]
      },
      {
       "output_type": "stream",
       "stream": "stdout",
       "text": [
        "\n",
        "ERROR (LOGISTIC) fold 40: 3.72549019608"
       ]
      },
      {
       "output_type": "stream",
       "stream": "stdout",
       "text": [
        "\n",
        "ERROR (LOGISTIC) fold 40: 3.72549019608\n",
        "ERROR (ORDINAL)  fold 41: 3.98039215686"
       ]
      },
      {
       "output_type": "stream",
       "stream": "stdout",
       "text": [
        "\n",
        "ERROR (LOGISTIC) fold 41: 3.54901960784"
       ]
      },
      {
       "output_type": "stream",
       "stream": "stdout",
       "text": [
        "\n",
        "ERROR (LOGISTIC) fold 41: 4.27450980392\n",
        "ERROR (ORDINAL)  fold 42: 4.03921568627"
       ]
      },
      {
       "output_type": "stream",
       "stream": "stdout",
       "text": [
        "\n",
        "ERROR (LOGISTIC) fold 42: 3.21568627451"
       ]
      },
      {
       "output_type": "stream",
       "stream": "stdout",
       "text": [
        "\n",
        "ERROR (LOGISTIC) fold 42: 4.13725490196\n",
        "ERROR (ORDINAL)  fold 45: 3.35294117647"
       ]
      },
      {
       "output_type": "stream",
       "stream": "stdout",
       "text": [
        "\n",
        "ERROR (LOGISTIC) fold 45: 3.1568627451"
       ]
      },
      {
       "output_type": "stream",
       "stream": "stdout",
       "text": [
        "\n",
        "ERROR (LOGISTIC) fold 45: 3.41176470588"
       ]
      },
      {
       "output_type": "stream",
       "stream": "stdout",
       "text": [
        "\n",
        "ERROR (ORDINAL)  fold 46: 2.92156862745"
       ]
      },
      {
       "output_type": "stream",
       "stream": "stdout",
       "text": [
        "\n",
        "ERROR (LOGISTIC) fold 46: 4.50980392157"
       ]
      },
      {
       "output_type": "stream",
       "stream": "stdout",
       "text": [
        "\n",
        "ERROR (LOGISTIC) fold 46: 3.47058823529\n",
        "ERROR (ORDINAL)  fold 48: 2.60784313725"
       ]
      },
      {
       "output_type": "stream",
       "stream": "stdout",
       "text": [
        "\n",
        "ERROR (LOGISTIC) fold 48: 3.19607843137"
       ]
      },
      {
       "output_type": "stream",
       "stream": "stdout",
       "text": [
        "\n",
        "ERROR (LOGISTIC) fold 48: 3.29411764706\n",
        "\n",
        "MEAN ABSOLUTE ERROR (ORDINAL LOGISTIC):    3.29857397504\n",
        "MEAN ABSOLUTE ERROR (LOGISTIC REGRESSION): 3.83957219251\n",
        "MEAN ABSOLUTE ERROR (RIDGE REGRESSION):    3.5623885918\n"
       ]
      }
     ],
     "prompt_number": 36
    },
    {
     "cell_type": "code",
     "collapsed": false,
     "input": [
      "from pylab import *\n",
      "\n",
      "pos = arange(3)+1.1    # the bar centers on the y axis\n",
      "val = map(np.mean, (score_ordinal_logistic, score_logistic, score_ridge))\n",
      "xerr = map(np.std, (score_ordinal_logistic, score_logistic, score_ridge))\n",
      "\n",
      "barh(pos,val, xerr=xerr, align='center', alpha=.5, ecolor='black')\n",
      "yticks(pos, ('Ordinal Logistic', 'Multiclass Logistic', 'Linear Regression'), rotation=45)\n",
      "grid(True)\n",
      "xlabel('Mean Absolute Error (lower is better)', fontsize='x-large')\n",
      "tight_layout()\n",
      "savefig('bars_ordinal.png')\n",
      "show()"
     ],
     "language": "python",
     "metadata": {},
     "outputs": [
      {
       "output_type": "display_data",
       "png": "[encoded data removed]"
      }
     ],
     "prompt_number": 47
    },
    {
     "cell_type": "code",
     "collapsed": false,
     "input": [],
     "language": "python",
     "metadata": {},
     "outputs": [],
     "prompt_number": 45
    },
    {
     "cell_type": "code",
     "collapsed": false,
     "input": [],
     "language": "python",
     "metadata": {},
     "outputs": []
    }
   ],
   "metadata": {}
  }
 ]
}