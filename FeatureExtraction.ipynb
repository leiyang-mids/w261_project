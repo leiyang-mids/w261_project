{
 "cells": [
  {
   "cell_type": "code",
   "execution_count": 1,
   "metadata": {
    "collapsed": false
   },
   "outputs": [],
   "source": [
    "from elasticsearch import Elasticsearch\n",
    "from elasticsearch_dsl import Search\n",
    "import json"
   ]
  },
  {
   "cell_type": "code",
   "execution_count": 4,
   "metadata": {
    "collapsed": true
   },
   "outputs": [],
   "source": [
    "client = Elasticsearch()"
   ]
  },
  {
   "cell_type": "code",
   "execution_count": 2,
   "metadata": {
    "collapsed": false
   },
   "outputs": [
    {
     "name": "stdout",
     "output_type": "stream",
     "text": [
      "bluecross-al-drugs.json  elasticsearch-demo.ipynb provider.json\r\n",
      "drug.json                plan.json\r\n"
     ]
    }
   ],
   "source": [
    "!ls"
   ]
  },
  {
   "cell_type": "code",
   "execution_count": 288,
   "metadata": {
    "collapsed": true
   },
   "outputs": [],
   "source": [
    "plan = json.load(open('plan.json'))   # (open(\"bluecross-al-drugs.json\"))"
   ]
  },
  {
   "cell_type": "code",
   "execution_count": 278,
   "metadata": {
    "collapsed": true
   },
   "outputs": [],
   "source": [
    "drug = json.load(open('drug.json'))"
   ]
  },
  {
   "cell_type": "code",
   "execution_count": 165,
   "metadata": {
    "collapsed": false
   },
   "outputs": [],
   "source": [
    "mappings = json.load(open('mappings.json'))"
   ]
  },
  {
   "cell_type": "code",
   "execution_count": 174,
   "metadata": {
    "collapsed": false
   },
   "outputs": [],
   "source": [
    "with open('encode2.json', 'w') as outfile:\n",
    "    json.dump(mappings['mappings'], outfile)"
   ]
  },
  {
   "cell_type": "code",
   "execution_count": 171,
   "metadata": {
    "collapsed": false
   },
   "outputs": [],
   "source": [
    "# mappings['mappings']\n",
    "\n",
    "def addEncode(fields):    \n",
    "    if ('type' in fields) and ('type' not in fields['type']): #(len(fields)==1):\n",
    "        fields['encode'] = 0\n",
    "    else:\n",
    "        for v in fields.values():\n",
    "            addEncode(v)\n",
    "        \n",
    "# addEncode(mappings)\n",
    "\n",
    "# mappings['mappings']"
   ]
  },
  {
   "cell_type": "markdown",
   "metadata": {},
   "source": [
    "###Load encode definition"
   ]
  },
  {
   "cell_type": "code",
   "execution_count": 297,
   "metadata": {
    "collapsed": false
   },
   "outputs": [
    {
     "data": {
      "text/plain": [
       "{u'drug/properties/plans/properties/drug_tier': u'string',\n",
       " u'drug/properties/plans/properties/quantity_limit': u'boolean',\n",
       " u'plan/properties/formulary/properties/cost_sharing/properties/coinsurance_opt': u'string',\n",
       " u'plan/properties/formulary/properties/cost_sharing/properties/coinsurance_rate': u'float',\n",
       " u'plan/properties/formulary/properties/cost_sharing/properties/copay_amount': u'float',\n",
       " u'plan/properties/formulary/properties/cost_sharing/properties/copay_opt': u'string',\n",
       " u'plan/properties/formulary/properties/cost_sharing/properties/pharmacy_type': u'string',\n",
       " u'plan/properties/formulary/properties/drug_tier': u'string',\n",
       " u'plan/properties/formulary/properties/mail_order': u'boolean',\n",
       " u'plan/properties/network/properties/network_tier': u'string',\n",
       " u'plan/properties/plan_id_type': u'string'}"
      ]
     },
     "execution_count": 297,
     "metadata": {},
     "output_type": "execute_result"
    }
   ],
   "source": [
    "# read file\n",
    "encode = json.load(open('encode2.json'))\n",
    "field_list = {}\n",
    "\n",
    "def getEncodeFields(encode_def, encode_var, path=''):\n",
    "    if 'encode' in encode_def and encode_def['encode'] == 1:\n",
    "        encode_var[path[1:]] = encode_def['type']\n",
    "    elif 'encode' not in encode_def:\n",
    "        for f in encode_def:\n",
    "            getEncodeFields(encode_def[f], encode_var, path + '/' + f)\n",
    "        \n",
    "getEncodeFields(encode, field_list)\n",
    "\n",
    "# field_list.keys()[0].split('/')#[1:]\n",
    "field_list"
   ]
  },
  {
   "cell_type": "markdown",
   "metadata": {},
   "source": [
    "###Retrieve unique values"
   ]
  },
  {
   "cell_type": "code",
   "execution_count": 299,
   "metadata": {
    "collapsed": true
   },
   "outputs": [],
   "source": [
    "drug_plan_data={'plan':plan,'drug':drug}"
   ]
  },
  {
   "cell_type": "code",
   "execution_count": 331,
   "metadata": {
    "collapsed": false
   },
   "outputs": [],
   "source": [
    "# get unique value for each string encode field (prepare for on-hot-encode)\n",
    "\n",
    "from sets import Set\n",
    "\n",
    "def getFieldValue(data, key, val, add_call):\n",
    "    if len(key) == 1:        \n",
    "        add_call(val, data[key[0]])\n",
    "    elif type(data) is list: # key[0] == 'properties':\n",
    "        for d in data:\n",
    "            getFieldValue(d, key[1:], val, add_call)\n",
    "    else:\n",
    "        getFieldValue(data[key[0]], key[1:], val, add_call)\n",
    "        \n",
    "def add_set(vSet, val):\n",
    "    vSet.add(val)\n",
    "    \n",
    "def add_list(vList, val):\n",
    "    vList.append(val)\n",
    "        \n",
    "        \n",
    "# \n",
    "uni_val = {}\n",
    "for k,v in field_list.items():\n",
    "    if True: # v=='string':\n",
    "        uni = Set()\n",
    "        getFieldValue(drug_plan_data, k.split('/'), uni, add_set)\n",
    "        uni_val[k] = list(uni)\n",
    "\n",
    "# uni_val"
   ]
  },
  {
   "cell_type": "markdown",
   "metadata": {},
   "source": [
    "###Investigate cost sharing policy for each drug tier"
   ]
  },
  {
   "cell_type": "code",
   "execution_count": 277,
   "metadata": {
    "collapsed": false,
    "scrolled": false
   },
   "outputs": [
    {
     "name": "stdout",
     "output_type": "stream",
     "text": [
      "[u'3-MONTH-IN-MAIL/None/BEFORE-DEDUCTIBLE', u'3-MONTH-IN-RETAIL/None/BEFORE-DEDUCTIBLE', u'3-MONTH-OUT-RETAIL/None/BEFORE-DEDUCTIBLE']\n",
      "[u'3-MONTH-IN-MAIL/None/BEFORE-DEDUCTIBLE', u'3-MONTH-IN-RETAIL/None/BEFORE-DEDUCTIBLE', u'3-MONTH-OUT-RETAIL/None/BEFORE-DEDUCTIBLE']\n",
      "[u'3-MONTH-IN-MAIL/None/BEFORE-DEDUCTIBLE', u'3-MONTH-IN-RETAIL/None/BEFORE-DEDUCTIBLE', u'3-MONTH-OUT-RETAIL/None/BEFORE-DEDUCTIBLE']\n",
      "[u'3-MONTH-IN-MAIL/None/BEFORE-DEDUCTIBLE', u'3-MONTH-IN-RETAIL/None/BEFORE-DEDUCTIBLE', u'3-MONTH-OUT-RETAIL/None/BEFORE-DEDUCTIBLE']\n",
      "[u'3-MONTH-IN-MAIL/None/BEFORE-DEDUCTIBLE', u'3-MONTH-IN-RETAIL/None/BEFORE-DEDUCTIBLE', u'3-MONTH-OUT-RETAIL/None/BEFORE-DEDUCTIBLE']\n",
      "[u'3-MONTH-IN-MAIL/None/NO-CHARGE', u'3-MONTH-IN-RETAIL/None/BEFORE-DEDUCTIBLE', u'3-MONTH-OUT-RETAIL/None/BEFORE-DEDUCTIBLE']\n",
      "[u'3-MONTH-IN-MAIL/None/NO-CHARGE', u'3-MONTH-IN-RETAIL/None/BEFORE-DEDUCTIBLE', u'3-MONTH-OUT-RETAIL/None/BEFORE-DEDUCTIBLE']\n",
      "[u'3-MONTH-IN-MAIL/None/BEFORE-DEDUCTIBLE', u'3-MONTH-IN-RETAIL/None/BEFORE-DEDUCTIBLE', u'3-MONTH-OUT-RETAIL/None/BEFORE-DEDUCTIBLE']\n",
      "[u'3-MONTH-IN-MAIL/None/BEFORE-DEDUCTIBLE', u'3-MONTH-IN-RETAIL/None/BEFORE-DEDUCTIBLE', u'3-MONTH-OUT-RETAIL/None/BEFORE-DEDUCTIBLE']\n",
      "[u'3-MONTH-IN-MAIL/None/NO-CHARGE', u'3-MONTH-IN-RETAIL/AFTER-DEDUCTIBLE/NO-CHARGE', u'3-MONTH-OUT-RETAIL/AFTER-DEDUCTIBLE/NO-CHARGE']\n",
      "[u'3-MONTH-IN-MAIL/None/NO-CHARGE', u'3-MONTH-IN-RETAIL/AFTER-DEDUCTIBLE/NO-CHARGE', u'3-MONTH-OUT-RETAIL/AFTER-DEDUCTIBLE/NO-CHARGE']\n"
     ]
    }
   ],
   "source": [
    "len(bluecross_drugs_list)\n",
    "for p in bluecross_drugs_list:\n",
    "#     print [f['drug_tier'] for f in p['formulary']]\n",
    "    for f in p['formulary']:\n",
    "        if f['drug_tier']=='VALUE':\n",
    "            print [c['pharmacy_type']+'/'+str(c['coinsurance_opt'])+'/'+c['copay_opt'] for c in f['cost_sharing']] \n",
    "#     print '\\n'\n"
   ]
  },
  {
   "cell_type": "markdown",
   "metadata": {
    "collapsed": false
   },
   "source": [
    "###Generate feature vector with integer value"
   ]
  },
  {
   "cell_type": "code",
   "execution_count": 337,
   "metadata": {
    "collapsed": false,
    "scrolled": false
   },
   "outputs": [
    {
     "name": "stdout",
     "output_type": "stream",
     "text": [
      "[0, 1, 3, 0, 1, 3, 0, 1, 3, 2, 1, 0, 1, 3, 1]\n"
     ]
    }
   ],
   "source": [
    "k=field_list.keys()[0].split('/')[2:]\n",
    "test = []\n",
    "getFieldValue(drug_plan_data['plan'][0], k, test, add_list)\n",
    "\n",
    "print [uni_val.values()[0].index(x) for x in test]"
   ]
  },
  {
   "cell_type": "code",
   "execution_count": 314,
   "metadata": {
    "collapsed": false
   },
   "outputs": [
    {
     "data": {
      "text/plain": [
       "2"
      ]
     },
     "execution_count": 314,
     "metadata": {},
     "output_type": "execute_result"
    }
   ],
   "source": [
    "uni_val.values()[0].index('1-MONTH-IN-RETAIL')"
   ]
  },
  {
   "cell_type": "code",
   "execution_count": 510,
   "metadata": {
    "collapsed": false
   },
   "outputs": [
    {
     "name": "stdout",
     "output_type": "stream",
     "text": [
      "plan/properties/formulary/properties/cost_sharing/properties/pharmacy_type\n",
      "plan/properties/formulary/properties/drug_tier\n",
      "plan/properties/network/properties/network_tier\n",
      "plan/properties/formulary/properties/cost_sharing/properties/coinsurance_rate\n",
      "plan/properties/plan_id_type\n",
      "plan/properties/formulary/properties/mail_order\n",
      "plan/properties/formulary/properties/cost_sharing/properties/coinsurance_opt\n",
      "plan/properties/formulary/properties/cost_sharing/properties/copay_opt\n",
      "plan/properties/formulary/properties/cost_sharing/properties/copay_amount\n"
     ]
    }
   ],
   "source": [
    "import numpy as np\n",
    "\n",
    "features = []\n",
    "\n",
    "for k,v in uni_val.items():\n",
    "    if not k.startswith('plan'):\n",
    "        continue\n",
    "    print k\n",
    "    fea = []\n",
    "    for pl in drug_plan_data['plan']:    \n",
    "        if len(pl['formulary'])==0:\n",
    "            continue\n",
    "        plan_val = []\n",
    "        getFieldValue(pl, k.split('/')[2:], plan_val, add_list)             \n",
    "        fea.append([v.index(x) for x in plan_val] if field_list[k] == 'string' else plan_val)\n",
    "    # assemble\n",
    "    features.append(np.array(fea))            \n",
    "        \n",
    "            "
   ]
  },
  {
   "cell_type": "code",
   "execution_count": 528,
   "metadata": {
    "collapsed": false
   },
   "outputs": [
    {
     "data": {
      "text/plain": [
       "array([[6, 4, 0, 1, 5, 2, 3],\n",
       "       [6, 4, 0, 1, 5, 2, 3],\n",
       "       [6, 4, 0, 1, 5, 2, 3],\n",
       "       [6, 4, 0, 1, 5, 2, 3],\n",
       "       [6, 4, 0, 1, 5, 2, 3],\n",
       "       [6, 4, 0, 1, 5, 2, 3],\n",
       "       [6, 4, 0, 1, 5, 2, 3],\n",
       "       [6, 4, 0, 1, 5, 2, 3],\n",
       "       [6, 4, 0, 1, 5, 2, 3],\n",
       "       [6, 4, 0, 1, 5, 2, 3],\n",
       "       [6, 4, 0, 1, 5, 2, 3]])"
      ]
     },
     "execution_count": 528,
     "metadata": {},
     "output_type": "execute_result"
    }
   ],
   "source": [
    "features[1]"
   ]
  },
  {
   "cell_type": "code",
   "execution_count": 482,
   "metadata": {
    "collapsed": false,
    "scrolled": false
   },
   "outputs": [],
   "source": [
    "features = []\n",
    "\n",
    "for pl in drug_plan_data['plan']:\n",
    "    p_fea = []\n",
    "    for k,v in uni_val.items():\n",
    "        if not k.startswith('plan'):\n",
    "            continue\n",
    "        fea_val = []\n",
    "        getFieldValue(pl, k.split('/')[2:], fea_val, add_list)\n",
    "        p_fea += [v.index(x) for x in fea_val] if field_list[k]=='string' else fea_val\n",
    "    features.append(np.array(p_fea))\n",
    "        "
   ]
  },
  {
   "cell_type": "code",
   "execution_count": 495,
   "metadata": {
    "collapsed": false,
    "scrolled": false
   },
   "outputs": [
    {
     "data": {
      "text/plain": [
       "[91, 91, 91, 91, 91, 91, 91, 91, 91, 91, 91, 2, 2, 2, 2]"
      ]
     },
     "execution_count": 495,
     "metadata": {},
     "output_type": "execute_result"
    }
   ],
   "source": [
    "[len(x) for x in features]"
   ]
  },
  {
   "cell_type": "code",
   "execution_count": 506,
   "metadata": {
    "collapsed": false
   },
   "outputs": [
    {
     "data": {
      "text/plain": [
       "[{u'drug_tier': u'PREFERRED',\n",
       "  u'plan_id': u'73836AK0750002',\n",
       "  u'plan_id_type': u'HIOS-PLAN-ID',\n",
       "  u'prior_authorization': False,\n",
       "  u'quantity_limit': True,\n",
       "  u'step_therapy': True},\n",
       " {u'drug_tier': u'PREFERRED',\n",
       "  u'plan_id': u'73836AK0750001',\n",
       "  u'plan_id_type': u'HIOS-PLAN-ID',\n",
       "  u'prior_authorization': False,\n",
       "  u'quantity_limit': True,\n",
       "  u'step_therapy': True},\n",
       " {u'drug_tier': u'PREFERRED',\n",
       "  u'plan_id': u'73836AK0750003',\n",
       "  u'plan_id_type': u'HIOS-PLAN-ID',\n",
       "  u'prior_authorization': False,\n",
       "  u'quantity_limit': True,\n",
       "  u'step_therapy': True},\n",
       " {u'drug_tier': u'PREFERRED',\n",
       "  u'plan_id': u'73836AK0750004',\n",
       "  u'plan_id_type': u'HIOS-PLAN-ID',\n",
       "  u'prior_authorization': False,\n",
       "  u'quantity_limit': True,\n",
       "  u'step_therapy': True},\n",
       " {u'drug_tier': u'PREFERRED',\n",
       "  u'plan_id': u'73836AK0840001',\n",
       "  u'plan_id_type': u'HIOS-PLAN-ID',\n",
       "  u'prior_authorization': False,\n",
       "  u'quantity_limit': True,\n",
       "  u'step_therapy': True},\n",
       " {u'drug_tier': u'PREFERRED',\n",
       "  u'plan_id': u'73836AK0850001',\n",
       "  u'plan_id_type': u'HIOS-PLAN-ID',\n",
       "  u'prior_authorization': False,\n",
       "  u'quantity_limit': True,\n",
       "  u'step_therapy': True},\n",
       " {u'drug_tier': u'PREFERRED',\n",
       "  u'plan_id': u'73836AK0850002',\n",
       "  u'plan_id_type': u'HIOS-PLAN-ID',\n",
       "  u'prior_authorization': False,\n",
       "  u'quantity_limit': True,\n",
       "  u'step_therapy': True},\n",
       " {u'drug_tier': u'PREFERRED',\n",
       "  u'plan_id': u'73836AK0860001',\n",
       "  u'plan_id_type': u'HIOS-PLAN-ID',\n",
       "  u'prior_authorization': False,\n",
       "  u'quantity_limit': True,\n",
       "  u'step_therapy': True},\n",
       " {u'drug_tier': u'PREFERRED',\n",
       "  u'plan_id': u'73836AK0860002',\n",
       "  u'plan_id_type': u'HIOS-PLAN-ID',\n",
       "  u'prior_authorization': False,\n",
       "  u'quantity_limit': True,\n",
       "  u'step_therapy': True},\n",
       " {u'drug_tier': u'PREFERRED',\n",
       "  u'plan_id': u'73836AK0790001',\n",
       "  u'plan_id_type': u'HIOS-PLAN-ID',\n",
       "  u'prior_authorization': False,\n",
       "  u'quantity_limit': True,\n",
       "  u'step_therapy': True},\n",
       " {u'drug_tier': u'PREFERRED',\n",
       "  u'plan_id': u'73836AK0790002',\n",
       "  u'plan_id_type': u'HIOS-PLAN-ID',\n",
       "  u'prior_authorization': False,\n",
       "  u'quantity_limit': True,\n",
       "  u'step_therapy': True}]"
      ]
     },
     "execution_count": 506,
     "metadata": {},
     "output_type": "execute_result"
    }
   ],
   "source": [
    "drug_plan_data['drug'][1100]['plans']"
   ]
  },
  {
   "cell_type": "code",
   "execution_count": 507,
   "metadata": {
    "collapsed": false
   },
   "outputs": [
    {
     "data": {
      "text/plain": [
       "266"
      ]
     },
     "execution_count": 507,
     "metadata": {},
     "output_type": "execute_result"
    }
   ],
   "source": [
    "[len(d['plans']) for d in drug_plan_data['drug']].index(22)"
   ]
  },
  {
   "cell_type": "code",
   "execution_count": 508,
   "metadata": {
    "collapsed": false,
    "scrolled": false
   },
   "outputs": [
    {
     "data": {
      "text/plain": [
       "[{u'drug_tier': u'PREFERRED',\n",
       "  u'plan_id': u'73836AK0750001',\n",
       "  u'plan_id_type': u'HIOS-PLAN-ID',\n",
       "  u'prior_authorization': False,\n",
       "  u'quantity_limit': False,\n",
       "  u'step_therapy': False},\n",
       " {u'drug_tier': u'BRAND',\n",
       "  u'plan_id': u'73836AK0750001',\n",
       "  u'plan_id_type': u'HIOS-PLAN-ID',\n",
       "  u'prior_authorization': False,\n",
       "  u'quantity_limit': False,\n",
       "  u'step_therapy': False},\n",
       " {u'drug_tier': u'PREFERRED',\n",
       "  u'plan_id': u'73836AK0750003',\n",
       "  u'plan_id_type': u'HIOS-PLAN-ID',\n",
       "  u'prior_authorization': False,\n",
       "  u'quantity_limit': False,\n",
       "  u'step_therapy': False},\n",
       " {u'drug_tier': u'BRAND',\n",
       "  u'plan_id': u'73836AK0750003',\n",
       "  u'plan_id_type': u'HIOS-PLAN-ID',\n",
       "  u'prior_authorization': False,\n",
       "  u'quantity_limit': False,\n",
       "  u'step_therapy': False},\n",
       " {u'drug_tier': u'PREFERRED',\n",
       "  u'plan_id': u'73836AK0750004',\n",
       "  u'plan_id_type': u'HIOS-PLAN-ID',\n",
       "  u'prior_authorization': False,\n",
       "  u'quantity_limit': False,\n",
       "  u'step_therapy': False},\n",
       " {u'drug_tier': u'BRAND',\n",
       "  u'plan_id': u'73836AK0750004',\n",
       "  u'plan_id_type': u'HIOS-PLAN-ID',\n",
       "  u'prior_authorization': False,\n",
       "  u'quantity_limit': False,\n",
       "  u'step_therapy': False},\n",
       " {u'drug_tier': u'PREFERRED',\n",
       "  u'plan_id': u'73836AK0840001',\n",
       "  u'plan_id_type': u'HIOS-PLAN-ID',\n",
       "  u'prior_authorization': False,\n",
       "  u'quantity_limit': False,\n",
       "  u'step_therapy': False},\n",
       " {u'drug_tier': u'BRAND',\n",
       "  u'plan_id': u'73836AK0840001',\n",
       "  u'plan_id_type': u'HIOS-PLAN-ID',\n",
       "  u'prior_authorization': False,\n",
       "  u'quantity_limit': False,\n",
       "  u'step_therapy': False},\n",
       " {u'drug_tier': u'PREFERRED',\n",
       "  u'plan_id': u'73836AK0850001',\n",
       "  u'plan_id_type': u'HIOS-PLAN-ID',\n",
       "  u'prior_authorization': False,\n",
       "  u'quantity_limit': False,\n",
       "  u'step_therapy': False},\n",
       " {u'drug_tier': u'BRAND',\n",
       "  u'plan_id': u'73836AK0850001',\n",
       "  u'plan_id_type': u'HIOS-PLAN-ID',\n",
       "  u'prior_authorization': False,\n",
       "  u'quantity_limit': False,\n",
       "  u'step_therapy': False},\n",
       " {u'drug_tier': u'PREFERRED',\n",
       "  u'plan_id': u'73836AK0850002',\n",
       "  u'plan_id_type': u'HIOS-PLAN-ID',\n",
       "  u'prior_authorization': False,\n",
       "  u'quantity_limit': False,\n",
       "  u'step_therapy': False},\n",
       " {u'drug_tier': u'BRAND',\n",
       "  u'plan_id': u'73836AK0850002',\n",
       "  u'plan_id_type': u'HIOS-PLAN-ID',\n",
       "  u'prior_authorization': False,\n",
       "  u'quantity_limit': False,\n",
       "  u'step_therapy': False},\n",
       " {u'drug_tier': u'PREFERRED',\n",
       "  u'plan_id': u'73836AK0860001',\n",
       "  u'plan_id_type': u'HIOS-PLAN-ID',\n",
       "  u'prior_authorization': False,\n",
       "  u'quantity_limit': False,\n",
       "  u'step_therapy': False},\n",
       " {u'drug_tier': u'BRAND',\n",
       "  u'plan_id': u'73836AK0860001',\n",
       "  u'plan_id_type': u'HIOS-PLAN-ID',\n",
       "  u'prior_authorization': False,\n",
       "  u'quantity_limit': False,\n",
       "  u'step_therapy': False},\n",
       " {u'drug_tier': u'PREFERRED',\n",
       "  u'plan_id': u'73836AK0860002',\n",
       "  u'plan_id_type': u'HIOS-PLAN-ID',\n",
       "  u'prior_authorization': False,\n",
       "  u'quantity_limit': False,\n",
       "  u'step_therapy': False},\n",
       " {u'drug_tier': u'BRAND',\n",
       "  u'plan_id': u'73836AK0860002',\n",
       "  u'plan_id_type': u'HIOS-PLAN-ID',\n",
       "  u'prior_authorization': False,\n",
       "  u'quantity_limit': False,\n",
       "  u'step_therapy': False},\n",
       " {u'drug_tier': u'PREFERRED',\n",
       "  u'plan_id': u'73836AK0790001',\n",
       "  u'plan_id_type': u'HIOS-PLAN-ID',\n",
       "  u'prior_authorization': False,\n",
       "  u'quantity_limit': False,\n",
       "  u'step_therapy': False},\n",
       " {u'drug_tier': u'BRAND',\n",
       "  u'plan_id': u'73836AK0790001',\n",
       "  u'plan_id_type': u'HIOS-PLAN-ID',\n",
       "  u'prior_authorization': False,\n",
       "  u'quantity_limit': False,\n",
       "  u'step_therapy': False},\n",
       " {u'drug_tier': u'PREFERRED',\n",
       "  u'plan_id': u'73836AK0790002',\n",
       "  u'plan_id_type': u'HIOS-PLAN-ID',\n",
       "  u'prior_authorization': False,\n",
       "  u'quantity_limit': False,\n",
       "  u'step_therapy': False},\n",
       " {u'drug_tier': u'BRAND',\n",
       "  u'plan_id': u'73836AK0790002',\n",
       "  u'plan_id_type': u'HIOS-PLAN-ID',\n",
       "  u'prior_authorization': False,\n",
       "  u'quantity_limit': False,\n",
       "  u'step_therapy': False},\n",
       " {u'drug_tier': u'PREFERRED',\n",
       "  u'plan_id': u'73836AK0750002',\n",
       "  u'plan_id_type': u'HIOS-PLAN-ID',\n",
       "  u'prior_authorization': False,\n",
       "  u'quantity_limit': False,\n",
       "  u'step_therapy': False},\n",
       " {u'drug_tier': u'BRAND',\n",
       "  u'plan_id': u'73836AK0750002',\n",
       "  u'plan_id_type': u'HIOS-PLAN-ID',\n",
       "  u'prior_authorization': False,\n",
       "  u'quantity_limit': False,\n",
       "  u'step_therapy': False}]"
      ]
     },
     "execution_count": 508,
     "metadata": {},
     "output_type": "execute_result"
    }
   ],
   "source": [
    "drug_plan_data['drug'][266]['plans']"
   ]
  },
  {
   "cell_type": "code",
   "execution_count": 8,
   "metadata": {
    "collapsed": true
   },
   "outputs": [],
   "source": [
    "def process_formulary_url(input_list, es):\n",
    "    # process each drug in the formulary\n",
    "    for drug in input_list:\n",
    "        # check optional fields and add them if they are missing\n",
    "        for plan in drug['plans']:\n",
    "            if 'prior_authorization' not in plan:\n",
    "                plan['prior_authorization'] = 'false'\n",
    "            if 'step_therapy' not in plan:\n",
    "                plan['step_therapy'] = 'false'\n",
    "            if 'quantity_limit' not in plan:\n",
    "                plan['quanitity_limit'] = 'false'\n",
    "        es.index(index='data', doc_type='drug', body=drug)"
   ]
  },
  {
   "cell_type": "code",
   "execution_count": 10,
   "metadata": {
    "collapsed": false
   },
   "outputs": [],
   "source": [
    "process_formulary_url(bluecross_drugs_list, client)"
   ]
  },
  {
   "cell_type": "code",
   "execution_count": 22,
   "metadata": {
    "collapsed": true
   },
   "outputs": [],
   "source": [
    "def query(query_text, client):\n",
    "    s = Search().using(client).query(\"match\", drug_name=query_text)\n",
    "    response = s.execute()\n",
    "    for hit in response:\n",
    "        print('/%s/%s/%s returned with score %f' % (hit.meta.index, hit.meta.doc_type, hit.meta.id, hit.meta.score))        \n",
    "        print \"DRUG NAME: {}\".format(hit.drug_name)\n",
    "        print \"PLANS: \"\n",
    "        print hit.plans\n",
    "        print \"---------------------\\n\""
   ]
  },
  {
   "cell_type": "code",
   "execution_count": 34,
   "metadata": {
    "collapsed": false,
    "scrolled": false
   },
   "outputs": [
    {
     "name": "stdout",
     "output_type": "stream",
     "text": [
      "/data/drug/AVVpD5xaHBTA23S7lkyA returned with score 4.048774\n",
      "DRUG NAME: VIAGRA       TAB 100MG\n",
      "PLANS: \n",
      "[{u'quantity_limit': True, u'plan_id': u'46944AL0460001', u'plan_id_type': u'HIOS-PLAN-ID', u'step_therapy': False, u'prior_authorization': True, u'drug_tier': u'TIER-THREE'}, {u'quantity_limit': True, u'plan_id': u'46944AL0560001', u'plan_id_type': u'HIOS-PLAN-ID', u'step_therapy': False, u'prior_authorization': True, u'drug_tier': u'TIER-THREE'}, {u'quantity_limit': True, u'plan_id': u'46944AL0410001', u'plan_id_type': u'HIOS-PLAN-ID', u'step_therapy': False, u'prior_authorization': True, u'drug_tier': u'TIER-THREE'}, {u'quantity_limit': True, u'plan_id': u'46944AL0420001', u'plan_id_type': u'HIOS-PLAN-ID', u'step_therapy': False, u'prior_authorization': True, u'drug_tier': u'TIER-THREE'}, {u'quantity_limit': True, u'plan_id': u'46944AL0470001', u'plan_id_type': u'HIOS-PLAN-ID', u'step_therapy': False, u'prior_authorization': True, u'drug_tier': u'TIER-THREE'}, {u'quantity_limit': True, u'plan_id': u'46944AL0380001', u'plan_id_type': u'HIOS-PLAN-ID', u'step_therapy': False, u'prior_authorization': True, u'drug_tier': u'TIER-THREE'}, {u'quantity_limit': True, u'plan_id': u'46944AL0430001', u'plan_id_type': u'HIOS-PLAN-ID', u'step_therapy': False, u'prior_authorization': True, u'drug_tier': u'TIER-THREE'}, {u'quantity_limit': True, u'plan_id': u'46944AL0570001', u'plan_id_type': u'HIOS-PLAN-ID', u'step_therapy': False, u'prior_authorization': True, u'drug_tier': u'TIER-THREE'}, {u'quantity_limit': True, u'plan_id': u'46944AL0620001', u'plan_id_type': u'HIOS-PLAN-ID', u'step_therapy': False, u'prior_authorization': True, u'drug_tier': u'TIER-THREE'}, {u'quantity_limit': True, u'plan_id': u'46944AL0630001', u'plan_id_type': u'HIOS-PLAN-ID', u'step_therapy': False, u'prior_authorization': True, u'drug_tier': u'TIER-THREE'}]\n",
      "---------------------\n",
      "\n",
      "/data/drug/AVVpD5xWHBTA23S7lkx- returned with score 3.848105\n",
      "DRUG NAME: VIAGRA       TAB 25MG\n",
      "PLANS: \n",
      "[{u'quantity_limit': True, u'plan_id': u'46944AL0460001', u'plan_id_type': u'HIOS-PLAN-ID', u'step_therapy': False, u'prior_authorization': True, u'drug_tier': u'TIER-THREE'}, {u'quantity_limit': True, u'plan_id': u'46944AL0560001', u'plan_id_type': u'HIOS-PLAN-ID', u'step_therapy': False, u'prior_authorization': True, u'drug_tier': u'TIER-THREE'}, {u'quantity_limit': True, u'plan_id': u'46944AL0410001', u'plan_id_type': u'HIOS-PLAN-ID', u'step_therapy': False, u'prior_authorization': True, u'drug_tier': u'TIER-THREE'}, {u'quantity_limit': True, u'plan_id': u'46944AL0420001', u'plan_id_type': u'HIOS-PLAN-ID', u'step_therapy': False, u'prior_authorization': True, u'drug_tier': u'TIER-THREE'}, {u'quantity_limit': True, u'plan_id': u'46944AL0470001', u'plan_id_type': u'HIOS-PLAN-ID', u'step_therapy': False, u'prior_authorization': True, u'drug_tier': u'TIER-THREE'}, {u'quantity_limit': True, u'plan_id': u'46944AL0380001', u'plan_id_type': u'HIOS-PLAN-ID', u'step_therapy': False, u'prior_authorization': True, u'drug_tier': u'TIER-THREE'}, {u'quantity_limit': True, u'plan_id': u'46944AL0430001', u'plan_id_type': u'HIOS-PLAN-ID', u'step_therapy': False, u'prior_authorization': True, u'drug_tier': u'TIER-THREE'}, {u'quantity_limit': True, u'plan_id': u'46944AL0570001', u'plan_id_type': u'HIOS-PLAN-ID', u'step_therapy': False, u'prior_authorization': True, u'drug_tier': u'TIER-THREE'}, {u'quantity_limit': True, u'plan_id': u'46944AL0620001', u'plan_id_type': u'HIOS-PLAN-ID', u'step_therapy': False, u'prior_authorization': True, u'drug_tier': u'TIER-THREE'}, {u'quantity_limit': True, u'plan_id': u'46944AL0630001', u'plan_id_type': u'HIOS-PLAN-ID', u'step_therapy': False, u'prior_authorization': True, u'drug_tier': u'TIER-THREE'}]\n",
      "---------------------\n",
      "\n",
      "/data/drug/AVVpD5xYHBTA23S7lkx_ returned with score 3.848105\n",
      "DRUG NAME: VIAGRA       TAB 50MG\n",
      "PLANS: \n",
      "[{u'quantity_limit': True, u'plan_id': u'46944AL0460001', u'plan_id_type': u'HIOS-PLAN-ID', u'step_therapy': False, u'prior_authorization': True, u'drug_tier': u'TIER-THREE'}, {u'quantity_limit': True, u'plan_id': u'46944AL0560001', u'plan_id_type': u'HIOS-PLAN-ID', u'step_therapy': False, u'prior_authorization': True, u'drug_tier': u'TIER-THREE'}, {u'quantity_limit': True, u'plan_id': u'46944AL0410001', u'plan_id_type': u'HIOS-PLAN-ID', u'step_therapy': False, u'prior_authorization': True, u'drug_tier': u'TIER-THREE'}, {u'quantity_limit': True, u'plan_id': u'46944AL0420001', u'plan_id_type': u'HIOS-PLAN-ID', u'step_therapy': False, u'prior_authorization': True, u'drug_tier': u'TIER-THREE'}, {u'quantity_limit': True, u'plan_id': u'46944AL0470001', u'plan_id_type': u'HIOS-PLAN-ID', u'step_therapy': False, u'prior_authorization': True, u'drug_tier': u'TIER-THREE'}, {u'quantity_limit': True, u'plan_id': u'46944AL0380001', u'plan_id_type': u'HIOS-PLAN-ID', u'step_therapy': False, u'prior_authorization': True, u'drug_tier': u'TIER-THREE'}, {u'quantity_limit': True, u'plan_id': u'46944AL0430001', u'plan_id_type': u'HIOS-PLAN-ID', u'step_therapy': False, u'prior_authorization': True, u'drug_tier': u'TIER-THREE'}, {u'quantity_limit': True, u'plan_id': u'46944AL0570001', u'plan_id_type': u'HIOS-PLAN-ID', u'step_therapy': False, u'prior_authorization': True, u'drug_tier': u'TIER-THREE'}, {u'quantity_limit': True, u'plan_id': u'46944AL0620001', u'plan_id_type': u'HIOS-PLAN-ID', u'step_therapy': False, u'prior_authorization': True, u'drug_tier': u'TIER-THREE'}, {u'quantity_limit': True, u'plan_id': u'46944AL0630001', u'plan_id_type': u'HIOS-PLAN-ID', u'step_therapy': False, u'prior_authorization': True, u'drug_tier': u'TIER-THREE'}]\n",
      "---------------------\n",
      "\n",
      "/data/drug/AVVpD8MTHBTA23S7lmQy returned with score 3.699921\n",
      "DRUG NAME: VIAGRA       TAB 25MG\n",
      "PLANS: \n",
      "[{u'quantity_limit': True, u'plan_id': u'46944AL0370001', u'plan_id_type': u'HIOS-PLAN-ID', u'step_therapy': False, u'prior_authorization': True, u'drug_tier': u'TIER-THREE'}, {u'quantity_limit': True, u'plan_id': u'46944AL0280001', u'plan_id_type': u'HIOS-PLAN-ID', u'step_therapy': False, u'prior_authorization': True, u'drug_tier': u'TIER-THREE'}, {u'quantity_limit': True, u'plan_id': u'46944AL0340001', u'plan_id_type': u'HIOS-PLAN-ID', u'step_therapy': False, u'prior_authorization': True, u'drug_tier': u'TIER-THREE'}, {u'quantity_limit': True, u'plan_id': u'46944AL0310001', u'plan_id_type': u'HIOS-PLAN-ID', u'step_therapy': False, u'prior_authorization': True, u'drug_tier': u'TIER-THREE'}]\n",
      "---------------------\n",
      "\n",
      "/data/drug/AVVpD8MUHBTA23S7lmQz returned with score 3.699921\n",
      "DRUG NAME: VIAGRA       TAB 50MG\n",
      "PLANS: \n",
      "[{u'quantity_limit': True, u'plan_id': u'46944AL0370001', u'plan_id_type': u'HIOS-PLAN-ID', u'step_therapy': False, u'prior_authorization': True, u'drug_tier': u'TIER-THREE'}, {u'quantity_limit': True, u'plan_id': u'46944AL0280001', u'plan_id_type': u'HIOS-PLAN-ID', u'step_therapy': False, u'prior_authorization': True, u'drug_tier': u'TIER-THREE'}, {u'quantity_limit': True, u'plan_id': u'46944AL0340001', u'plan_id_type': u'HIOS-PLAN-ID', u'step_therapy': False, u'prior_authorization': True, u'drug_tier': u'TIER-THREE'}, {u'quantity_limit': True, u'plan_id': u'46944AL0310001', u'plan_id_type': u'HIOS-PLAN-ID', u'step_therapy': False, u'prior_authorization': True, u'drug_tier': u'TIER-THREE'}]\n",
      "---------------------\n",
      "\n",
      "/data/drug/AVVpD8MVHBTA23S7lmQ0 returned with score 3.699921\n",
      "DRUG NAME: VIAGRA       TAB 100MG\n",
      "PLANS: \n",
      "[{u'quantity_limit': True, u'plan_id': u'46944AL0370001', u'plan_id_type': u'HIOS-PLAN-ID', u'step_therapy': False, u'prior_authorization': True, u'drug_tier': u'TIER-THREE'}, {u'quantity_limit': True, u'plan_id': u'46944AL0280001', u'plan_id_type': u'HIOS-PLAN-ID', u'step_therapy': False, u'prior_authorization': True, u'drug_tier': u'TIER-THREE'}, {u'quantity_limit': True, u'plan_id': u'46944AL0340001', u'plan_id_type': u'HIOS-PLAN-ID', u'step_therapy': False, u'prior_authorization': True, u'drug_tier': u'TIER-THREE'}, {u'quantity_limit': True, u'plan_id': u'46944AL0310001', u'plan_id_type': u'HIOS-PLAN-ID', u'step_therapy': False, u'prior_authorization': True, u'drug_tier': u'TIER-THREE'}]\n",
      "---------------------\n",
      "\n"
     ]
    }
   ],
   "source": [
    "query(\"VIAGRA\", client)"
   ]
  },
  {
   "cell_type": "code",
   "execution_count": 13,
   "metadata": {
    "collapsed": false,
    "scrolled": false
   },
   "outputs": [
    {
     "name": "stdout",
     "output_type": "stream",
     "text": [
      "/data/drug/AVVpD8vhHBTA23S7lmq2 returned with score 3.353347\n",
      "DRUG NAME: MORPHINE SUL TAB 15MG\n",
      "PLANS: \n",
      "[{u'quantity_limit': True, u'plan_id': u'46944AL0370001', u'plan_id_type': u'HIOS-PLAN-ID', u'step_therapy': False, u'prior_authorization': False, u'drug_tier': u'TIER-TWO'}, {u'quantity_limit': True, u'plan_id': u'46944AL0280001', u'plan_id_type': u'HIOS-PLAN-ID', u'step_therapy': False, u'prior_authorization': False, u'drug_tier': u'TIER-TWO'}, {u'quantity_limit': True, u'plan_id': u'46944AL0340001', u'plan_id_type': u'HIOS-PLAN-ID', u'step_therapy': False, u'prior_authorization': False, u'drug_tier': u'TIER-TWO'}, {u'quantity_limit': True, u'plan_id': u'46944AL0310001', u'plan_id_type': u'HIOS-PLAN-ID', u'step_therapy': False, u'prior_authorization': False, u'drug_tier': u'TIER-TWO'}]\n",
      "---------------------\n",
      "\n",
      "/data/drug/AVVpD8vjHBTA23S7lmq3 returned with score 3.353347\n",
      "DRUG NAME: MORPHINE SUL TAB 30MG\n",
      "PLANS: \n",
      "[{u'quantity_limit': True, u'plan_id': u'46944AL0370001', u'plan_id_type': u'HIOS-PLAN-ID', u'step_therapy': False, u'prior_authorization': False, u'drug_tier': u'TIER-TWO'}, {u'quantity_limit': True, u'plan_id': u'46944AL0280001', u'plan_id_type': u'HIOS-PLAN-ID', u'step_therapy': False, u'prior_authorization': False, u'drug_tier': u'TIER-TWO'}, {u'quantity_limit': True, u'plan_id': u'46944AL0340001', u'plan_id_type': u'HIOS-PLAN-ID', u'step_therapy': False, u'prior_authorization': False, u'drug_tier': u'TIER-TWO'}, {u'quantity_limit': True, u'plan_id': u'46944AL0310001', u'plan_id_type': u'HIOS-PLAN-ID', u'step_therapy': False, u'prior_authorization': False, u'drug_tier': u'TIER-TWO'}]\n",
      "---------------------\n",
      "\n",
      "/data/drug/AVVpD6fqHBTA23S7llLn returned with score 3.209261\n",
      "DRUG NAME: MORPHINE SUL TAB 30MG\n",
      "PLANS: \n",
      "[{u'quantity_limit': True, u'plan_id': u'46944AL0460001', u'plan_id_type': u'HIOS-PLAN-ID', u'step_therapy': False, u'prior_authorization': False, u'drug_tier': u'TIER-TWO'}, {u'quantity_limit': True, u'plan_id': u'46944AL0560001', u'plan_id_type': u'HIOS-PLAN-ID', u'step_therapy': False, u'prior_authorization': False, u'drug_tier': u'TIER-TWO'}, {u'quantity_limit': True, u'plan_id': u'46944AL0410001', u'plan_id_type': u'HIOS-PLAN-ID', u'step_therapy': False, u'prior_authorization': False, u'drug_tier': u'TIER-TWO'}, {u'quantity_limit': True, u'plan_id': u'46944AL0420001', u'plan_id_type': u'HIOS-PLAN-ID', u'step_therapy': False, u'prior_authorization': False, u'drug_tier': u'TIER-TWO'}, {u'quantity_limit': True, u'plan_id': u'46944AL0470001', u'plan_id_type': u'HIOS-PLAN-ID', u'step_therapy': False, u'prior_authorization': False, u'drug_tier': u'TIER-TWO'}, {u'quantity_limit': True, u'plan_id': u'46944AL0380001', u'plan_id_type': u'HIOS-PLAN-ID', u'step_therapy': False, u'prior_authorization': False, u'drug_tier': u'TIER-TWO'}, {u'quantity_limit': True, u'plan_id': u'46944AL0430001', u'plan_id_type': u'HIOS-PLAN-ID', u'step_therapy': False, u'prior_authorization': False, u'drug_tier': u'TIER-TWO'}, {u'quantity_limit': True, u'plan_id': u'46944AL0570001', u'plan_id_type': u'HIOS-PLAN-ID', u'step_therapy': False, u'prior_authorization': False, u'drug_tier': u'TIER-TWO'}, {u'quantity_limit': True, u'plan_id': u'46944AL0620001', u'plan_id_type': u'HIOS-PLAN-ID', u'step_therapy': False, u'prior_authorization': False, u'drug_tier': u'TIER-TWO'}, {u'quantity_limit': True, u'plan_id': u'46944AL0630001', u'plan_id_type': u'HIOS-PLAN-ID', u'step_therapy': False, u'prior_authorization': False, u'drug_tier': u'TIER-TWO'}]\n",
      "---------------------\n",
      "\n",
      "/data/drug/AVVpD6fpHBTA23S7llLm returned with score 3.077883\n",
      "DRUG NAME: MORPHINE SUL TAB 15MG\n",
      "PLANS: \n",
      "[{u'quantity_limit': True, u'plan_id': u'46944AL0460001', u'plan_id_type': u'HIOS-PLAN-ID', u'step_therapy': False, u'prior_authorization': False, u'drug_tier': u'TIER-TWO'}, {u'quantity_limit': True, u'plan_id': u'46944AL0560001', u'plan_id_type': u'HIOS-PLAN-ID', u'step_therapy': False, u'prior_authorization': False, u'drug_tier': u'TIER-TWO'}, {u'quantity_limit': True, u'plan_id': u'46944AL0410001', u'plan_id_type': u'HIOS-PLAN-ID', u'step_therapy': False, u'prior_authorization': False, u'drug_tier': u'TIER-TWO'}, {u'quantity_limit': True, u'plan_id': u'46944AL0420001', u'plan_id_type': u'HIOS-PLAN-ID', u'step_therapy': False, u'prior_authorization': False, u'drug_tier': u'TIER-TWO'}, {u'quantity_limit': True, u'plan_id': u'46944AL0470001', u'plan_id_type': u'HIOS-PLAN-ID', u'step_therapy': False, u'prior_authorization': False, u'drug_tier': u'TIER-TWO'}, {u'quantity_limit': True, u'plan_id': u'46944AL0380001', u'plan_id_type': u'HIOS-PLAN-ID', u'step_therapy': False, u'prior_authorization': False, u'drug_tier': u'TIER-TWO'}, {u'quantity_limit': True, u'plan_id': u'46944AL0430001', u'plan_id_type': u'HIOS-PLAN-ID', u'step_therapy': False, u'prior_authorization': False, u'drug_tier': u'TIER-TWO'}, {u'quantity_limit': True, u'plan_id': u'46944AL0570001', u'plan_id_type': u'HIOS-PLAN-ID', u'step_therapy': False, u'prior_authorization': False, u'drug_tier': u'TIER-TWO'}, {u'quantity_limit': True, u'plan_id': u'46944AL0620001', u'plan_id_type': u'HIOS-PLAN-ID', u'step_therapy': False, u'prior_authorization': False, u'drug_tier': u'TIER-TWO'}, {u'quantity_limit': True, u'plan_id': u'46944AL0630001', u'plan_id_type': u'HIOS-PLAN-ID', u'step_therapy': False, u'prior_authorization': False, u'drug_tier': u'TIER-TWO'}]\n",
      "---------------------\n",
      "\n",
      "/data/drug/AVVpD6gHHBTA23S7llL4 returned with score 2.936174\n",
      "DRUG NAME: MORPHINE SUL CAP 20MG ER\n",
      "PLANS: \n",
      "[{u'quantity_limit': True, u'plan_id': u'46944AL0460001', u'plan_id_type': u'HIOS-PLAN-ID', u'step_therapy': False, u'prior_authorization': False, u'drug_tier': u'TIER-ONE'}, {u'quantity_limit': True, u'plan_id': u'46944AL0560001', u'plan_id_type': u'HIOS-PLAN-ID', u'step_therapy': False, u'prior_authorization': False, u'drug_tier': u'TIER-ONE'}, {u'quantity_limit': True, u'plan_id': u'46944AL0410001', u'plan_id_type': u'HIOS-PLAN-ID', u'step_therapy': False, u'prior_authorization': False, u'drug_tier': u'TIER-ONE'}, {u'quantity_limit': True, u'plan_id': u'46944AL0420001', u'plan_id_type': u'HIOS-PLAN-ID', u'step_therapy': False, u'prior_authorization': False, u'drug_tier': u'TIER-ONE'}, {u'quantity_limit': True, u'plan_id': u'46944AL0470001', u'plan_id_type': u'HIOS-PLAN-ID', u'step_therapy': False, u'prior_authorization': False, u'drug_tier': u'TIER-ONE'}, {u'quantity_limit': True, u'plan_id': u'46944AL0380001', u'plan_id_type': u'HIOS-PLAN-ID', u'step_therapy': False, u'prior_authorization': False, u'drug_tier': u'TIER-ONE'}, {u'quantity_limit': True, u'plan_id': u'46944AL0430001', u'plan_id_type': u'HIOS-PLAN-ID', u'step_therapy': False, u'prior_authorization': False, u'drug_tier': u'TIER-ONE'}, {u'quantity_limit': True, u'plan_id': u'46944AL0570001', u'plan_id_type': u'HIOS-PLAN-ID', u'step_therapy': False, u'prior_authorization': False, u'drug_tier': u'TIER-ONE'}, {u'quantity_limit': True, u'plan_id': u'46944AL0620001', u'plan_id_type': u'HIOS-PLAN-ID', u'step_therapy': False, u'prior_authorization': False, u'drug_tier': u'TIER-ONE'}, {u'quantity_limit': True, u'plan_id': u'46944AL0630001', u'plan_id_type': u'HIOS-PLAN-ID', u'step_therapy': False, u'prior_authorization': False, u'drug_tier': u'TIER-ONE'}]\n",
      "---------------------\n",
      "\n",
      "/data/drug/AVVpD8v5HBTA23S7lmrI returned with score 2.936174\n",
      "DRUG NAME: MORPHINE SUL CAP 20MG ER\n",
      "PLANS: \n",
      "[{u'quantity_limit': True, u'plan_id': u'46944AL0370001', u'plan_id_type': u'HIOS-PLAN-ID', u'step_therapy': False, u'prior_authorization': False, u'drug_tier': u'TIER-ONE'}, {u'quantity_limit': True, u'plan_id': u'46944AL0280001', u'plan_id_type': u'HIOS-PLAN-ID', u'step_therapy': False, u'prior_authorization': False, u'drug_tier': u'TIER-ONE'}, {u'quantity_limit': True, u'plan_id': u'46944AL0340001', u'plan_id_type': u'HIOS-PLAN-ID', u'step_therapy': False, u'prior_authorization': False, u'drug_tier': u'TIER-ONE'}, {u'quantity_limit': True, u'plan_id': u'46944AL0310001', u'plan_id_type': u'HIOS-PLAN-ID', u'step_therapy': False, u'prior_authorization': False, u'drug_tier': u'TIER-ONE'}]\n",
      "---------------------\n",
      "\n",
      "/data/drug/AVVpD8wBHBTA23S7lmrP returned with score 2.936174\n",
      "DRUG NAME: MORPHINE SUL CAP 60MG ER\n",
      "PLANS: \n",
      "[{u'quantity_limit': True, u'plan_id': u'46944AL0370001', u'plan_id_type': u'HIOS-PLAN-ID', u'step_therapy': False, u'prior_authorization': False, u'drug_tier': u'TIER-ONE'}, {u'quantity_limit': True, u'plan_id': u'46944AL0280001', u'plan_id_type': u'HIOS-PLAN-ID', u'step_therapy': False, u'prior_authorization': False, u'drug_tier': u'TIER-ONE'}, {u'quantity_limit': True, u'plan_id': u'46944AL0340001', u'plan_id_type': u'HIOS-PLAN-ID', u'step_therapy': False, u'prior_authorization': False, u'drug_tier': u'TIER-ONE'}, {u'quantity_limit': True, u'plan_id': u'46944AL0310001', u'plan_id_type': u'HIOS-PLAN-ID', u'step_therapy': False, u'prior_authorization': False, u'drug_tier': u'TIER-ONE'}]\n",
      "---------------------\n",
      "\n",
      "/data/drug/AVVpD8wDHBTA23S7lmrR returned with score 2.936174\n",
      "DRUG NAME: MORPHINE SUL CAP 80MG ER\n",
      "PLANS: \n",
      "[{u'quantity_limit': True, u'plan_id': u'46944AL0370001', u'plan_id_type': u'HIOS-PLAN-ID', u'step_therapy': False, u'prior_authorization': False, u'drug_tier': u'TIER-ONE'}, {u'quantity_limit': True, u'plan_id': u'46944AL0280001', u'plan_id_type': u'HIOS-PLAN-ID', u'step_therapy': False, u'prior_authorization': False, u'drug_tier': u'TIER-ONE'}, {u'quantity_limit': True, u'plan_id': u'46944AL0340001', u'plan_id_type': u'HIOS-PLAN-ID', u'step_therapy': False, u'prior_authorization': False, u'drug_tier': u'TIER-ONE'}, {u'quantity_limit': True, u'plan_id': u'46944AL0310001', u'plan_id_type': u'HIOS-PLAN-ID', u'step_therapy': False, u'prior_authorization': False, u'drug_tier': u'TIER-ONE'}]\n",
      "---------------------\n",
      "\n",
      "/data/drug/AVVpD8wGHBTA23S7lmrT returned with score 2.936174\n",
      "DRUG NAME: MORPHINE SUL CAP 100MG ER\n",
      "PLANS: \n",
      "[{u'quantity_limit': True, u'plan_id': u'46944AL0370001', u'plan_id_type': u'HIOS-PLAN-ID', u'step_therapy': False, u'prior_authorization': False, u'drug_tier': u'TIER-ONE'}, {u'quantity_limit': True, u'plan_id': u'46944AL0280001', u'plan_id_type': u'HIOS-PLAN-ID', u'step_therapy': False, u'prior_authorization': False, u'drug_tier': u'TIER-ONE'}, {u'quantity_limit': True, u'plan_id': u'46944AL0340001', u'plan_id_type': u'HIOS-PLAN-ID', u'step_therapy': False, u'prior_authorization': False, u'drug_tier': u'TIER-ONE'}, {u'quantity_limit': True, u'plan_id': u'46944AL0310001', u'plan_id_type': u'HIOS-PLAN-ID', u'step_therapy': False, u'prior_authorization': False, u'drug_tier': u'TIER-ONE'}]\n",
      "---------------------\n",
      "\n",
      "/data/drug/AVVpD8wJHBTA23S7lmrV returned with score 2.936174\n",
      "DRUG NAME: MORPHINE SUL CAP 30MG ER\n",
      "PLANS: \n",
      "[{u'quantity_limit': True, u'plan_id': u'46944AL0370001', u'plan_id_type': u'HIOS-PLAN-ID', u'step_therapy': False, u'prior_authorization': False, u'drug_tier': u'TIER-THREE'}, {u'quantity_limit': True, u'plan_id': u'46944AL0280001', u'plan_id_type': u'HIOS-PLAN-ID', u'step_therapy': False, u'prior_authorization': False, u'drug_tier': u'TIER-THREE'}, {u'quantity_limit': True, u'plan_id': u'46944AL0340001', u'plan_id_type': u'HIOS-PLAN-ID', u'step_therapy': False, u'prior_authorization': False, u'drug_tier': u'TIER-THREE'}, {u'quantity_limit': True, u'plan_id': u'46944AL0310001', u'plan_id_type': u'HIOS-PLAN-ID', u'step_therapy': False, u'prior_authorization': False, u'drug_tier': u'TIER-THREE'}]\n",
      "---------------------\n",
      "\n"
     ]
    }
   ],
   "source": [
    "query(\"MORPHINE\", client)"
   ]
  },
  {
   "cell_type": "code",
   "execution_count": 452,
   "metadata": {
    "collapsed": false
   },
   "outputs": [
    {
     "data": {
      "text/plain": [
       "OneHotEncoder(categorical_features='all', dtype=<type 'float'>,\n",
       "       n_values='auto', sparse=True)"
      ]
     },
     "execution_count": 452,
     "metadata": {},
     "output_type": "execute_result"
    }
   ],
   "source": [
    "from sklearn.preprocessing import OneHotEncoder\n",
    "enc = OneHotEncoder()\n",
    "enc.fit([[0, 0, 3.14], [1, 1, 0.15], [0, 2, 1.15], [1, 0, 2.0]])  "
   ]
  },
  {
   "cell_type": "code",
   "execution_count": 44,
   "metadata": {
    "collapsed": false
   },
   "outputs": [
    {
     "data": {
      "text/plain": [
       "OneHotEncoder(categorical_features='all', dtype=<type 'float'>,\n",
       "       n_values='auto', sparse=True)"
      ]
     },
     "execution_count": 44,
     "metadata": {},
     "output_type": "execute_result"
    }
   ],
   "source": [
    "enc.fit([[10, 0, 3], [1, 1, 0], [10, 2, 1], [1, 0, 2]])  "
   ]
  },
  {
   "cell_type": "code",
   "execution_count": 453,
   "metadata": {
    "collapsed": false
   },
   "outputs": [
    {
     "data": {
      "text/plain": [
       "array([[ 0.,  1.,  0.,  0.,  1.,  0.,  0.,  0.,  1.]])"
      ]
     },
     "execution_count": 453,
     "metadata": {},
     "output_type": "execute_result"
    }
   ],
   "source": [
    "enc.transform([[1, 2, 3.15]]).toarray()"
   ]
  },
  {
   "cell_type": "code",
   "execution_count": 61,
   "metadata": {
    "collapsed": false
   },
   "outputs": [
    {
     "data": {
      "text/plain": [
       "104"
      ]
     },
     "execution_count": 61,
     "metadata": {},
     "output_type": "execute_result"
    }
   ],
   "source": [
    "ord('h')"
   ]
  }
 ],
 "metadata": {
  "kernelspec": {
   "display_name": "Python 2",
   "language": "python",
   "name": "python2"
  },
  "language_info": {
   "codemirror_mode": {
    "name": "ipython",
    "version": 2
   },
   "file_extension": ".py",
   "mimetype": "text/x-python",
   "name": "python",
   "nbconvert_exporter": "python",
   "pygments_lexer": "ipython2",
   "version": "2.7.9"
  }
 },
 "nbformat": 4,
 "nbformat_minor": 0
}
