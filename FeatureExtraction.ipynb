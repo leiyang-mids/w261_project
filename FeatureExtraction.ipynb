{
 "cells": [
  {
   "cell_type": "code",
   "execution_count": 1,
   "metadata": {
    "collapsed": false
   },
   "outputs": [],
   "source": [
    "import numpy as np\n",
    "from sets import Set\n",
    "import json"
   ]
  },
  {
   "cell_type": "markdown",
   "metadata": {
    "collapsed": false
   },
   "source": [
    "###Generate encode definition from mappings.json"
   ]
  },
  {
   "cell_type": "code",
   "execution_count": 171,
   "metadata": {
    "collapsed": false
   },
   "outputs": [],
   "source": [
    "mappings = json.load(open('mappings.json'))\n",
    "\n",
    "def addEncode(fields):   \n",
    "    ''' add 'encode' field on the mapping definition '''\n",
    "    if ('type' in fields) and ('type' not in fields['type']): #(len(fields)==1):\n",
    "        fields['encode'] = 0\n",
    "    else:\n",
    "        for v in fields.values():\n",
    "            addEncode(v)\n",
    "        \n",
    "addEncode(mappings)\n",
    "\n",
    "with open('encode2.json', 'w') as outfile:\n",
    "    json.dump(mappings['mappings'], outfile)"
   ]
  },
  {
   "cell_type": "markdown",
   "metadata": {},
   "source": [
    "###Load encode definition"
   ]
  },
  {
   "cell_type": "code",
   "execution_count": 41,
   "metadata": {
    "collapsed": false
   },
   "outputs": [],
   "source": [
    "\n",
    "def getEncodeFields(encode_def, rtn, path=''):\n",
    "    ''' extract the selected fields from the encode json definition '''\n",
    "    \n",
    "    if 'encode' in encode_def and encode_def['encode'] == 1:\n",
    "        rtn[path[1:]] = encode_def['type']\n",
    "    elif 'encode' not in encode_def:\n",
    "        for f in encode_def:\n",
    "            getEncodeFields(encode_def[f], rtn, path + '/' + f)\n",
    "    return rtn\n"
   ]
  },
  {
   "cell_type": "markdown",
   "metadata": {},
   "source": [
    "###Retrieve unique values"
   ]
  },
  {
   "cell_type": "code",
   "execution_count": 42,
   "metadata": {
    "collapsed": false
   },
   "outputs": [],
   "source": [
    "# get unique value for each string encode field (prepare for on-hot-encode)\n",
    "\n",
    "def getFieldValue(data, key, val, add_call):\n",
    "    ''' \n",
    "    retrieve value(s) of a feature from the json tree based on the key,\n",
    "    and put them into a set/list.\n",
    "    '''\n",
    "    if len(key) == 1:        \n",
    "        add_call(val, data[key[0]])\n",
    "    elif type(data) is list: # key[0] == 'properties':\n",
    "        for d in data:\n",
    "            getFieldValue(d, key[1:], val, add_call)\n",
    "    else:\n",
    "        getFieldValue(data[key[0]], key[1:], val, add_call)\n",
    "        \n",
    "    return val\n",
    "        \n",
    "def add_set(vSet, val):\n",
    "    ''' add an element to a set '''\n",
    "    vSet.add(val)\n",
    "    \n",
    "def add_list(vList, val):\n",
    "    ''' append an element to a list '''\n",
    "    vList.append(val)\n",
    "        "
   ]
  },
  {
   "cell_type": "markdown",
   "metadata": {},
   "source": [
    "###Extract encode variable list and generate feature space"
   ]
  },
  {
   "cell_type": "code",
   "execution_count": 3,
   "metadata": {
    "collapsed": true
   },
   "outputs": [],
   "source": [
    "plan = json.load(open('plan.json'))   \n",
    "drug = json.load(open('drug.json'))\n",
    "drug_plan_data={'plan':plan,'drug':drug}"
   ]
  },
  {
   "cell_type": "code",
   "execution_count": 43,
   "metadata": {
    "collapsed": false
   },
   "outputs": [
    {
     "data": {
      "text/plain": [
       "{u'drug/properties/plans/properties/drug_tier': [u'BRAND',\n",
       "  u'SPECIALTY',\n",
       "  u'VALUE',\n",
       "  u'MEDICAL-SERVICE-DRUGS',\n",
       "  u'PREFERRED',\n",
       "  u'PREVENTIVE',\n",
       "  u'SELECT'],\n",
       " u'drug/properties/plans/properties/plan_id': [u'73836AK0840001',\n",
       "  u'73836AK0850001',\n",
       "  u'73836AK0850002',\n",
       "  u'73836AK0790001',\n",
       "  u'73836AK0790002',\n",
       "  u'73836AK0860001',\n",
       "  u'73836AK0750004',\n",
       "  u'73836AK0750001',\n",
       "  u'73836AK0860002',\n",
       "  u'73836AK0750003',\n",
       "  u'73836AK0750002'],\n",
       " u'drug/properties/plans/properties/prior_authorization': [False, True],\n",
       " u'drug/properties/plans/properties/quantity_limit': [False, True],\n",
       " u'drug/properties/plans/properties/step_therapy': [False, True],\n",
       " u'plan/properties/formulary/properties/cost_sharing/properties/coinsurance_opt': [u'AFTER-DEDUCTIBLE',\n",
       "  None],\n",
       " u'plan/properties/formulary/properties/cost_sharing/properties/coinsurance_rate': [0.0,\n",
       "  0.4,\n",
       "  0.3,\n",
       "  0.15,\n",
       "  0.45,\n",
       "  0.35],\n",
       " u'plan/properties/formulary/properties/cost_sharing/properties/copay_amount': [0.0,\n",
       "  6.0,\n",
       "  135.0,\n",
       "  45.0,\n",
       "  18.0,\n",
       "  180.0,\n",
       "  90.0,\n",
       "  60.0,\n",
       "  30.0],\n",
       " u'plan/properties/formulary/properties/cost_sharing/properties/copay_opt': [u'NO-CHARGE',\n",
       "  u'BEFORE-DEDUCTIBLE'],\n",
       " u'plan/properties/formulary/properties/cost_sharing/properties/pharmacy_type': [u'3-MONTH-IN-MAIL',\n",
       "  u'3-MONTH-IN-RETAIL',\n",
       "  u'1-MONTH-IN-RETAIL',\n",
       "  u'3-MONTH-OUT-RETAIL'],\n",
       " u'plan/properties/formulary/properties/drug_tier': [u'BRAND',\n",
       "  u'SPECIALTY',\n",
       "  u'VALUE',\n",
       "  u'MEDICAL-SERVICE-DRUGS',\n",
       "  u'PREFERRED',\n",
       "  u'PREVENTIVE',\n",
       "  u'SELECT'],\n",
       " u'plan/properties/formulary/properties/mail_order': [True],\n",
       " u'plan/properties/network/properties/network_tier': [u'PREFERRED'],\n",
       " u'plan/properties/plan_id': [u'21989AK0070001',\n",
       "  u'73836AK0840001',\n",
       "  u'73836AK0850001',\n",
       "  u'73836AK0850002',\n",
       "  u'73836AK0790001',\n",
       "  u'73836AK0790002',\n",
       "  u'73836AK0860001',\n",
       "  u'21989AK0050001',\n",
       "  u'73836AK0750004',\n",
       "  u'21989AK0050002',\n",
       "  u'21989AK0030001',\n",
       "  u'73836AK0750001',\n",
       "  u'73836AK0860002',\n",
       "  u'73836AK0750003',\n",
       "  u'73836AK0750002'],\n",
       " u'plan/properties/plan_id_type': [u'HIOS-PLAN-ID']}"
      ]
     },
     "execution_count": 43,
     "metadata": {},
     "output_type": "execute_result"
    }
   ],
   "source": [
    "# read file\n",
    "encode = json.load(open('encode2.json'))\n",
    "\n",
    "encode_list = getEncodeFields(encode, {})\n",
    "\n",
    "# encode_list\n",
    "feature_space = {k : list(getFieldValue(drug_plan_data, k.split('/'), Set(), add_set)) \\\n",
    "                 for k,v in encode_list.items()} # if v == 'string'}\n",
    "\n",
    "feature_space"
   ]
  },
  {
   "cell_type": "markdown",
   "metadata": {},
   "source": [
    "###Investigate cost sharing policy for each drug tier"
   ]
  },
  {
   "cell_type": "code",
   "execution_count": 6,
   "metadata": {
    "collapsed": false,
    "scrolled": false
   },
   "outputs": [
    {
     "name": "stdout",
     "output_type": "stream",
     "text": [
      "[u'3-MONTH-IN-MAIL/None/BEFORE-DEDUCTIBLE', u'3-MONTH-IN-RETAIL/None/BEFORE-DEDUCTIBLE', u'3-MONTH-OUT-RETAIL/None/BEFORE-DEDUCTIBLE']\n",
      "[u'3-MONTH-IN-MAIL/None/BEFORE-DEDUCTIBLE', u'3-MONTH-IN-RETAIL/None/BEFORE-DEDUCTIBLE', u'3-MONTH-OUT-RETAIL/None/BEFORE-DEDUCTIBLE']\n",
      "[u'3-MONTH-IN-MAIL/None/BEFORE-DEDUCTIBLE', u'3-MONTH-IN-RETAIL/None/BEFORE-DEDUCTIBLE', u'3-MONTH-OUT-RETAIL/None/BEFORE-DEDUCTIBLE']\n",
      "[u'3-MONTH-IN-MAIL/None/BEFORE-DEDUCTIBLE', u'3-MONTH-IN-RETAIL/None/BEFORE-DEDUCTIBLE', u'3-MONTH-OUT-RETAIL/None/BEFORE-DEDUCTIBLE']\n",
      "[u'3-MONTH-IN-MAIL/None/BEFORE-DEDUCTIBLE', u'3-MONTH-IN-RETAIL/None/BEFORE-DEDUCTIBLE', u'3-MONTH-OUT-RETAIL/None/BEFORE-DEDUCTIBLE']\n",
      "[u'3-MONTH-IN-MAIL/None/NO-CHARGE', u'3-MONTH-IN-RETAIL/None/BEFORE-DEDUCTIBLE', u'3-MONTH-OUT-RETAIL/None/BEFORE-DEDUCTIBLE']\n",
      "[u'3-MONTH-IN-MAIL/None/NO-CHARGE', u'3-MONTH-IN-RETAIL/None/BEFORE-DEDUCTIBLE', u'3-MONTH-OUT-RETAIL/None/BEFORE-DEDUCTIBLE']\n",
      "[u'3-MONTH-IN-MAIL/None/BEFORE-DEDUCTIBLE', u'3-MONTH-IN-RETAIL/None/BEFORE-DEDUCTIBLE', u'3-MONTH-OUT-RETAIL/None/BEFORE-DEDUCTIBLE']\n",
      "[u'3-MONTH-IN-MAIL/None/BEFORE-DEDUCTIBLE', u'3-MONTH-IN-RETAIL/None/BEFORE-DEDUCTIBLE', u'3-MONTH-OUT-RETAIL/None/BEFORE-DEDUCTIBLE']\n",
      "[u'3-MONTH-IN-MAIL/None/NO-CHARGE', u'3-MONTH-IN-RETAIL/AFTER-DEDUCTIBLE/NO-CHARGE', u'3-MONTH-OUT-RETAIL/AFTER-DEDUCTIBLE/NO-CHARGE']\n",
      "[u'3-MONTH-IN-MAIL/None/NO-CHARGE', u'3-MONTH-IN-RETAIL/AFTER-DEDUCTIBLE/NO-CHARGE', u'3-MONTH-OUT-RETAIL/AFTER-DEDUCTIBLE/NO-CHARGE']\n"
     ]
    }
   ],
   "source": [
    "len(drug_plan_data['plan'])\n",
    "for p in drug_plan_data['plan']:\n",
    "#     print [f['drug_tier'] for f in p['formulary']]\n",
    "    for f in p['formulary']:\n",
    "        if f['drug_tier']=='VALUE':\n",
    "            print [c['pharmacy_type']+'/'+str(c['coinsurance_opt'])+'/'+c['copay_opt'] for c in f['cost_sharing']] \n",
    "#     print '\\n'\n"
   ]
  },
  {
   "cell_type": "markdown",
   "metadata": {
    "collapsed": false
   },
   "source": [
    "###Generate integer feature vector for plan data"
   ]
  },
  {
   "cell_type": "code",
   "execution_count": 47,
   "metadata": {
    "collapsed": false
   },
   "outputs": [
    {
     "name": "stdout",
     "output_type": "stream",
     "text": [
      "plan/properties/formulary/properties/cost_sharing/properties/pharmacy_type\n",
      "plan/properties/formulary/properties/drug_tier\n",
      "plan/properties/network/properties/network_tier\n",
      "plan/properties/formulary/properties/cost_sharing/properties/coinsurance_rate\n",
      "plan/properties/plan_id\n",
      "plan/properties/plan_id_type\n",
      "plan/properties/formulary/properties/mail_order\n",
      "plan/properties/formulary/properties/cost_sharing/properties/coinsurance_opt\n",
      "plan/properties/formulary/properties/cost_sharing/properties/copay_opt\n",
      "plan/properties/formulary/properties/cost_sharing/properties/copay_amount\n"
     ]
    }
   ],
   "source": [
    "def getIntegerFeature(dataJsonList, dataType, featureSpace, encodeDefinition):\n",
    "    ''' extract the features from json list \n",
    "    and convert to integer (for string) based on feature space index '''\n",
    "    features = {}\n",
    "\n",
    "    for k,v in featureSpace.items():\n",
    "        if not k.startswith(dataType):\n",
    "            continue\n",
    "        print k\n",
    "        # we want feature for each record (plan, drug etc.), so exclude the first 2 key component\n",
    "        path = k.split('/')[2:]    \n",
    "        # use integer representation for categorical variable, and keep raw value for bool and float\n",
    "        features[k] = [[v.index(x) for x in getFieldValue(r, path, [], add_list)] \\\n",
    "                       if encodeDefinition[k] == 'string' \\ \n",
    "                       else getFieldValue(r, path, [], add_list) for r in dataJsonList]\n",
    "    \n",
    "    return features\n",
    "\n",
    "plan_int_features = getIntegerFeature(drug_plan_data['plan'], 'plan', feature_space, encode_list)"
   ]
  },
  {
   "cell_type": "code",
   "execution_count": 246,
   "metadata": {
    "collapsed": false
   },
   "outputs": [
    {
     "data": {
      "text/plain": [
       "[[6, 4, 0, 1, 5, 2, 3],\n",
       " [6, 4, 0, 1, 5, 2, 3],\n",
       " [6, 4, 0, 1, 5, 2, 3],\n",
       " [6, 4, 0, 1, 5, 2, 3],\n",
       " [6, 4, 0, 1, 5, 2, 3],\n",
       " [6, 4, 0, 1, 5, 2, 3],\n",
       " [6, 4, 0, 1, 5, 2, 3],\n",
       " [6, 4, 0, 1, 5, 2, 3],\n",
       " [6, 4, 0, 1, 5, 2, 3],\n",
       " [6, 4, 0, 1, 5, 2, 3],\n",
       " [6, 4, 0, 1, 5, 2, 3],\n",
       " [],\n",
       " [],\n",
       " [],\n",
       " []]"
      ]
     },
     "execution_count": 246,
     "metadata": {},
     "output_type": "execute_result"
    }
   ],
   "source": [
    "# plan_int_features['plan/properties/plan_id']\n",
    "plan_int_features['plan/properties/formulary/properties/drug_tier']\n",
    "# plan_int_features['plan/properties/formulary/properties/cost_sharing/properties/copay_amount']"
   ]
  },
  {
   "cell_type": "markdown",
   "metadata": {},
   "source": [
    "###Assemble plan feature"
   ]
  },
  {
   "cell_type": "code",
   "execution_count": 340,
   "metadata": {
    "collapsed": false
   },
   "outputs": [],
   "source": [
    "def assemblePlanFeature(intFea, feaSpace, encodeDef, planIdKey = 'plan/properties/plan_id'):\n",
    "    '''  '''\n",
    "    plan_names = feaSpace[planIdKey]\n",
    "    plan_fea = {plan_names[x[0]]:[] for x in intFea[planIdKey]}\n",
    "    cat_index = []\n",
    "    for k,v in intFea.items():\n",
    "        if k == planIdKey:\n",
    "            continue\n",
    "        if encode_list[k] == 'string':\n",
    "            cat_index += [max(len(z) for z in plan_fea.values()) + x for x in range(max(len(y) for y in v))]\n",
    "        for p,f in zip(intFea[planIdKey], v):\n",
    "            plan_fea[plan_names[p[0]]] += f\n",
    "    \n",
    "    return plan_fea, cat_index\n",
    "    \n",
    "plan_feature, plan_cat = assemblePlanFeature(plan_int_features, feature_space, encode_list)"
   ]
  },
  {
   "cell_type": "markdown",
   "metadata": {},
   "source": [
    "###Generate integer feature vector for drug"
   ]
  },
  {
   "cell_type": "code",
   "execution_count": 7,
   "metadata": {
    "collapsed": false,
    "scrolled": false
   },
   "outputs": [],
   "source": [
    "# check size of feature vector of each plan\n",
    "# [len(x) for x in features]\n",
    "\n",
    "# 266 is a special where the drug is available on 2 tiers\n",
    "j = [len(d['plans']) for d in drug_plan_data['drug']].index(22)\n",
    "# drug_plan_data['drug'][j]['plans']"
   ]
  },
  {
   "cell_type": "code",
   "execution_count": 280,
   "metadata": {
    "collapsed": false
   },
   "outputs": [
    {
     "data": {
      "text/plain": [
       "[[11],\n",
       " [14],\n",
       " [13],\n",
       " [8],\n",
       " [1],\n",
       " [2],\n",
       " [3],\n",
       " [6],\n",
       " [12],\n",
       " [4],\n",
       " [5],\n",
       " [10],\n",
       " [7],\n",
       " [9],\n",
       " [0]]"
      ]
     },
     "execution_count": 280,
     "metadata": {},
     "output_type": "execute_result"
    }
   ],
   "source": [
    "encode_list\n",
    "plan_int_features['plan/properties/plan_id']"
   ]
  },
  {
   "cell_type": "code",
   "execution_count": 51,
   "metadata": {
    "collapsed": false
   },
   "outputs": [
    {
     "name": "stdout",
     "output_type": "stream",
     "text": [
      "drug/properties/plans/properties/prior_authorization\n",
      "drug/properties/plans/properties/plan_id\n",
      "drug/properties/plans/properties/step_therapy\n",
      "drug/properties/plans/properties/quantity_limit\n",
      "drug/properties/plans/properties/drug_tier\n"
     ]
    }
   ],
   "source": [
    "# plan_int_features[1]\n",
    "drug_int_features = getIntegerFeature(drug_plan_data['drug'], 'drug', feature_space, encode_list)\n"
   ]
  },
  {
   "cell_type": "code",
   "execution_count": 150,
   "metadata": {
    "collapsed": false
   },
   "outputs": [],
   "source": [
    "# drug_int_features['drug/properties/plans/properties/drug_tier']\n",
    "a=[[[y] for y in x] for x in drug_int_features['drug/properties/plans/properties/quantity_limit']]\n",
    "b=[[[y] for y in x] for x in drug_int_features['drug/properties/plans/properties/drug_tier']]\n",
    "c=[[[y] for y in x] for x in drug_int_features['drug/properties/plans/properties/plan_id']]\n",
    "d=[[[y] for y in x] for x in drug_int_features['drug/properties/plans/properties/step_therapy']]\n",
    "c=[np.hstack(t) for t in zip(c,a,b,d)]"
   ]
  },
  {
   "cell_type": "code",
   "execution_count": 203,
   "metadata": {
    "collapsed": false
   },
   "outputs": [
    {
     "data": {
      "text/plain": [
       "array([[ 0.,  0.,  0.,  6.],\n",
       "       [ 0.,  0.,  0.,  6.],\n",
       "       [ 0.,  0.,  0.,  6.],\n",
       "       [ 0.,  0.,  0.,  6.],\n",
       "       [ 0.,  0.,  0.,  6.],\n",
       "       [ 0.,  0.,  0.,  6.],\n",
       "       [ 0.,  0.,  0.,  6.],\n",
       "       [ 0.,  0.,  0.,  6.],\n",
       "       [ 0.,  0.,  0.,  6.],\n",
       "       [ 0.,  0.,  0.,  6.],\n",
       "       [ 0.,  0.,  0.,  6.]])"
      ]
     },
     "execution_count": 203,
     "metadata": {},
     "output_type": "execute_result"
    }
   ],
   "source": [
    "drug_fea = [[]] * 11\n",
    "df=xyz[0][xyz[0][:,0].argsort(),1:]\n",
    "np.hstack((drug_fea,df))"
   ]
  },
  {
   "cell_type": "markdown",
   "metadata": {
    "collapsed": true
   },
   "source": [
    "###Assemble drug feature"
   ]
  },
  {
   "cell_type": "code",
   "execution_count": 318,
   "metadata": {
    "collapsed": false
   },
   "outputs": [],
   "source": [
    "def assembleDrugFeature(intFea, feaSpace, encodeDef, planIdKey = 'drug/properties/plans/properties/plan_id'):\n",
    "    ''' assemble integer feature together for each plan,\n",
    "        for each plan, the vector shows features for all drugs\n",
    "    '''\n",
    "    p_id = intFea[planIdKey]\n",
    "    n_plan = max([max(x) for x in p_id]) + 1\n",
    "    drug_fea = [[]] * n_plan\n",
    "    # generate array for combine\n",
    "    comb_fea = ([[[y] for y in x] for x in v] for k,v in intFea.items() if k != planIdKey)\n",
    "    # put plan ID at first\n",
    "    fea = [[[y] for y in x] for x in intFea[planIdKey]]\n",
    "    # combine feature for each drug\n",
    "    for f in comb_fea:\n",
    "        fea = [np.hstack(t) for t in zip(fea, f)]\n",
    "    # combine drugs for each plan\n",
    "    cat_index = range(3, 4*len(fea), 4)\n",
    "    for f in fea:\n",
    "        index = [np.where(f[:,0]==i)[0][0] for i in range(n_plan)] if len(f) != n_plan else f[:,0].argsort()\n",
    "        drug_fea = np.hstack((drug_fea, f[index, 1:]))\n",
    "    return {feaSpace[planIdKey][i]:drug_fea[i] for i in range(len(drug_fea))}, cat_index\n",
    "    \n"
   ]
  },
  {
   "cell_type": "code",
   "execution_count": 327,
   "metadata": {
    "collapsed": false
   },
   "outputs": [
    {
     "name": "stdout",
     "output_type": "stream",
     "text": [
      "[ 6.  0.  4. ...,  0.  0.  6.]\n"
     ]
    }
   ],
   "source": [
    "# drug_feature, drug_cat = assembleDrugFeature(drug_int_features, feature_space, encode_list)\n",
    "\n",
    "# drug_feature\n",
    "# drug_int_features\n",
    "\n",
    "drug_feature.values()[0][drug_cat]"
   ]
  },
  {
   "cell_type": "markdown",
   "metadata": {
    "collapsed": true
   },
   "source": [
    "### Combine plan and drug feature for common plan ID"
   ]
  },
  {
   "cell_type": "code",
   "execution_count": 341,
   "metadata": {
    "collapsed": false
   },
   "outputs": [
    {
     "data": {
      "text/plain": [
       "[35327, 35327, 35327, 35327, 35327, 35327, 35327, 35327, 35327, 35327, 35327]"
      ]
     },
     "execution_count": 341,
     "metadata": {},
     "output_type": "execute_result"
    }
   ],
   "source": [
    "feature = []\n",
    "n_pf = len(plan_feature.values()[0])\n",
    "\n",
    "for p,df in drug_feature.items():\n",
    "    pf = plan_feature[p]\n",
    "    pf.extend(df)\n",
    "    feature.append(pf)\n",
    "    \n",
    "\n",
    "cat_index = plan_cat + [x+n_pf for x in drug_cat]"
   ]
  },
  {
   "cell_type": "markdown",
   "metadata": {},
   "source": [
    "###One-hot-encode"
   ]
  },
  {
   "cell_type": "code",
   "execution_count": 348,
   "metadata": {
    "collapsed": false
   },
   "outputs": [],
   "source": [
    "from sklearn.preprocessing import OneHotEncoder\n",
    "enc = OneHotEncoder(categorical_features=cat_index)\n",
    "encode_feature = enc.fit_transform(feature)  "
   ]
  },
  {
   "cell_type": "code",
   "execution_count": 349,
   "metadata": {
    "collapsed": false
   },
   "outputs": [
    {
     "data": {
      "text/plain": [
       "<11x35345 sparse matrix of type '<type 'numpy.float64'>'\n",
       "\twith 130289 stored elements in COOrdinate format>"
      ]
     },
     "execution_count": 349,
     "metadata": {},
     "output_type": "execute_result"
    }
   ],
   "source": [
    "encode_feature"
   ]
  },
  {
   "cell_type": "code",
   "execution_count": null,
   "metadata": {
    "collapsed": false
   },
   "outputs": [],
   "source": []
  }
 ],
 "metadata": {
  "kernelspec": {
   "display_name": "Python 2",
   "language": "python",
   "name": "python2"
  },
  "language_info": {
   "codemirror_mode": {
    "name": "ipython",
    "version": 2
   },
   "file_extension": ".py",
   "mimetype": "text/x-python",
   "name": "python",
   "nbconvert_exporter": "python",
   "pygments_lexer": "ipython2",
   "version": "2.7.9"
  }
 },
 "nbformat": 4,
 "nbformat_minor": 0
}
